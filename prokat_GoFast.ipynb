{
 "cells": [
  {
   "cell_type": "markdown",
   "id": "dedfc8aa",
   "metadata": {},
   "source": [
    "# Статистический анализ данных сервиса проката самокатов GoFast"
   ]
  },
  {
   "cell_type": "markdown",
   "id": "3ae25fdc",
   "metadata": {},
   "source": [
    "**Описание проекта:** Вам передали данные о некоторых пользователях из нескольких городов, а также об их поездках. Проанализируйте данные и проверьте некоторые гипотезы, которые могут помочь бизнесу вырасти. Чтобы совершать поездки по городу, пользователи сервиса GoFast пользуются мобильным приложением.\n",
    "\n",
    "**Цель проекта:** Определение различий между пользователями с подпиской и без нее для составления рекомендаций сервису по прокату самокатов для увеличения выручки.\n",
    "\n",
    "**Ход исследования:**\n",
    "1. Подготовка данных - загрузка и изучение общей информации из предоставленных датасетов.\n",
    "2. Предобработка данных - поиск пропущенных значений, дубликатов, корректировка типов данных.\n",
    "3. Расширение набора данных - добавление новых столбцов, таких как номер месяца, помесячная выручка за каждого пользователя по месяцам.\n",
    "4. Исследовательский анализ данных - изучение распределений пользователей по городам, по возрасту, наличию подписки, проезжаемому расстоянию и затраченному времени.\n",
    "5. Проверка гипотез - проверка гипотез о том тратят ли пользователи с подпиской больше времени на поездки, проезжают ли больше оптимального расстояния для самоката и приносят ли такие пользователи сервису больше выручки, чем пользователи без подписки.\n",
    "\n",
    "**Общий вывод:** рекомендации сервису по увеличению выручки."
   ]
  },
  {
   "cell_type": "code",
   "execution_count": 1,
   "id": "f2473e53",
   "metadata": {},
   "outputs": [],
   "source": [
    "#импорт библиотек\n",
    "import pandas as pd \n",
    "import numpy as np \n",
    "from scipy import stats as st\n",
    "from matplotlib import pyplot as plt \n",
    "from math import sqrt \n",
    "import seaborn as sns"
   ]
  },
  {
   "cell_type": "markdown",
   "id": "c42cbe00",
   "metadata": {},
   "source": [
    "## Обзор данных"
   ]
  },
  {
   "cell_type": "code",
   "execution_count": 2,
   "id": "eff9f206",
   "metadata": {},
   "outputs": [],
   "source": [
    "user_go = pd.read_csv('./users_go.csv') #загрузка датафрейма с данными о пользователях\n",
    "rides_go = pd.read_csv('./rides_go.csv', parse_dates=['date']) #загрузка датафрейма с данными о поездках\n",
    "subscription_go = pd.read_csv('./subscriptions_go.csv') #загрузка датафрейма с данными о подписках"
   ]
  },
  {
   "cell_type": "code",
   "execution_count": 3,
   "id": "6499879d",
   "metadata": {},
   "outputs": [
    {
     "name": "stdout",
     "output_type": "stream",
     "text": [
      "<class 'pandas.core.frame.DataFrame'>\n",
      "RangeIndex: 1565 entries, 0 to 1564\n",
      "Data columns (total 5 columns):\n",
      " #   Column             Non-Null Count  Dtype \n",
      "---  ------             --------------  ----- \n",
      " 0   user_id            1565 non-null   int64 \n",
      " 1   name               1565 non-null   object\n",
      " 2   age                1565 non-null   int64 \n",
      " 3   city               1565 non-null   object\n",
      " 4   subscription_type  1565 non-null   object\n",
      "dtypes: int64(2), object(3)\n",
      "memory usage: 61.3+ KB\n"
     ]
    },
    {
     "data": {
      "text/html": [
       "<div>\n",
       "<style scoped>\n",
       "    .dataframe tbody tr th:only-of-type {\n",
       "        vertical-align: middle;\n",
       "    }\n",
       "\n",
       "    .dataframe tbody tr th {\n",
       "        vertical-align: top;\n",
       "    }\n",
       "\n",
       "    .dataframe thead th {\n",
       "        text-align: right;\n",
       "    }\n",
       "</style>\n",
       "<table border=\"1\" class=\"dataframe\">\n",
       "  <thead>\n",
       "    <tr style=\"text-align: right;\">\n",
       "      <th></th>\n",
       "      <th>user_id</th>\n",
       "      <th>name</th>\n",
       "      <th>age</th>\n",
       "      <th>city</th>\n",
       "      <th>subscription_type</th>\n",
       "    </tr>\n",
       "  </thead>\n",
       "  <tbody>\n",
       "    <tr>\n",
       "      <th>0</th>\n",
       "      <td>1</td>\n",
       "      <td>Кира</td>\n",
       "      <td>22</td>\n",
       "      <td>Тюмень</td>\n",
       "      <td>ultra</td>\n",
       "    </tr>\n",
       "    <tr>\n",
       "      <th>1</th>\n",
       "      <td>2</td>\n",
       "      <td>Станислав</td>\n",
       "      <td>31</td>\n",
       "      <td>Омск</td>\n",
       "      <td>ultra</td>\n",
       "    </tr>\n",
       "    <tr>\n",
       "      <th>2</th>\n",
       "      <td>3</td>\n",
       "      <td>Алексей</td>\n",
       "      <td>20</td>\n",
       "      <td>Москва</td>\n",
       "      <td>ultra</td>\n",
       "    </tr>\n",
       "    <tr>\n",
       "      <th>3</th>\n",
       "      <td>4</td>\n",
       "      <td>Константин</td>\n",
       "      <td>26</td>\n",
       "      <td>Ростов-на-Дону</td>\n",
       "      <td>ultra</td>\n",
       "    </tr>\n",
       "    <tr>\n",
       "      <th>4</th>\n",
       "      <td>5</td>\n",
       "      <td>Адель</td>\n",
       "      <td>28</td>\n",
       "      <td>Омск</td>\n",
       "      <td>ultra</td>\n",
       "    </tr>\n",
       "  </tbody>\n",
       "</table>\n",
       "</div>"
      ],
      "text/plain": [
       "   user_id        name  age            city subscription_type\n",
       "0        1        Кира   22          Тюмень             ultra\n",
       "1        2   Станислав   31            Омск             ultra\n",
       "2        3     Алексей   20          Москва             ultra\n",
       "3        4  Константин   26  Ростов-на-Дону             ultra\n",
       "4        5       Адель   28            Омск             ultra"
      ]
     },
     "execution_count": 3,
     "metadata": {},
     "output_type": "execute_result"
    }
   ],
   "source": [
    "user_go.info()\n",
    "user_go.head() "
   ]
  },
  {
   "cell_type": "code",
   "execution_count": 4,
   "id": "fa5a1386",
   "metadata": {},
   "outputs": [
    {
     "name": "stdout",
     "output_type": "stream",
     "text": [
      "<class 'pandas.core.frame.DataFrame'>\n",
      "RangeIndex: 18068 entries, 0 to 18067\n",
      "Data columns (total 4 columns):\n",
      " #   Column    Non-Null Count  Dtype         \n",
      "---  ------    --------------  -----         \n",
      " 0   user_id   18068 non-null  int64         \n",
      " 1   distance  18068 non-null  float64       \n",
      " 2   duration  18068 non-null  float64       \n",
      " 3   date      18068 non-null  datetime64[ns]\n",
      "dtypes: datetime64[ns](1), float64(2), int64(1)\n",
      "memory usage: 564.8 KB\n"
     ]
    },
    {
     "data": {
      "text/html": [
       "<div>\n",
       "<style scoped>\n",
       "    .dataframe tbody tr th:only-of-type {\n",
       "        vertical-align: middle;\n",
       "    }\n",
       "\n",
       "    .dataframe tbody tr th {\n",
       "        vertical-align: top;\n",
       "    }\n",
       "\n",
       "    .dataframe thead th {\n",
       "        text-align: right;\n",
       "    }\n",
       "</style>\n",
       "<table border=\"1\" class=\"dataframe\">\n",
       "  <thead>\n",
       "    <tr style=\"text-align: right;\">\n",
       "      <th></th>\n",
       "      <th>user_id</th>\n",
       "      <th>distance</th>\n",
       "      <th>duration</th>\n",
       "      <th>date</th>\n",
       "    </tr>\n",
       "  </thead>\n",
       "  <tbody>\n",
       "    <tr>\n",
       "      <th>0</th>\n",
       "      <td>1</td>\n",
       "      <td>4409.919140</td>\n",
       "      <td>25.599769</td>\n",
       "      <td>2021-01-01</td>\n",
       "    </tr>\n",
       "    <tr>\n",
       "      <th>1</th>\n",
       "      <td>1</td>\n",
       "      <td>2617.592153</td>\n",
       "      <td>15.816871</td>\n",
       "      <td>2021-01-18</td>\n",
       "    </tr>\n",
       "    <tr>\n",
       "      <th>2</th>\n",
       "      <td>1</td>\n",
       "      <td>754.159807</td>\n",
       "      <td>6.232113</td>\n",
       "      <td>2021-04-20</td>\n",
       "    </tr>\n",
       "    <tr>\n",
       "      <th>3</th>\n",
       "      <td>1</td>\n",
       "      <td>2694.783254</td>\n",
       "      <td>18.511000</td>\n",
       "      <td>2021-08-11</td>\n",
       "    </tr>\n",
       "    <tr>\n",
       "      <th>4</th>\n",
       "      <td>1</td>\n",
       "      <td>4028.687306</td>\n",
       "      <td>26.265803</td>\n",
       "      <td>2021-08-28</td>\n",
       "    </tr>\n",
       "  </tbody>\n",
       "</table>\n",
       "</div>"
      ],
      "text/plain": [
       "   user_id     distance   duration       date\n",
       "0        1  4409.919140  25.599769 2021-01-01\n",
       "1        1  2617.592153  15.816871 2021-01-18\n",
       "2        1   754.159807   6.232113 2021-04-20\n",
       "3        1  2694.783254  18.511000 2021-08-11\n",
       "4        1  4028.687306  26.265803 2021-08-28"
      ]
     },
     "execution_count": 4,
     "metadata": {},
     "output_type": "execute_result"
    }
   ],
   "source": [
    "rides_go.info()\n",
    "rides_go.head()"
   ]
  },
  {
   "cell_type": "code",
   "execution_count": 5,
   "id": "0b1bf947",
   "metadata": {},
   "outputs": [
    {
     "name": "stdout",
     "output_type": "stream",
     "text": [
      "<class 'pandas.core.frame.DataFrame'>\n",
      "RangeIndex: 2 entries, 0 to 1\n",
      "Data columns (total 4 columns):\n",
      " #   Column             Non-Null Count  Dtype \n",
      "---  ------             --------------  ----- \n",
      " 0   subscription_type  2 non-null      object\n",
      " 1   minute_price       2 non-null      int64 \n",
      " 2   start_ride_price   2 non-null      int64 \n",
      " 3   subscription_fee   2 non-null      int64 \n",
      "dtypes: int64(3), object(1)\n",
      "memory usage: 192.0+ bytes\n"
     ]
    },
    {
     "data": {
      "text/html": [
       "<div>\n",
       "<style scoped>\n",
       "    .dataframe tbody tr th:only-of-type {\n",
       "        vertical-align: middle;\n",
       "    }\n",
       "\n",
       "    .dataframe tbody tr th {\n",
       "        vertical-align: top;\n",
       "    }\n",
       "\n",
       "    .dataframe thead th {\n",
       "        text-align: right;\n",
       "    }\n",
       "</style>\n",
       "<table border=\"1\" class=\"dataframe\">\n",
       "  <thead>\n",
       "    <tr style=\"text-align: right;\">\n",
       "      <th></th>\n",
       "      <th>subscription_type</th>\n",
       "      <th>minute_price</th>\n",
       "      <th>start_ride_price</th>\n",
       "      <th>subscription_fee</th>\n",
       "    </tr>\n",
       "  </thead>\n",
       "  <tbody>\n",
       "    <tr>\n",
       "      <th>0</th>\n",
       "      <td>free</td>\n",
       "      <td>8</td>\n",
       "      <td>50</td>\n",
       "      <td>0</td>\n",
       "    </tr>\n",
       "    <tr>\n",
       "      <th>1</th>\n",
       "      <td>ultra</td>\n",
       "      <td>6</td>\n",
       "      <td>0</td>\n",
       "      <td>199</td>\n",
       "    </tr>\n",
       "  </tbody>\n",
       "</table>\n",
       "</div>"
      ],
      "text/plain": [
       "  subscription_type  minute_price  start_ride_price  subscription_fee\n",
       "0              free             8                50                 0\n",
       "1             ultra             6                 0               199"
      ]
     },
     "execution_count": 5,
     "metadata": {},
     "output_type": "execute_result"
    }
   ],
   "source": [
    "subscription_go.info()\n",
    "subscription_go.head()"
   ]
  },
  {
   "cell_type": "markdown",
   "id": "4fc8ea15-a162-43a4-a26e-a0a0e22a28c1",
   "metadata": {},
   "source": [
    "- пропусков нет ни в одной таблице\n",
    "- все столбцы кроме `date` из таблицы `rides_go` имеют нужные типы данных\n",
    "- названия столбцов записаны корректно."
   ]
  },
  {
   "cell_type": "markdown",
   "id": "a950c620-eedd-4449-b1d1-2262f3b0bc0a",
   "metadata": {},
   "source": [
    "## Предобработка данных"
   ]
  },
  {
   "cell_type": "markdown",
   "id": "eddd5f68",
   "metadata": {},
   "source": [
    "### Округление значений в столбце duration датафрейма subscription_go"
   ]
  },
  {
   "cell_type": "code",
   "execution_count": 6,
   "id": "8d60a7a8",
   "metadata": {},
   "outputs": [],
   "source": [
    "rides_go['duration'] = np.ceil(rides_go['duration']) "
   ]
  },
  {
   "cell_type": "markdown",
   "id": "5541b29d",
   "metadata": {},
   "source": [
    "### Создание столбца с номером месяца в датафрейме rides_go"
   ]
  },
  {
   "cell_type": "code",
   "execution_count": 7,
   "id": "79767d32",
   "metadata": {},
   "outputs": [],
   "source": [
    "rides_go['month'] = rides_go['date'].dt.month #создание столбца с номером месяца поездки"
   ]
  },
  {
   "cell_type": "markdown",
   "id": "8d557bd2-dfb6-4e16-a2cd-1f9f5198f159",
   "metadata": {},
   "source": [
    "### Дубликаты"
   ]
  },
  {
   "cell_type": "code",
   "execution_count": 8,
   "id": "7d09d241",
   "metadata": {},
   "outputs": [
    {
     "data": {
      "text/plain": [
       "31"
      ]
     },
     "execution_count": 8,
     "metadata": {},
     "output_type": "execute_result"
    }
   ],
   "source": [
    "user_go.duplicated().sum() #поиск явных дубликатов в датафрейме user_go"
   ]
  },
  {
   "cell_type": "code",
   "execution_count": 9,
   "id": "6f9cd4be",
   "metadata": {},
   "outputs": [],
   "source": [
    "user_go = user_go.drop_duplicates().reset_index(drop=True) #удаление явных дубликатов в датафрейме user_go"
   ]
  },
  {
   "cell_type": "code",
   "execution_count": 10,
   "id": "963151b3",
   "metadata": {},
   "outputs": [
    {
     "data": {
      "text/plain": [
       "0"
      ]
     },
     "execution_count": 10,
     "metadata": {},
     "output_type": "execute_result"
    }
   ],
   "source": [
    "rides_go.duplicated().sum() #поиск явных дубликатов в датафрейме rides_go"
   ]
  },
  {
   "cell_type": "code",
   "execution_count": 11,
   "id": "fb29b4ed",
   "metadata": {},
   "outputs": [
    {
     "data": {
      "text/plain": [
       "0"
      ]
     },
     "execution_count": 11,
     "metadata": {},
     "output_type": "execute_result"
    }
   ],
   "source": [
    "subscription_go.duplicated().sum() #поиск явных дубликатов в датафрейме subscription_go"
   ]
  },
  {
   "cell_type": "markdown",
   "id": "5656842f",
   "metadata": {},
   "source": [
    "Явные дубликаты были найдены и удалены только в датафрейме user_go. В остальных датафреймах дубликатов обнаружено не было."
   ]
  },
  {
   "cell_type": "markdown",
   "id": "3733aed8",
   "metadata": {},
   "source": [
    "Таким образом, на этапе обработки данных были округлены значения в столбце duration датасета rides_go, создан новый столбец с номером месяца. Все датасеты проверены на наличие явных дубликатов. Явные дубликаты удалены из датасета user_go."
   ]
  },
  {
   "cell_type": "markdown",
   "id": "212593c7",
   "metadata": {},
   "source": [
    "## Исследовательский анализ данных"
   ]
  },
  {
   "cell_type": "markdown",
   "id": "6170ce54",
   "metadata": {},
   "source": [
    "### Частота встречаемости городов"
   ]
  },
  {
   "cell_type": "code",
   "execution_count": 12,
   "id": "6ae8a823-485a-4b05-8ae3-9780b3e63094",
   "metadata": {},
   "outputs": [
    {
     "data": {
      "image/png": "[encoded data removed]",
      "text/plain": [
       "<Figure size 640x480 with 1 Axes>"
      ]
     },
     "metadata": {},
     "output_type": "display_data"
    }
   ],
   "source": [
    "ax = user_go['city'].value_counts().plot(kind='bar', \n",
    "                                         title='Частота встречаемости городов', \n",
    "                                         ylabel='Частота', \n",
    "                                         xlabel='Город',\n",
    "                                         color = 'Indigo')\n",
    "ax.bar_label(ax.containers[0], fontsize=10);"
   ]
  },
  {
   "cell_type": "markdown",
   "id": "59ef5161",
   "metadata": {},
   "source": [
    "Наибольшее число пользователей приложения обитает в Пятигорске - 219 человек, наименьшее - в Москве - 168 человек."
   ]
  },
  {
   "cell_type": "markdown",
   "id": "2c682bb8",
   "metadata": {},
   "source": [
    "### Соотношение числа пользователей с подпиской и без"
   ]
  },
  {
   "cell_type": "code",
   "execution_count": 13,
   "id": "681529fe",
   "metadata": {},
   "outputs": [
    {
     "name": "stdout",
     "output_type": "stream",
     "text": [
      "Доля пользователей без подписки: 0.544\n",
      "Доля пользователей с подпиской: 0.456\n"
     ]
    }
   ],
   "source": [
    "user_free = (user_go.query('subscription_type == \"free\"').count()['user_id']) / (user_go.shape[0]) #расчет количества пользователей без подписки\n",
    "print('Доля пользователей без подписки:', round(user_free, 3)) #вывод доли пользователей без подписки \n",
    "print('Доля пользователей с подпиской:', round(1 - user_free, 3)) #вывод пользователей с подпиской"
   ]
  },
  {
   "cell_type": "code",
   "execution_count": 14,
   "id": "c5a5fe4c",
   "metadata": {},
   "outputs": [
    {
     "data": {
      "image/png": "[encoded data removed]",
      "text/plain": [
       "<Figure size 640x480 with 1 Axes>"
      ]
     },
     "metadata": {},
     "output_type": "display_data"
    }
   ],
   "source": [
    "user_fraction = [round(user_free, 3), round(1 - user_free, 3)] #создание списка с долями пользователей\n",
    "names = ['user_free', 'user_ultra'] #список подписей к частям \"пирога\"\n",
    "colors = ['#810f7c', '#63cde8']\n",
    "plt.title(\"Доли пользователей приложения\") #заголовок графика\n",
    "plt.pie(user_fraction, labels=names, autopct='%.1f', colors=colors); #вывод графика"
   ]
  },
  {
   "cell_type": "markdown",
   "id": "dc87377a",
   "metadata": {},
   "source": [
    "Доля пользователей с подпиской составляет около 46% - это чуть меньше, чем половина пользователей приложения."
   ]
  },
  {
   "cell_type": "markdown",
   "id": "dcf7ae9b",
   "metadata": {},
   "source": [
    "### Возраст пользователей"
   ]
  },
  {
   "cell_type": "code",
   "execution_count": 15,
   "id": "16799e5a-30db-44f1-9439-32477ccd34a5",
   "metadata": {},
   "outputs": [],
   "source": [
    "def graph_hist(data, column):\n",
    "    plt.figure(figsize=(8, 3))\n",
    "    plt.subplot(1, 2, 1)\n",
    "    plt.xlabel(f'Значения столбца {column}')\n",
    "    plt.ylabel('Частота')\n",
    "    plt.title(f'Распределение столбца {column}')\n",
    "    sns.histplot(data[column], color='MediumPurple', bins=20)\n",
    "    plt.subplot(1, 2, 2)\n",
    "    plt.xlabel(f'Значения столбца {column}')\n",
    "    plt.title(f'Распределение столбца {column}')\n",
    "    sns.boxplot(x=data[column], color='Indigo')"
   ]
  },
  {
   "cell_type": "code",
   "execution_count": 16,
   "id": "d2f05051",
   "metadata": {},
   "outputs": [
    {
     "data": {
      "text/plain": [
       "array([12, 13, 14, 15, 16, 17, 18, 19, 20, 21, 22, 23, 24, 25, 26, 27, 28,\n",
       "       29, 30, 31, 32, 33, 34, 35, 36, 37, 38, 39, 43])"
      ]
     },
     "execution_count": 16,
     "metadata": {},
     "output_type": "execute_result"
    }
   ],
   "source": [
    "user_go['age'].sort_values().unique() #уникальные значения возраста пользователей"
   ]
  },
  {
   "cell_type": "code",
   "execution_count": 17,
   "id": "782f1e65-4201-48c8-898b-f92e15942748",
   "metadata": {},
   "outputs": [
    {
     "data": {
      "image/png": "[encoded data removed]",
      "text/plain": [
       "<Figure size 800x300 with 2 Axes>"
      ]
     },
     "metadata": {},
     "output_type": "display_data"
    }
   ],
   "source": [
    "graph_hist(user_go, 'age')"
   ]
  },
  {
   "cell_type": "markdown",
   "id": "1c665099",
   "metadata": {},
   "source": [
    "Возраст пользователей составляет от 12 до 43 лет. Распределение пользователей по возрасту близко к нормальному распределению со средним возрастом около 24-25 лет. Число пользователeй после 35 лет очень невелико."
   ]
  },
  {
   "cell_type": "markdown",
   "id": "afc59210",
   "metadata": {},
   "source": [
    "### Расстояние за одну поездку"
   ]
  },
  {
   "cell_type": "code",
   "execution_count": 18,
   "id": "92280e40",
   "metadata": {},
   "outputs": [
    {
     "data": {
      "image/png": "[encoded data removed]",
      "text/plain": [
       "<Figure size 800x300 with 2 Axes>"
      ]
     },
     "metadata": {},
     "output_type": "display_data"
    }
   ],
   "source": [
    "graph_hist(rides_go, 'distance')"
   ]
  },
  {
   "cell_type": "code",
   "execution_count": 19,
   "id": "60934e5a",
   "metadata": {},
   "outputs": [
    {
     "data": {
      "text/plain": [
       "count    18068.000000\n",
       "mean      3070.659976\n",
       "std       1116.831209\n",
       "min          0.855683\n",
       "25%       2543.226360\n",
       "50%       3133.609994\n",
       "75%       3776.222735\n",
       "max       7211.007745\n",
       "Name: distance, dtype: float64"
      ]
     },
     "execution_count": 19,
     "metadata": {},
     "output_type": "execute_result"
    }
   ],
   "source": [
    "rides_go['distance'].describe()"
   ]
  },
  {
   "cell_type": "markdown",
   "id": "97acb7e2",
   "metadata": {},
   "source": [
    "Распределение расстояний за одну поездку близится к нормальному. Наблюдается проседание частот в области 1000-2000 м. Если посмотреть на график boxplot, то можно увидеть, что есть аномально коротки и аномально длинные поездки. Среднее (медианное) расстояние поездки составляет около 3100 м."
   ]
  },
  {
   "cell_type": "markdown",
   "id": "282e4e1b",
   "metadata": {},
   "source": [
    "### Продолжительность поездок"
   ]
  },
  {
   "cell_type": "code",
   "execution_count": 20,
   "id": "65e42471",
   "metadata": {},
   "outputs": [
    {
     "data": {
      "text/plain": [
       "array([ 1.,  3.,  4.,  5.,  6.,  7.,  8.,  9., 10., 11., 12., 13., 14.,\n",
       "       15., 16., 17., 18., 19., 20., 21., 22., 23., 24., 25., 26., 27.,\n",
       "       28., 29., 30., 31., 32., 33., 34., 35., 36., 37., 38., 39., 40.,\n",
       "       41.])"
      ]
     },
     "execution_count": 20,
     "metadata": {},
     "output_type": "execute_result"
    }
   ],
   "source": [
    "rides_go['duration'].sort_values().unique() #уникальные значения продолжительности поездок"
   ]
  },
  {
   "cell_type": "code",
   "execution_count": 21,
   "id": "8a025e81-4bce-4195-a3fc-5b1606fd5bf2",
   "metadata": {},
   "outputs": [
    {
     "data": {
      "image/png": "[encoded data removed]",
      "text/plain": [
       "<Figure size 800x300 with 2 Axes>"
      ]
     },
     "metadata": {},
     "output_type": "display_data"
    }
   ],
   "source": [
    "graph_hist(rides_go, 'duration')"
   ]
  },
  {
   "cell_type": "markdown",
   "id": "e0feb106",
   "metadata": {},
   "source": [
    "Распределение продолжительности представляет собой нормальное распределение со средней продолжительностью около 17 минут. По графику boxplot видно, что есть аномально короткие поездки продолжительностью 0,5 минуты, далее уже встречаются поездки от 2 минут. Возможно это поездки, когда пользователь решил поехать, взял самокат в аренду и тут же передумал, и для таких поездок ставится значение по умолчанию равное 30 секундам?"
   ]
  },
  {
   "cell_type": "markdown",
   "id": "4ef51331",
   "metadata": {},
   "source": [
    "## Объединение данных"
   ]
  },
  {
   "cell_type": "code",
   "execution_count": 22,
   "id": "985fe5d0",
   "metadata": {},
   "outputs": [
    {
     "name": "stdout",
     "output_type": "stream",
     "text": [
      "Количество строк датасета user_go: 1534\n",
      "Количество строк датасета rides_go: 18068\n",
      "Количество строк датасета subscription_go: 2\n"
     ]
    }
   ],
   "source": [
    "print('Количество строк датасета user_go:', user_go.shape[0])\n",
    "print('Количество строк датасета rides_go:', rides_go.shape[0])\n",
    "print('Количество строк датасета subscription_go:', subscription_go.shape[0])"
   ]
  },
  {
   "cell_type": "code",
   "execution_count": 23,
   "id": "6bf288b5",
   "metadata": {},
   "outputs": [
    {
     "name": "stdout",
     "output_type": "stream",
     "text": [
      "Количество строк датасета user_rides: 18068\n",
      "Количество строк датасета data: 18068\n"
     ]
    },
    {
     "data": {
      "text/plain": [
       "user_id              0\n",
       "name                 0\n",
       "age                  0\n",
       "city                 0\n",
       "subscription_type    0\n",
       "distance             0\n",
       "duration             0\n",
       "date                 0\n",
       "month                0\n",
       "minute_price         0\n",
       "start_ride_price     0\n",
       "subscription_fee     0\n",
       "dtype: int64"
      ]
     },
     "execution_count": 23,
     "metadata": {},
     "output_type": "execute_result"
    }
   ],
   "source": [
    "user_rides = user_go.merge(rides_go, on='user_id') #объединение user_go и rides_go\n",
    "print('Количество строк датасета user_rides:', user_rides.shape[0]) #проверка размера объединенного датасета\n",
    "data = user_rides.merge(subscription_go, on='subscription_type') #объединение с subscription_go\n",
    "print('Количество строк датасета data:', data.shape[0]) #проверка размера объединенного датасета\n",
    "data.isna().sum() #проверка полученного датасета на пропуски"
   ]
  },
  {
   "cell_type": "markdown",
   "id": "9ef4cd42",
   "metadata": {},
   "source": [
    "После объединения всех датасетов размер объединенного датасата равен размеру самого большого датасета - rides_go. Пропусков в полученном датасете не обнаружено."
   ]
  },
  {
   "cell_type": "code",
   "execution_count": 24,
   "id": "ede71985",
   "metadata": {},
   "outputs": [],
   "source": [
    "data_free = data.query('subscription_type == \"free\"') #создание датафрейма пользователей без подписки"
   ]
  },
  {
   "cell_type": "code",
   "execution_count": 25,
   "id": "4939d491",
   "metadata": {},
   "outputs": [],
   "source": [
    "data_ultra = data.query('subscription_type == \"ultra\"') #создание датафрейма пользователей с подпиской"
   ]
  },
  {
   "cell_type": "code",
   "execution_count": 26,
   "id": "ddcc385e-d626-485e-a314-bc4f94be99f1",
   "metadata": {},
   "outputs": [
    {
     "data": {
      "image/png": "[encoded data removed]",
      "text/plain": [
       "<Figure size 800x300 with 2 Axes>"
      ]
     },
     "metadata": {},
     "output_type": "display_data"
    }
   ],
   "source": [
    "graph_hist(data_free, 'distance')"
   ]
  },
  {
   "cell_type": "code",
   "execution_count": 27,
   "id": "23962f2c-efe7-49df-b5a1-1f56ea888498",
   "metadata": {},
   "outputs": [
    {
     "data": {
      "image/png": "[encoded data removed]",
      "text/plain": [
       "<Figure size 800x300 with 2 Axes>"
      ]
     },
     "metadata": {},
     "output_type": "display_data"
    }
   ],
   "source": [
    "graph_hist(data_ultra, 'distance')"
   ]
  },
  {
   "cell_type": "markdown",
   "id": "5ccb1991",
   "metadata": {},
   "source": [
    "Распределения расстояний для пользователей обеих групп схожи между собой."
   ]
  },
  {
   "cell_type": "code",
   "execution_count": 28,
   "id": "a20e4447-357f-41ce-a298-f1cd9f659a02",
   "metadata": {},
   "outputs": [
    {
     "data": {
      "image/png": "[encoded data removed]",
      "text/plain": [
       "<Figure size 800x300 with 2 Axes>"
      ]
     },
     "metadata": {},
     "output_type": "display_data"
    }
   ],
   "source": [
    "graph_hist(data_free, 'duration')"
   ]
  },
  {
   "cell_type": "code",
   "execution_count": 29,
   "id": "80ef2901-8420-4de9-97f4-c585544e5981",
   "metadata": {},
   "outputs": [
    {
     "data": {
      "image/png": "[encoded data removed]",
      "text/plain": [
       "<Figure size 800x300 with 2 Axes>"
      ]
     },
     "metadata": {},
     "output_type": "display_data"
    }
   ],
   "source": [
    "graph_hist(data_ultra, 'duration')"
   ]
  },
  {
   "cell_type": "markdown",
   "id": "9e75d4a5",
   "metadata": {},
   "source": [
    "Ранее выявленные аномально короткие поездки по 30 секунд относятся только к пользователям без подписки. Распределение продолжительности поездки представляет собой нормальное распределение для обоих групп пользователей. Средняя продолжительность поездки у пользователей с подпиской и без составляет около 17 минут. "
   ]
  },
  {
   "cell_type": "markdown",
   "id": "402d620f",
   "metadata": {},
   "source": [
    "## Подсчёт выручки"
   ]
  },
  {
   "cell_type": "code",
   "execution_count": 30,
   "id": "6ec63d97",
   "metadata": {},
   "outputs": [
    {
     "data": {
      "text/html": [
       "<div>\n",
       "<style scoped>\n",
       "    .dataframe tbody tr th:only-of-type {\n",
       "        vertical-align: middle;\n",
       "    }\n",
       "\n",
       "    .dataframe tbody tr th {\n",
       "        vertical-align: top;\n",
       "    }\n",
       "\n",
       "    .dataframe thead th {\n",
       "        text-align: right;\n",
       "    }\n",
       "</style>\n",
       "<table border=\"1\" class=\"dataframe\">\n",
       "  <thead>\n",
       "    <tr style=\"text-align: right;\">\n",
       "      <th></th>\n",
       "      <th></th>\n",
       "      <th>distance</th>\n",
       "      <th>rides_number</th>\n",
       "      <th>duration</th>\n",
       "      <th>minute_price</th>\n",
       "      <th>start_ride_price</th>\n",
       "      <th>subscription_fee</th>\n",
       "      <th>subscription_type</th>\n",
       "      <th>revenue</th>\n",
       "    </tr>\n",
       "    <tr>\n",
       "      <th>month</th>\n",
       "      <th>user_id</th>\n",
       "      <th></th>\n",
       "      <th></th>\n",
       "      <th></th>\n",
       "      <th></th>\n",
       "      <th></th>\n",
       "      <th></th>\n",
       "      <th></th>\n",
       "      <th></th>\n",
       "    </tr>\n",
       "  </thead>\n",
       "  <tbody>\n",
       "    <tr>\n",
       "      <th rowspan=\"5\" valign=\"top\">1</th>\n",
       "      <th>700</th>\n",
       "      <td>2515.690719</td>\n",
       "      <td>1</td>\n",
       "      <td>15.0</td>\n",
       "      <td>8.0</td>\n",
       "      <td>50.0</td>\n",
       "      <td>0.0</td>\n",
       "      <td>free</td>\n",
       "      <td>170.0</td>\n",
       "    </tr>\n",
       "    <tr>\n",
       "      <th>701</th>\n",
       "      <td>2676.472894</td>\n",
       "      <td>1</td>\n",
       "      <td>18.0</td>\n",
       "      <td>8.0</td>\n",
       "      <td>50.0</td>\n",
       "      <td>0.0</td>\n",
       "      <td>free</td>\n",
       "      <td>194.0</td>\n",
       "    </tr>\n",
       "    <tr>\n",
       "      <th>702</th>\n",
       "      <td>903.861985</td>\n",
       "      <td>1</td>\n",
       "      <td>16.0</td>\n",
       "      <td>8.0</td>\n",
       "      <td>50.0</td>\n",
       "      <td>0.0</td>\n",
       "      <td>free</td>\n",
       "      <td>178.0</td>\n",
       "    </tr>\n",
       "    <tr>\n",
       "      <th>703</th>\n",
       "      <td>3406.580225</td>\n",
       "      <td>1</td>\n",
       "      <td>24.0</td>\n",
       "      <td>8.0</td>\n",
       "      <td>50.0</td>\n",
       "      <td>0.0</td>\n",
       "      <td>free</td>\n",
       "      <td>242.0</td>\n",
       "    </tr>\n",
       "    <tr>\n",
       "      <th>704</th>\n",
       "      <td>3197.139639</td>\n",
       "      <td>1</td>\n",
       "      <td>18.0</td>\n",
       "      <td>8.0</td>\n",
       "      <td>50.0</td>\n",
       "      <td>0.0</td>\n",
       "      <td>free</td>\n",
       "      <td>194.0</td>\n",
       "    </tr>\n",
       "    <tr>\n",
       "      <th>...</th>\n",
       "      <th>...</th>\n",
       "      <td>...</td>\n",
       "      <td>...</td>\n",
       "      <td>...</td>\n",
       "      <td>...</td>\n",
       "      <td>...</td>\n",
       "      <td>...</td>\n",
       "      <td>...</td>\n",
       "      <td>...</td>\n",
       "    </tr>\n",
       "    <tr>\n",
       "      <th rowspan=\"5\" valign=\"top\">12</th>\n",
       "      <th>1525</th>\n",
       "      <td>4597.854350</td>\n",
       "      <td>1</td>\n",
       "      <td>34.0</td>\n",
       "      <td>8.0</td>\n",
       "      <td>50.0</td>\n",
       "      <td>0.0</td>\n",
       "      <td>free</td>\n",
       "      <td>322.0</td>\n",
       "    </tr>\n",
       "    <tr>\n",
       "      <th>1526</th>\n",
       "      <td>3644.121544</td>\n",
       "      <td>1</td>\n",
       "      <td>23.0</td>\n",
       "      <td>8.0</td>\n",
       "      <td>50.0</td>\n",
       "      <td>0.0</td>\n",
       "      <td>free</td>\n",
       "      <td>234.0</td>\n",
       "    </tr>\n",
       "    <tr>\n",
       "      <th>1528</th>\n",
       "      <td>3998.569324</td>\n",
       "      <td>1</td>\n",
       "      <td>11.0</td>\n",
       "      <td>8.0</td>\n",
       "      <td>50.0</td>\n",
       "      <td>0.0</td>\n",
       "      <td>free</td>\n",
       "      <td>138.0</td>\n",
       "    </tr>\n",
       "    <tr>\n",
       "      <th>1532</th>\n",
       "      <td>6111.889853</td>\n",
       "      <td>2</td>\n",
       "      <td>42.0</td>\n",
       "      <td>8.0</td>\n",
       "      <td>50.0</td>\n",
       "      <td>0.0</td>\n",
       "      <td>free</td>\n",
       "      <td>436.0</td>\n",
       "    </tr>\n",
       "    <tr>\n",
       "      <th>1534</th>\n",
       "      <td>2371.711192</td>\n",
       "      <td>1</td>\n",
       "      <td>16.0</td>\n",
       "      <td>8.0</td>\n",
       "      <td>50.0</td>\n",
       "      <td>0.0</td>\n",
       "      <td>free</td>\n",
       "      <td>178.0</td>\n",
       "    </tr>\n",
       "  </tbody>\n",
       "</table>\n",
       "<p>6798 rows × 8 columns</p>\n",
       "</div>"
      ],
      "text/plain": [
       "                  distance  rides_number  duration  minute_price  \\\n",
       "month user_id                                                      \n",
       "1     700      2515.690719             1      15.0           8.0   \n",
       "      701      2676.472894             1      18.0           8.0   \n",
       "      702       903.861985             1      16.0           8.0   \n",
       "      703      3406.580225             1      24.0           8.0   \n",
       "      704      3197.139639             1      18.0           8.0   \n",
       "...                    ...           ...       ...           ...   \n",
       "12    1525     4597.854350             1      34.0           8.0   \n",
       "      1526     3644.121544             1      23.0           8.0   \n",
       "      1528     3998.569324             1      11.0           8.0   \n",
       "      1532     6111.889853             2      42.0           8.0   \n",
       "      1534     2371.711192             1      16.0           8.0   \n",
       "\n",
       "               start_ride_price  subscription_fee subscription_type  revenue  \n",
       "month user_id                                                                 \n",
       "1     700                  50.0               0.0              free    170.0  \n",
       "      701                  50.0               0.0              free    194.0  \n",
       "      702                  50.0               0.0              free    178.0  \n",
       "      703                  50.0               0.0              free    242.0  \n",
       "      704                  50.0               0.0              free    194.0  \n",
       "...                         ...               ...               ...      ...  \n",
       "12    1525                 50.0               0.0              free    322.0  \n",
       "      1526                 50.0               0.0              free    234.0  \n",
       "      1528                 50.0               0.0              free    138.0  \n",
       "      1532                 50.0               0.0              free    436.0  \n",
       "      1534                 50.0               0.0              free    178.0  \n",
       "\n",
       "[6798 rows x 8 columns]"
      ]
     },
     "execution_count": 30,
     "metadata": {},
     "output_type": "execute_result"
    }
   ],
   "source": [
    "#создание агрегированного по месяцам датафрейма с общим длительностью, числом поездок \n",
    "#и общим временем поездок для каждого пользователя без подписки\n",
    "data_month_free = data_free.groupby(['month', 'user_id']).agg({'distance':'sum', \n",
    "                                                     'city':'count', \n",
    "                                                     'duration':'sum', \n",
    "                                                     'minute_price':'mean', \n",
    "                                                     'start_ride_price':'mean', \n",
    "                                                     'subscription_fee':'mean'}) \n",
    "data_month_free['subscription_type'] = 'free'\n",
    "data_month_free.columns = data_month_free.columns.str.replace('city', 'rides_number') #переименование столбца с количеством поездок\n",
    "\n",
    "#создание столбца с помесячной выручкой для каждого пользователя\n",
    "data_month_free['revenue'] = data_month_free['start_ride_price'] * data_month_free['rides_number'] + data_month_free['minute_price'] * data_month_free['duration'] + data_month_free['subscription_fee']\n",
    "data_month_free"
   ]
  },
  {
   "cell_type": "code",
   "execution_count": 31,
   "id": "9871ee57",
   "metadata": {},
   "outputs": [
    {
     "data": {
      "text/html": [
       "<div>\n",
       "<style scoped>\n",
       "    .dataframe tbody tr th:only-of-type {\n",
       "        vertical-align: middle;\n",
       "    }\n",
       "\n",
       "    .dataframe tbody tr th {\n",
       "        vertical-align: top;\n",
       "    }\n",
       "\n",
       "    .dataframe thead th {\n",
       "        text-align: right;\n",
       "    }\n",
       "</style>\n",
       "<table border=\"1\" class=\"dataframe\">\n",
       "  <thead>\n",
       "    <tr style=\"text-align: right;\">\n",
       "      <th></th>\n",
       "      <th></th>\n",
       "      <th>distance</th>\n",
       "      <th>rides_number</th>\n",
       "      <th>duration</th>\n",
       "      <th>minute_price</th>\n",
       "      <th>start_ride_price</th>\n",
       "      <th>subscription_fee</th>\n",
       "      <th>subscription_type</th>\n",
       "      <th>revenue</th>\n",
       "    </tr>\n",
       "    <tr>\n",
       "      <th>month</th>\n",
       "      <th>user_id</th>\n",
       "      <th></th>\n",
       "      <th></th>\n",
       "      <th></th>\n",
       "      <th></th>\n",
       "      <th></th>\n",
       "      <th></th>\n",
       "      <th></th>\n",
       "      <th></th>\n",
       "    </tr>\n",
       "  </thead>\n",
       "  <tbody>\n",
       "    <tr>\n",
       "      <th rowspan=\"5\" valign=\"top\">1</th>\n",
       "      <th>1</th>\n",
       "      <td>7027.511294</td>\n",
       "      <td>2</td>\n",
       "      <td>42.0</td>\n",
       "      <td>6.0</td>\n",
       "      <td>0.0</td>\n",
       "      <td>199.0</td>\n",
       "      <td>ultra</td>\n",
       "      <td>451.0</td>\n",
       "    </tr>\n",
       "    <tr>\n",
       "      <th>3</th>\n",
       "      <td>3061.777147</td>\n",
       "      <td>1</td>\n",
       "      <td>13.0</td>\n",
       "      <td>6.0</td>\n",
       "      <td>0.0</td>\n",
       "      <td>199.0</td>\n",
       "      <td>ultra</td>\n",
       "      <td>277.0</td>\n",
       "    </tr>\n",
       "    <tr>\n",
       "      <th>5</th>\n",
       "      <td>3914.646990</td>\n",
       "      <td>1</td>\n",
       "      <td>13.0</td>\n",
       "      <td>6.0</td>\n",
       "      <td>0.0</td>\n",
       "      <td>199.0</td>\n",
       "      <td>ultra</td>\n",
       "      <td>277.0</td>\n",
       "    </tr>\n",
       "    <tr>\n",
       "      <th>7</th>\n",
       "      <td>6478.080979</td>\n",
       "      <td>2</td>\n",
       "      <td>28.0</td>\n",
       "      <td>6.0</td>\n",
       "      <td>0.0</td>\n",
       "      <td>199.0</td>\n",
       "      <td>ultra</td>\n",
       "      <td>367.0</td>\n",
       "    </tr>\n",
       "    <tr>\n",
       "      <th>12</th>\n",
       "      <td>3577.151148</td>\n",
       "      <td>1</td>\n",
       "      <td>33.0</td>\n",
       "      <td>6.0</td>\n",
       "      <td>0.0</td>\n",
       "      <td>199.0</td>\n",
       "      <td>ultra</td>\n",
       "      <td>397.0</td>\n",
       "    </tr>\n",
       "    <tr>\n",
       "      <th>...</th>\n",
       "      <th>...</th>\n",
       "      <td>...</td>\n",
       "      <td>...</td>\n",
       "      <td>...</td>\n",
       "      <td>...</td>\n",
       "      <td>...</td>\n",
       "      <td>...</td>\n",
       "      <td>...</td>\n",
       "      <td>...</td>\n",
       "    </tr>\n",
       "    <tr>\n",
       "      <th rowspan=\"5\" valign=\"top\">12</th>\n",
       "      <th>688</th>\n",
       "      <td>4004.404223</td>\n",
       "      <td>1</td>\n",
       "      <td>24.0</td>\n",
       "      <td>6.0</td>\n",
       "      <td>0.0</td>\n",
       "      <td>199.0</td>\n",
       "      <td>ultra</td>\n",
       "      <td>343.0</td>\n",
       "    </tr>\n",
       "    <tr>\n",
       "      <th>689</th>\n",
       "      <td>3387.343067</td>\n",
       "      <td>1</td>\n",
       "      <td>19.0</td>\n",
       "      <td>6.0</td>\n",
       "      <td>0.0</td>\n",
       "      <td>199.0</td>\n",
       "      <td>ultra</td>\n",
       "      <td>313.0</td>\n",
       "    </tr>\n",
       "    <tr>\n",
       "      <th>692</th>\n",
       "      <td>2947.000211</td>\n",
       "      <td>1</td>\n",
       "      <td>15.0</td>\n",
       "      <td>6.0</td>\n",
       "      <td>0.0</td>\n",
       "      <td>199.0</td>\n",
       "      <td>ultra</td>\n",
       "      <td>289.0</td>\n",
       "    </tr>\n",
       "    <tr>\n",
       "      <th>694</th>\n",
       "      <td>3591.099488</td>\n",
       "      <td>1</td>\n",
       "      <td>18.0</td>\n",
       "      <td>6.0</td>\n",
       "      <td>0.0</td>\n",
       "      <td>199.0</td>\n",
       "      <td>ultra</td>\n",
       "      <td>307.0</td>\n",
       "    </tr>\n",
       "    <tr>\n",
       "      <th>699</th>\n",
       "      <td>3202.890770</td>\n",
       "      <td>1</td>\n",
       "      <td>26.0</td>\n",
       "      <td>6.0</td>\n",
       "      <td>0.0</td>\n",
       "      <td>199.0</td>\n",
       "      <td>ultra</td>\n",
       "      <td>355.0</td>\n",
       "    </tr>\n",
       "  </tbody>\n",
       "</table>\n",
       "<p>4533 rows × 8 columns</p>\n",
       "</div>"
      ],
      "text/plain": [
       "                  distance  rides_number  duration  minute_price  \\\n",
       "month user_id                                                      \n",
       "1     1        7027.511294             2      42.0           6.0   \n",
       "      3        3061.777147             1      13.0           6.0   \n",
       "      5        3914.646990             1      13.0           6.0   \n",
       "      7        6478.080979             2      28.0           6.0   \n",
       "      12       3577.151148             1      33.0           6.0   \n",
       "...                    ...           ...       ...           ...   \n",
       "12    688      4004.404223             1      24.0           6.0   \n",
       "      689      3387.343067             1      19.0           6.0   \n",
       "      692      2947.000211             1      15.0           6.0   \n",
       "      694      3591.099488             1      18.0           6.0   \n",
       "      699      3202.890770             1      26.0           6.0   \n",
       "\n",
       "               start_ride_price  subscription_fee subscription_type  revenue  \n",
       "month user_id                                                                 \n",
       "1     1                     0.0             199.0             ultra    451.0  \n",
       "      3                     0.0             199.0             ultra    277.0  \n",
       "      5                     0.0             199.0             ultra    277.0  \n",
       "      7                     0.0             199.0             ultra    367.0  \n",
       "      12                    0.0             199.0             ultra    397.0  \n",
       "...                         ...               ...               ...      ...  \n",
       "12    688                   0.0             199.0             ultra    343.0  \n",
       "      689                   0.0             199.0             ultra    313.0  \n",
       "      692                   0.0             199.0             ultra    289.0  \n",
       "      694                   0.0             199.0             ultra    307.0  \n",
       "      699                   0.0             199.0             ultra    355.0  \n",
       "\n",
       "[4533 rows x 8 columns]"
      ]
     },
     "execution_count": 31,
     "metadata": {},
     "output_type": "execute_result"
    }
   ],
   "source": [
    "#создание агрегированного по месяцам датафрейма с общим длительностью, числом поездок \n",
    "#и общим временем поездок для каждого пользователя с подпиской \n",
    "data_month_ultra = data_ultra.groupby(['month', 'user_id']).agg({'distance':'sum', \n",
    "                                                     'city':'count', \n",
    "                                                     'duration':'sum', \n",
    "                                                     'minute_price':'mean', \n",
    "                                                     'start_ride_price':'mean', \n",
    "                                                     'subscription_fee':'mean'}) \n",
    "data_month_ultra['subscription_type'] = 'ultra'\n",
    "data_month_ultra.columns = data_month_ultra.columns.str.replace('city', 'rides_number') #переименование столбца с количеством поездок\n",
    "\n",
    "#создание столбца с помесячной выручкой для каждого пользователя\n",
    "data_month_ultra['revenue'] = data_month_ultra['start_ride_price'] * data_month_ultra['rides_number'] + data_month_ultra['minute_price'] * data_month_ultra['duration'] + data_month_ultra['subscription_fee']\n",
    "data_month_ultra"
   ]
  },
  {
   "cell_type": "markdown",
   "id": "41545ac0",
   "metadata": {},
   "source": [
    "## Проверка гипотез"
   ]
  },
  {
   "cell_type": "markdown",
   "id": "09dd67ad",
   "metadata": {},
   "source": [
    "### Длительность поездок пользователей с подпиской и без"
   ]
  },
  {
   "cell_type": "markdown",
   "id": "af821343",
   "metadata": {},
   "source": [
    "Важно понять, тратят ли пользователи с подпиской больше времени на поездки?\n",
    "\n",
    "Сформулируем нулевую гипотезу Н0: средняя продолжительность поездки у пользователей без подписки равняется средней продолжительности поездки у пользователей с подпиской.\n",
    "\n",
    "Альтернативная гипотеза будет выглядеть следующим образом: средняя продолжительность поездки у пользователей с подпиской больше, чем у пользователей без подписки (правосторонняя гипотеза Н1).\n",
    "\n",
    "Для проверки гипотезы о равенстве среднего двух генеральных совокупностей по взятым из них выборкам будем использовать метод st.ttest_ind(array1, array2, equal_var, alternative), поскольку данные выборки являются независимыми."
   ]
  },
  {
   "cell_type": "code",
   "execution_count": 32,
   "id": "e4426844",
   "metadata": {},
   "outputs": [
    {
     "name": "stdout",
     "output_type": "stream",
     "text": [
      "Среднее время поездки для пользователей без подписки: 17.89\n",
      "Среднее время поездки для пользователей с подпиской: 19.04\n",
      "p-значение: 2.4959453720736625e-34\n",
      "Отвергаем нулевую гипотезу\n"
     ]
    }
   ],
   "source": [
    "#проверка гипотезы о равенстве средней продолжительности поездки для пользователей с подпиской и без\n",
    "alpha = 0.05 #уровень значимости \n",
    "\n",
    "results = st.ttest_ind(data_ultra['duration'], data_free['duration'], alternative='greater') #расчет p_value\n",
    "\n",
    "print('Среднее время поездки для пользователей без подписки:', round(data_free['duration'].mean(), 2))\n",
    "print('Среднее время поездки для пользователей с подпиской:', round(data_ultra['duration'].mean(), 2))\n",
    "print('p-значение:', results.pvalue)\n",
    "\n",
    "if results.pvalue < alpha: #проверка p_value\n",
    "    print('Отвергаем нулевую гипотезу')\n",
    "else:\n",
    "    print('Не получилось отвергнуть нулевую гипотезу') "
   ]
  },
  {
   "cell_type": "markdown",
   "id": "17e295c0",
   "metadata": {},
   "source": [
    "Отвергая нулевую гипотезу, мы действительно можем предположить, что пользователи с подпиской тратят больше времени на поездки."
   ]
  },
  {
   "cell_type": "markdown",
   "id": "59405dae",
   "metadata": {},
   "source": [
    "### Оптимальное расстояние поездки"
   ]
  },
  {
   "cell_type": "markdown",
   "id": "1ef4b90a",
   "metadata": {},
   "source": [
    "Расстояние одной поездки в 3130 метров — оптимальное с точки зрения износа самоката. Можно ли сказать, что среднее расстояние, которое проезжают пользователи с подпиской за одну поездку, не превышает 3130 метров?\n",
    "\n",
    "Нулевая гипотеза Н0: среднее расстояние поездки пользователей с подпиской равняется 3130 метров.\n",
    "\n",
    "Альтернативная гипотеза Н1 (правосторонняя): среднее расстояние поездки пользователей с подпиской больше 3130 метров."
   ]
  },
  {
   "cell_type": "code",
   "execution_count": 33,
   "id": "31608628",
   "metadata": {},
   "outputs": [
    {
     "name": "stdout",
     "output_type": "stream",
     "text": [
      "Среднее расстояние поездки для пользователей с подпиской: 3115.45\n",
      "p-значение: 0.9195368847849785\n",
      "Не получилось отвергнуть нулевую гипотезу\n"
     ]
    }
   ],
   "source": [
    "#проверка гипотезы о равенстве среднего расстояния поездки для пользователей с подпиской с 3130 метрами\n",
    "alpha = 0.05 \n",
    "optimal_distance = 3130\n",
    "\n",
    "results = st.ttest_1samp(data_ultra['distance'], optimal_distance, alternative='greater')\n",
    "\n",
    "print('Среднее расстояние поездки для пользователей с подпиской:', round(data_ultra['distance'].mean(), 2))\n",
    "print('p-значение:', results.pvalue)\n",
    "\n",
    "if results.pvalue < alpha: #проверка p_value\n",
    "    print('Отвергаем нулевую гипотезу')\n",
    "else:\n",
    "    print('Не получилось отвергнуть нулевую гипотезу') "
   ]
  },
  {
   "cell_type": "markdown",
   "id": "9c05eab3",
   "metadata": {},
   "source": [
    "Можно предположить, что среднее расстояние поездки, проезжаемое пользователями с подпиской не превосходит оптимального значения в 3130. За сохранность самокатов можно быть спокойным :)"
   ]
  },
  {
   "cell_type": "markdown",
   "id": "6d69f60e",
   "metadata": {},
   "source": [
    "### Помесячная выручка"
   ]
  },
  {
   "cell_type": "markdown",
   "id": "623786a5",
   "metadata": {},
   "source": [
    "Проверьте гипотезу о том, будет ли помесячная выручка от пользователей с подпиской по месяцам выше, чем выручка от пользователей без подписки.\n",
    "\n",
    "Нулевая гипотеза Н0: помесячная выручка от пользователей с подпиской равна помесячной выручке от пользователей без подписки\n",
    "\n",
    "Альтернативная гипотеза Н1 (правосторонняя): помесячная выручка от пользователей с подпиской больше, чем от пользователей без подписки."
   ]
  },
  {
   "cell_type": "code",
   "execution_count": 34,
   "id": "947bf635",
   "metadata": {},
   "outputs": [
    {
     "name": "stdout",
     "output_type": "stream",
     "text": [
      "Средняя помесячная выручка для пользователей без подписки: 328.64\n",
      "Средняя помесячная выручка для пользователей с подпиской: 362.79\n",
      "p-значение: 1.8850394384715216e-31\n",
      "Отвергаем нулевую гипотезу\n"
     ]
    }
   ],
   "source": [
    "#проверка гипотезы о равенстве средней помесячной выручки для пользователей с подпиской и без\n",
    "alpha = 0.05 #уровень значимости \n",
    "\n",
    "results = st.ttest_ind(data_month_ultra['revenue'], data_month_free['revenue'], alternative='greater') #расчет p_value\n",
    "\n",
    "print('Средняя помесячная выручка для пользователей без подписки:', round(data_month_free['revenue'].mean(), 2))\n",
    "print('Средняя помесячная выручка для пользователей с подпиской:', round(data_month_ultra['revenue'].mean(), 2))\n",
    "print('p-значение:', results.pvalue)\n",
    "\n",
    "if results.pvalue < alpha: #проверка p_value\n",
    "    print('Отвергаем нулевую гипотезу')\n",
    "else:\n",
    "    print('Не получилось отвергнуть нулевую гипотезу') "
   ]
  },
  {
   "cell_type": "markdown",
   "id": "09c11d44",
   "metadata": {},
   "source": [
    "Нулевая гипотеза опровергнута. Можно предположить, что помесячная выручка с пользователей с подпиской больше, чем от пользователей без подписки. Надо больше подписок :)"
   ]
  },
  {
   "cell_type": "markdown",
   "id": "b5371e39",
   "metadata": {},
   "source": [
    "### Техподдержка\n",
    "Представьте такую ситуацию: техническая команда сервиса обновила сервера, с которыми взаимодействует мобильное приложение. Она надеется, что из-за этого количество обращений в техподдержку значимо снизилось. Некоторый файл содержит для каждого пользователя данные о количестве обращений до обновления и после него. Какой тест вам понадобился бы для проверки этой гипотезы?"
   ]
  },
  {
   "cell_type": "markdown",
   "id": "41c22f43",
   "metadata": {},
   "source": [
    "Необходимо было бы воспользоваться методом scipy.stats.ttest_rel(), который используется для парных генеральных совокупностей. Нулевая гипотеза будет про равенство обращений до и после обновления серверов. Альтернативная - после обновления обращений стало меньше - левосторонняя гипотеза."
   ]
  },
  {
   "cell_type": "markdown",
   "id": "61213c5e",
   "metadata": {},
   "source": [
    "## Распределения"
   ]
  },
  {
   "cell_type": "markdown",
   "id": "17c3ec7e",
   "metadata": {},
   "source": [
    "### Раздача промокодов"
   ]
  },
  {
   "cell_type": "markdown",
   "id": "ae9ec921",
   "metadata": {},
   "source": [
    "Отделу маркетинга GoFast поставили задачу: нужно провести акцию с раздачей промокодов на один бесплатный месяц подписки, в рамках которой как минимум 100 существующих клиентов должны продлить эту подписку. То есть по завершении периода действия подписки пользователь может либо отказаться от неё, либо продлить, совершив соответствующий платёж. Эта акция уже проводилась ранее и по итогу выяснилось, что после бесплатного пробного периода подписку продлевают 10 % пользователей. Выясните, какое минимальное количество промокодов нужно разослать, чтобы вероятность не выполнить план была примерно 5 %."
   ]
  },
  {
   "cell_type": "code",
   "execution_count": 35,
   "id": "494d7f15",
   "metadata": {},
   "outputs": [
    {
     "name": "stdout",
     "output_type": "stream",
     "text": [
      "100.22187899952792\n"
     ]
    },
    {
     "data": {
      "image/png": "[encoded data removed]",
      "text/plain": [
       "<Figure size 640x480 with 1 Axes>"
      ]
     },
     "metadata": {},
     "output_type": "display_data"
    }
   ],
   "source": [
    "#параметры биномиального распределения\n",
    "n = 11800\n",
    "p = 0.01\n",
    "\n",
    "#параметры нормального распределения равными мат.ожиданию и дисперсии биномиального распределения\n",
    "mu = n * p\n",
    "sigma = sqrt(n * p * (1 - p))\n",
    "\n",
    "distr = st.norm(mu, sigma) #нормальное распределение\n",
    "\n",
    "result = distr.ppf(0.05)\n",
    "print(result)\n",
    "\n",
    "x = np.linspace(0, 200, 5000)\n",
    "\n",
    "y_pdf = st.norm.pdf(x, mu, sigma)\n",
    "\n",
    "plt.plot(x, y_pdf, label='pdf')\n",
    "plt.legend();"
   ]
  },
  {
   "cell_type": "markdown",
   "id": "c9c62789",
   "metadata": {},
   "source": [
    "Нужно разослать как минимум 11800 промокодов, чтобы со 95% вероятностью как минимум 100 клиентов продлило подписку."
   ]
  },
  {
   "cell_type": "markdown",
   "id": "d77d8566",
   "metadata": {},
   "source": [
    "### Рассылка push-уведомлений"
   ]
  },
  {
   "cell_type": "markdown",
   "id": "2a68dccd",
   "metadata": {},
   "source": [
    "Отдел маркетинга рассылает клиентам push-уведомления в мобильном приложении. Клиенты могут открыть его или не открывать. Известно, что уведомления открывают около 40 % получивших клиентов. Отдел планирует разослать 1 млн уведомлений. С помощью аппроксимации постройте примерный график распределения и оцените вероятность того, что уведомление откроют не более 399,5 тыс. пользователей."
   ]
  },
  {
   "cell_type": "code",
   "execution_count": 36,
   "id": "92d0a85a",
   "metadata": {},
   "outputs": [
    {
     "name": "stdout",
     "output_type": "stream",
     "text": [
      "0.15371708296369768\n"
     ]
    },
    {
     "data": {
      "image/png": "[encoded data removed]",
      "text/plain": [
       "<Figure size 640x480 with 1 Axes>"
      ]
     },
     "metadata": {},
     "output_type": "display_data"
    }
   ],
   "source": [
    "#параметры биномиального распределения\n",
    "n = 1000000\n",
    "p = 0.4\n",
    "\n",
    "#параметры нормального распределения равными мат.ожиданию и дисперсии биномиального распределения\n",
    "mu = n * p\n",
    "sigma = sqrt(n * p * (1 - p))\n",
    "\n",
    "distr = st.norm(mu, sigma) #нормальное распределение\n",
    "\n",
    "result = distr.cdf(399500)\n",
    "print(result)\n",
    "\n",
    "x = np.linspace(395000, 405000, 5000)\n",
    "\n",
    "y_pdf = st.norm.pdf(x, mu, sigma)\n",
    "\n",
    "plt.plot(x, y_pdf, label='pdf')\n",
    "plt.legend();"
   ]
  },
  {
   "cell_type": "markdown",
   "id": "199a7e2b",
   "metadata": {},
   "source": [
    "Вероятность, что уведомление откроют не более 399,5 тысяч пользователей составляет около 15%. "
   ]
  },
  {
   "cell_type": "markdown",
   "id": "35df4e04",
   "metadata": {},
   "source": [
    "## Вывод"
   ]
  },
  {
   "cell_type": "markdown",
   "id": "d8291820",
   "metadata": {},
   "source": [
    "В данном проекте были проанализированны данные о пользователях сервиса проката самокатов GoFast. Целью проекта было определение различий между группами пользователей с подпиской и без подписки на приложение. \n",
    "Данные были предоставлены в трех файлах:\n",
    "\n",
    "Пользователи — users_go.csv:\n",
    "1. user_id - уникальный идентификатор пользователя\n",
    "2. name - имя пользователя\n",
    "3. age\t- возраст\n",
    "4. city\t- город\n",
    "5. subscription_type - тип подписки (free, ultra)\n",
    "\n",
    "Поездки — rides_go.csv:\n",
    "1. user_id - уникальный идентификатор пользователя\n",
    "2. distance - расстояние, которое пользователь проехал в текущей сессии (в метрах)\n",
    "3. duration - продолжительность сессии (в минутах) — время с того момента, как пользователь нажал кнопку «Начать поездку» до момента, как он нажал кнопку «Завершить поездку»\n",
    "4. date - дата совершения поездки\n",
    "\n",
    "\n",
    "Подписки — subscriptions_go.csv:\n",
    "1. subscription_type - тип подписки\n",
    "2. minute_price - стоимость одной минуты поездки по данной подписке\n",
    "3. start_ride_price - стоимость начала поездки\n",
    "4. subscription_fee - стоимость ежемесячного платежа\n",
    "\n",
    "Предварительно данные были подготовлены, а затем проанализированы:\n",
    "1. В столбце date датафрейма rides_go тип данных был изменен для дальнейшей работы с датой (определение месяца поездки).\n",
    "2. Создан новый столбец с номером месяца.\n",
    "3. Все столбцы были проверены на наличие пропущенных значений, а также явных дубликатов. Из датафрейма user_go были удалены явные дубликаты.\n",
    "4. Данные были проанализированы по частоте встречаемости городов - наибольшее количество поездок было совершено в Пятигорске, наименьшее в Москве. Более половины пользователей (54,4%) - это пользователи без подписки. Возраст пользователей составляет от 12 до 43 лет. Основную возрастную категорию составляют пользователи от 20 до 30 лет.\n",
    "5. Данные были разделены на 2 таблицы - пользователи с подпиской  и без подписки. Для каждой из групп было рассчитана помесячная выручка для каждого пользователя.\n",
    "\n",
    "По итогу было проверено 3 гипотезы:\n",
    "1. Важно понять, тратят ли пользователи с подпиской больше времени на поездки? Оказалось, что пользователи с подпиской действительно тратят больше времени на поездки. Поэтому предложение оформления подписки может увеличить продолжительность поездок.\n",
    "2. Расстояние одной поездки в 3130 метров — оптимальное с точки зрения износа самоката. Пользователи с подпиской обычно проезжают расстояние меньше оптимального для самоката. Пользователям с подпиской можно доверить сохранность самоката.\n",
    "3. Будет ли помесячная выручка от пользователей с подпиской по месяцам выше, чем выручка от пользователей без подписки? Оказалось, что помесячная выручка с пользователей с подпиской больше, чем от пользователей без подписки. Значит, предлагать подписки всё-таки стоит. \n",
    "\n",
    "Таким образом, необходимо рассмотреть способы привлечения пользователей к оформлению подписки, поскольку это позволит увеличить помесячную выручку. "
   ]
  }
 ],
 "metadata": {
  "ExecuteTimeLog": [
   {
    "duration": 53,
    "start_time": "2023-10-28T12:21:19.096Z"
   },
   {
    "duration": 423,
    "start_time": "2023-10-28T12:21:22.517Z"
   },
   {
    "duration": 189,
    "start_time": "2023-10-28T12:21:24.554Z"
   },
   {
    "duration": 352,
    "start_time": "2023-10-28T12:21:32.687Z"
   },
   {
    "duration": 66,
    "start_time": "2023-10-28T12:21:33.040Z"
   },
   {
    "duration": 14,
    "start_time": "2023-10-28T12:21:55.257Z"
   },
   {
    "duration": 9,
    "start_time": "2023-10-28T12:22:11.356Z"
   },
   {
    "duration": 7,
    "start_time": "2023-10-28T12:22:23.454Z"
   },
   {
    "duration": 410,
    "start_time": "2023-10-28T12:22:54.053Z"
   },
   {
    "duration": 67,
    "start_time": "2023-10-28T12:22:54.465Z"
   },
   {
    "duration": 10,
    "start_time": "2023-10-28T12:22:54.534Z"
   },
   {
    "duration": 29,
    "start_time": "2023-10-28T12:22:54.545Z"
   },
   {
    "duration": 32,
    "start_time": "2023-10-28T12:22:54.576Z"
   },
   {
    "duration": 415,
    "start_time": "2023-10-28T12:23:39.931Z"
   },
   {
    "duration": 69,
    "start_time": "2023-10-28T12:23:40.348Z"
   },
   {
    "duration": 14,
    "start_time": "2023-10-28T12:23:40.419Z"
   },
   {
    "duration": 24,
    "start_time": "2023-10-28T12:23:40.435Z"
   },
   {
    "duration": 26,
    "start_time": "2023-10-28T12:23:40.460Z"
   },
   {
    "duration": 3,
    "start_time": "2023-10-28T12:23:51.611Z"
   },
   {
    "duration": 11,
    "start_time": "2023-10-28T12:29:33.002Z"
   },
   {
    "duration": 12,
    "start_time": "2023-10-28T12:30:07.063Z"
   },
   {
    "duration": 397,
    "start_time": "2023-10-28T12:31:16.807Z"
   },
   {
    "duration": 69,
    "start_time": "2023-10-28T12:31:17.206Z"
   },
   {
    "duration": 15,
    "start_time": "2023-10-28T12:31:17.276Z"
   },
   {
    "duration": 15,
    "start_time": "2023-10-28T12:31:17.293Z"
   },
   {
    "duration": 25,
    "start_time": "2023-10-28T12:31:17.310Z"
   },
   {
    "duration": 12,
    "start_time": "2023-10-28T12:32:10.558Z"
   },
   {
    "duration": 7,
    "start_time": "2023-10-28T12:34:25.805Z"
   },
   {
    "duration": 54,
    "start_time": "2023-10-28T12:34:43.157Z"
   },
   {
    "duration": 12,
    "start_time": "2023-10-28T12:34:47.102Z"
   },
   {
    "duration": 6,
    "start_time": "2023-10-28T12:35:49.202Z"
   },
   {
    "duration": 423,
    "start_time": "2023-10-28T12:35:53.636Z"
   },
   {
    "duration": 67,
    "start_time": "2023-10-28T12:35:54.061Z"
   },
   {
    "duration": 15,
    "start_time": "2023-10-28T12:35:54.130Z"
   },
   {
    "duration": 48,
    "start_time": "2023-10-28T12:35:54.146Z"
   },
   {
    "duration": 30,
    "start_time": "2023-10-28T12:35:54.195Z"
   },
   {
    "duration": 34,
    "start_time": "2023-10-28T12:35:54.227Z"
   },
   {
    "duration": 7,
    "start_time": "2023-10-28T12:35:54.263Z"
   },
   {
    "duration": 8,
    "start_time": "2023-10-28T12:35:54.271Z"
   },
   {
    "duration": 5,
    "start_time": "2023-10-28T12:39:09.730Z"
   },
   {
    "duration": 6,
    "start_time": "2023-10-28T12:39:57.398Z"
   },
   {
    "duration": 7,
    "start_time": "2023-10-28T12:40:30.217Z"
   },
   {
    "duration": 6,
    "start_time": "2023-10-28T12:41:24.700Z"
   },
   {
    "duration": 5,
    "start_time": "2023-10-28T12:43:54.378Z"
   },
   {
    "duration": 6,
    "start_time": "2023-10-28T12:44:04.404Z"
   },
   {
    "duration": 9,
    "start_time": "2023-10-28T12:44:13.267Z"
   },
   {
    "duration": 12,
    "start_time": "2023-10-28T12:44:17.203Z"
   },
   {
    "duration": 434,
    "start_time": "2023-10-28T12:45:13.449Z"
   },
   {
    "duration": 68,
    "start_time": "2023-10-28T12:45:13.885Z"
   },
   {
    "duration": 15,
    "start_time": "2023-10-28T12:45:13.954Z"
   },
   {
    "duration": 13,
    "start_time": "2023-10-28T12:45:13.971Z"
   },
   {
    "duration": 16,
    "start_time": "2023-10-28T12:45:13.986Z"
   },
   {
    "duration": 15,
    "start_time": "2023-10-28T12:45:14.003Z"
   },
   {
    "duration": 7,
    "start_time": "2023-10-28T12:45:14.019Z"
   },
   {
    "duration": 22,
    "start_time": "2023-10-28T12:45:14.027Z"
   },
   {
    "duration": 11,
    "start_time": "2023-10-28T12:45:14.050Z"
   },
   {
    "duration": 11,
    "start_time": "2023-10-28T12:45:14.062Z"
   },
   {
    "duration": 12,
    "start_time": "2023-10-28T12:45:14.074Z"
   },
   {
    "duration": 7,
    "start_time": "2023-10-28T12:45:14.087Z"
   },
   {
    "duration": 14,
    "start_time": "2023-10-28T12:45:14.095Z"
   },
   {
    "duration": 8,
    "start_time": "2023-10-28T12:45:14.111Z"
   },
   {
    "duration": 10,
    "start_time": "2023-10-28T12:45:26.597Z"
   },
   {
    "duration": 9,
    "start_time": "2023-10-28T12:45:38.153Z"
   },
   {
    "duration": 11,
    "start_time": "2023-10-28T12:45:44.473Z"
   },
   {
    "duration": 6,
    "start_time": "2023-10-28T12:45:53.814Z"
   },
   {
    "duration": 5,
    "start_time": "2023-10-28T12:45:54.753Z"
   },
   {
    "duration": 367,
    "start_time": "2023-10-28T12:45:59.702Z"
   },
   {
    "duration": 80,
    "start_time": "2023-10-28T12:46:00.071Z"
   },
   {
    "duration": 14,
    "start_time": "2023-10-28T12:46:00.153Z"
   },
   {
    "duration": 39,
    "start_time": "2023-10-28T12:46:00.169Z"
   },
   {
    "duration": 26,
    "start_time": "2023-10-28T12:46:00.210Z"
   },
   {
    "duration": 29,
    "start_time": "2023-10-28T12:46:00.237Z"
   },
   {
    "duration": 12,
    "start_time": "2023-10-28T12:46:00.268Z"
   },
   {
    "duration": 28,
    "start_time": "2023-10-28T12:46:00.282Z"
   },
   {
    "duration": 27,
    "start_time": "2023-10-28T12:46:00.312Z"
   },
   {
    "duration": 56,
    "start_time": "2023-10-28T12:46:00.340Z"
   },
   {
    "duration": 31,
    "start_time": "2023-10-28T12:46:00.398Z"
   },
   {
    "duration": 31,
    "start_time": "2023-10-28T12:46:00.430Z"
   },
   {
    "duration": 22,
    "start_time": "2023-10-28T12:46:00.463Z"
   },
   {
    "duration": 15,
    "start_time": "2023-10-28T12:46:23.777Z"
   },
   {
    "duration": 5,
    "start_time": "2023-10-28T12:46:41.346Z"
   },
   {
    "duration": 593,
    "start_time": "2023-10-28T12:52:17.707Z"
   },
   {
    "duration": 73,
    "start_time": "2023-10-28T12:52:48.826Z"
   },
   {
    "duration": 127,
    "start_time": "2023-10-28T12:55:00.935Z"
   },
   {
    "duration": 10,
    "start_time": "2023-10-28T12:55:14.440Z"
   },
   {
    "duration": 5,
    "start_time": "2023-10-28T12:55:19.788Z"
   },
   {
    "duration": 119,
    "start_time": "2023-10-28T12:55:48.671Z"
   },
   {
    "duration": 138,
    "start_time": "2023-10-28T12:57:16.235Z"
   },
   {
    "duration": 189,
    "start_time": "2023-10-28T12:57:21.245Z"
   },
   {
    "duration": 13,
    "start_time": "2023-10-28T13:02:18.574Z"
   },
   {
    "duration": 119,
    "start_time": "2023-10-28T13:02:33.989Z"
   },
   {
    "duration": 384,
    "start_time": "2023-10-28T13:03:47.865Z"
   },
   {
    "duration": 68,
    "start_time": "2023-10-28T13:03:48.250Z"
   },
   {
    "duration": 13,
    "start_time": "2023-10-28T13:03:48.320Z"
   },
   {
    "duration": 31,
    "start_time": "2023-10-28T13:03:48.336Z"
   },
   {
    "duration": 35,
    "start_time": "2023-10-28T13:03:48.369Z"
   },
   {
    "duration": 43,
    "start_time": "2023-10-28T13:03:48.406Z"
   },
   {
    "duration": 27,
    "start_time": "2023-10-28T13:03:48.451Z"
   },
   {
    "duration": 30,
    "start_time": "2023-10-28T13:03:48.480Z"
   },
   {
    "duration": 34,
    "start_time": "2023-10-28T13:03:48.512Z"
   },
   {
    "duration": 44,
    "start_time": "2023-10-28T13:03:48.548Z"
   },
   {
    "duration": 32,
    "start_time": "2023-10-28T13:03:48.594Z"
   },
   {
    "duration": 37,
    "start_time": "2023-10-28T13:03:48.628Z"
   },
   {
    "duration": 24,
    "start_time": "2023-10-28T13:03:48.666Z"
   },
   {
    "duration": 22,
    "start_time": "2023-10-28T13:03:48.692Z"
   },
   {
    "duration": 21,
    "start_time": "2023-10-28T13:03:48.715Z"
   },
   {
    "duration": 406,
    "start_time": "2023-10-28T13:03:48.738Z"
   },
   {
    "duration": 69,
    "start_time": "2023-10-28T13:05:05.909Z"
   },
   {
    "duration": 7,
    "start_time": "2023-10-28T13:05:19.678Z"
   },
   {
    "duration": 13,
    "start_time": "2023-10-28T13:05:23.277Z"
   },
   {
    "duration": 4,
    "start_time": "2023-10-28T13:05:49.807Z"
   },
   {
    "duration": 3,
    "start_time": "2023-10-28T13:05:56.283Z"
   },
   {
    "duration": 4,
    "start_time": "2023-10-28T13:06:00.222Z"
   },
   {
    "duration": 7,
    "start_time": "2023-10-28T13:08:49.136Z"
   },
   {
    "duration": 27,
    "start_time": "2023-10-28T13:09:03.547Z"
   },
   {
    "duration": 25,
    "start_time": "2023-10-28T13:09:16.548Z"
   },
   {
    "duration": 15,
    "start_time": "2023-10-28T13:09:22.383Z"
   },
   {
    "duration": 25,
    "start_time": "2023-10-28T13:10:16.831Z"
   },
   {
    "duration": 11,
    "start_time": "2023-10-28T13:10:23.707Z"
   },
   {
    "duration": 8,
    "start_time": "2023-10-28T13:10:39.687Z"
   },
   {
    "duration": 9,
    "start_time": "2023-10-28T13:10:46.999Z"
   },
   {
    "duration": 10,
    "start_time": "2023-10-28T13:10:54.119Z"
   },
   {
    "duration": 12,
    "start_time": "2023-10-28T13:11:51.851Z"
   },
   {
    "duration": 8,
    "start_time": "2023-10-28T13:12:39.966Z"
   },
   {
    "duration": 8,
    "start_time": "2023-10-28T13:12:47.932Z"
   },
   {
    "duration": 9,
    "start_time": "2023-10-28T13:14:11.792Z"
   },
   {
    "duration": 8,
    "start_time": "2023-10-28T13:15:15.877Z"
   },
   {
    "duration": 7,
    "start_time": "2023-10-28T13:15:20.492Z"
   },
   {
    "duration": 9,
    "start_time": "2023-10-28T13:15:33.650Z"
   },
   {
    "duration": 10,
    "start_time": "2023-10-28T13:16:56.400Z"
   },
   {
    "duration": 419,
    "start_time": "2023-10-28T13:17:01.332Z"
   },
   {
    "duration": 70,
    "start_time": "2023-10-28T13:17:01.754Z"
   },
   {
    "duration": 21,
    "start_time": "2023-10-28T13:17:01.826Z"
   },
   {
    "duration": 58,
    "start_time": "2023-10-28T13:17:01.848Z"
   },
   {
    "duration": 73,
    "start_time": "2023-10-28T13:17:01.908Z"
   },
   {
    "duration": 124,
    "start_time": "2023-10-28T13:17:01.983Z"
   },
   {
    "duration": 55,
    "start_time": "2023-10-28T13:17:02.108Z"
   },
   {
    "duration": 50,
    "start_time": "2023-10-28T13:17:02.165Z"
   },
   {
    "duration": 114,
    "start_time": "2023-10-28T13:17:02.216Z"
   },
   {
    "duration": 55,
    "start_time": "2023-10-28T13:17:02.332Z"
   },
   {
    "duration": 91,
    "start_time": "2023-10-28T13:17:02.388Z"
   },
   {
    "duration": 215,
    "start_time": "2023-10-28T13:17:02.480Z"
   },
   {
    "duration": 143,
    "start_time": "2023-10-28T13:17:02.697Z"
   },
   {
    "duration": 33,
    "start_time": "2023-10-28T13:17:02.842Z"
   },
   {
    "duration": 41,
    "start_time": "2023-10-28T13:17:02.876Z"
   },
   {
    "duration": 415,
    "start_time": "2023-10-28T13:17:02.919Z"
   },
   {
    "duration": 13,
    "start_time": "2023-10-28T13:17:03.335Z"
   },
   {
    "duration": 218,
    "start_time": "2023-10-28T13:17:35.999Z"
   },
   {
    "duration": 215,
    "start_time": "2023-10-28T13:17:53.821Z"
   },
   {
    "duration": 264,
    "start_time": "2023-10-28T13:18:36.691Z"
   },
   {
    "duration": 121,
    "start_time": "2023-10-28T13:18:57.689Z"
   },
   {
    "duration": 122,
    "start_time": "2023-10-28T13:19:08.501Z"
   },
   {
    "duration": 78,
    "start_time": "2023-10-28T13:28:48.974Z"
   },
   {
    "duration": 72,
    "start_time": "2023-10-28T13:30:13.805Z"
   },
   {
    "duration": 5,
    "start_time": "2023-10-28T13:30:22.060Z"
   },
   {
    "duration": 122,
    "start_time": "2023-10-28T13:32:19.250Z"
   },
   {
    "duration": 133,
    "start_time": "2023-10-28T13:32:27.016Z"
   },
   {
    "duration": 119,
    "start_time": "2023-10-28T13:32:33.399Z"
   },
   {
    "duration": 127,
    "start_time": "2023-10-28T13:32:38.543Z"
   },
   {
    "duration": 122,
    "start_time": "2023-10-28T13:32:48.680Z"
   },
   {
    "duration": 123,
    "start_time": "2023-10-28T13:33:28.231Z"
   },
   {
    "duration": 112,
    "start_time": "2023-10-28T13:33:52.795Z"
   },
   {
    "duration": 150,
    "start_time": "2023-10-28T13:34:33.732Z"
   },
   {
    "duration": 188,
    "start_time": "2023-10-28T13:35:07.867Z"
   },
   {
    "duration": 122,
    "start_time": "2023-10-28T13:35:19.597Z"
   },
   {
    "duration": 124,
    "start_time": "2023-10-28T13:35:29.490Z"
   },
   {
    "duration": 125,
    "start_time": "2023-10-28T13:36:33.489Z"
   },
   {
    "duration": 130,
    "start_time": "2023-10-28T13:36:38.214Z"
   },
   {
    "duration": 126,
    "start_time": "2023-10-28T13:36:43.827Z"
   },
   {
    "duration": 131,
    "start_time": "2023-10-28T13:36:48.085Z"
   },
   {
    "duration": 126,
    "start_time": "2023-10-28T13:36:53.052Z"
   },
   {
    "duration": 146,
    "start_time": "2023-10-28T13:37:00.739Z"
   },
   {
    "duration": 379,
    "start_time": "2023-10-28T13:37:07.174Z"
   },
   {
    "duration": 69,
    "start_time": "2023-10-28T13:37:07.555Z"
   },
   {
    "duration": 17,
    "start_time": "2023-10-28T13:37:07.626Z"
   },
   {
    "duration": 11,
    "start_time": "2023-10-28T13:37:07.645Z"
   },
   {
    "duration": 10,
    "start_time": "2023-10-28T13:37:07.659Z"
   },
   {
    "duration": 26,
    "start_time": "2023-10-28T13:37:07.671Z"
   },
   {
    "duration": 6,
    "start_time": "2023-10-28T13:37:07.699Z"
   },
   {
    "duration": 8,
    "start_time": "2023-10-28T13:37:07.707Z"
   },
   {
    "duration": 6,
    "start_time": "2023-10-28T13:37:07.716Z"
   },
   {
    "duration": 25,
    "start_time": "2023-10-28T13:37:07.723Z"
   },
   {
    "duration": 9,
    "start_time": "2023-10-28T13:37:07.749Z"
   },
   {
    "duration": 11,
    "start_time": "2023-10-28T13:37:07.759Z"
   },
   {
    "duration": 8,
    "start_time": "2023-10-28T13:37:07.772Z"
   },
   {
    "duration": 17,
    "start_time": "2023-10-28T13:37:07.783Z"
   },
   {
    "duration": 7,
    "start_time": "2023-10-28T13:37:07.802Z"
   },
   {
    "duration": 402,
    "start_time": "2023-10-28T13:37:07.810Z"
   },
   {
    "duration": 9,
    "start_time": "2023-10-28T13:37:08.214Z"
   },
   {
    "duration": 19,
    "start_time": "2023-10-28T13:37:08.225Z"
   },
   {
    "duration": 128,
    "start_time": "2023-10-28T13:37:08.246Z"
   },
   {
    "duration": 125,
    "start_time": "2023-10-28T13:37:33.973Z"
   },
   {
    "duration": 73,
    "start_time": "2023-10-28T13:41:04.873Z"
   },
   {
    "duration": 127,
    "start_time": "2023-10-28T13:41:08.637Z"
   },
   {
    "duration": 138,
    "start_time": "2023-10-28T13:41:52.997Z"
   },
   {
    "duration": 196,
    "start_time": "2023-10-28T13:42:27.725Z"
   },
   {
    "duration": 152,
    "start_time": "2023-10-28T13:42:30.886Z"
   },
   {
    "duration": 146,
    "start_time": "2023-10-28T13:42:41.313Z"
   },
   {
    "duration": 145,
    "start_time": "2023-10-28T13:43:37.182Z"
   },
   {
    "duration": 144,
    "start_time": "2023-10-28T13:43:51.650Z"
   },
   {
    "duration": 146,
    "start_time": "2023-10-28T13:43:56.182Z"
   },
   {
    "duration": 129,
    "start_time": "2023-10-28T13:44:18.117Z"
   },
   {
    "duration": 147,
    "start_time": "2023-10-28T13:47:21.759Z"
   },
   {
    "duration": 105,
    "start_time": "2023-10-28T13:47:39.994Z"
   },
   {
    "duration": 112,
    "start_time": "2023-10-28T13:47:46.072Z"
   },
   {
    "duration": 421,
    "start_time": "2023-10-28T13:54:54.934Z"
   },
   {
    "duration": 69,
    "start_time": "2023-10-28T13:54:55.357Z"
   },
   {
    "duration": 15,
    "start_time": "2023-10-28T13:54:55.427Z"
   },
   {
    "duration": 32,
    "start_time": "2023-10-28T13:54:55.443Z"
   },
   {
    "duration": 12,
    "start_time": "2023-10-28T13:54:55.476Z"
   },
   {
    "duration": 13,
    "start_time": "2023-10-28T13:54:55.490Z"
   },
   {
    "duration": 11,
    "start_time": "2023-10-28T13:54:55.505Z"
   },
   {
    "duration": 24,
    "start_time": "2023-10-28T13:54:55.518Z"
   },
   {
    "duration": 26,
    "start_time": "2023-10-28T13:54:55.543Z"
   },
   {
    "duration": 27,
    "start_time": "2023-10-28T13:54:55.571Z"
   },
   {
    "duration": 21,
    "start_time": "2023-10-28T13:54:55.600Z"
   },
   {
    "duration": 8,
    "start_time": "2023-10-28T13:54:55.622Z"
   },
   {
    "duration": 13,
    "start_time": "2023-10-28T13:54:55.633Z"
   },
   {
    "duration": 37,
    "start_time": "2023-10-28T13:54:55.648Z"
   },
   {
    "duration": 4,
    "start_time": "2023-10-28T13:54:55.686Z"
   },
   {
    "duration": 365,
    "start_time": "2023-10-28T13:54:55.692Z"
   },
   {
    "duration": 10,
    "start_time": "2023-10-28T13:54:56.059Z"
   },
   {
    "duration": 29,
    "start_time": "2023-10-28T13:54:56.070Z"
   },
   {
    "duration": 143,
    "start_time": "2023-10-28T13:54:56.100Z"
   },
   {
    "duration": 159,
    "start_time": "2023-10-28T13:54:56.244Z"
   },
   {
    "duration": 125,
    "start_time": "2023-10-28T13:54:56.405Z"
   },
   {
    "duration": 11,
    "start_time": "2023-10-28T13:57:47.070Z"
   },
   {
    "duration": 145,
    "start_time": "2023-10-28T14:02:18.301Z"
   },
   {
    "duration": 197,
    "start_time": "2023-10-28T14:19:05.182Z"
   },
   {
    "duration": 161,
    "start_time": "2023-10-28T14:19:26.086Z"
   },
   {
    "duration": 139,
    "start_time": "2023-10-28T14:19:30.510Z"
   },
   {
    "duration": 398,
    "start_time": "2023-10-28T14:19:51.749Z"
   },
   {
    "duration": 65,
    "start_time": "2023-10-28T14:19:52.149Z"
   },
   {
    "duration": 15,
    "start_time": "2023-10-28T14:19:52.216Z"
   },
   {
    "duration": 22,
    "start_time": "2023-10-28T14:19:52.232Z"
   },
   {
    "duration": 24,
    "start_time": "2023-10-28T14:19:52.256Z"
   },
   {
    "duration": 60,
    "start_time": "2023-10-28T14:19:52.281Z"
   },
   {
    "duration": 21,
    "start_time": "2023-10-28T14:19:52.342Z"
   },
   {
    "duration": 37,
    "start_time": "2023-10-28T14:19:52.364Z"
   },
   {
    "duration": 33,
    "start_time": "2023-10-28T14:19:52.403Z"
   },
   {
    "duration": 32,
    "start_time": "2023-10-28T14:19:52.438Z"
   },
   {
    "duration": 22,
    "start_time": "2023-10-28T14:19:52.472Z"
   },
   {
    "duration": 39,
    "start_time": "2023-10-28T14:19:52.495Z"
   },
   {
    "duration": 18,
    "start_time": "2023-10-28T14:19:52.535Z"
   },
   {
    "duration": 9,
    "start_time": "2023-10-28T14:19:52.555Z"
   },
   {
    "duration": 24,
    "start_time": "2023-10-28T14:19:52.565Z"
   },
   {
    "duration": 395,
    "start_time": "2023-10-28T14:19:52.590Z"
   },
   {
    "duration": 9,
    "start_time": "2023-10-28T14:19:52.987Z"
   },
   {
    "duration": 15,
    "start_time": "2023-10-28T14:19:52.997Z"
   },
   {
    "duration": 155,
    "start_time": "2023-10-28T14:19:53.014Z"
   },
   {
    "duration": 155,
    "start_time": "2023-10-28T14:19:53.170Z"
   },
   {
    "duration": 118,
    "start_time": "2023-10-28T14:19:53.327Z"
   },
   {
    "duration": 155,
    "start_time": "2023-10-28T14:19:53.447Z"
   },
   {
    "duration": 153,
    "start_time": "2023-10-28T14:21:59.733Z"
   },
   {
    "duration": 6,
    "start_time": "2023-10-28T14:24:06.657Z"
   },
   {
    "duration": 6,
    "start_time": "2023-10-28T14:24:16.644Z"
   },
   {
    "duration": 7,
    "start_time": "2023-10-28T14:24:41.311Z"
   },
   {
    "duration": 2,
    "start_time": "2023-10-28T14:24:58.103Z"
   },
   {
    "duration": 395,
    "start_time": "2023-10-28T14:32:21.548Z"
   },
   {
    "duration": 68,
    "start_time": "2023-10-28T14:32:21.945Z"
   },
   {
    "duration": 15,
    "start_time": "2023-10-28T14:32:22.014Z"
   },
   {
    "duration": 13,
    "start_time": "2023-10-28T14:32:22.031Z"
   },
   {
    "duration": 24,
    "start_time": "2023-10-28T14:32:22.046Z"
   },
   {
    "duration": 40,
    "start_time": "2023-10-28T14:32:22.071Z"
   },
   {
    "duration": 18,
    "start_time": "2023-10-28T14:32:22.113Z"
   },
   {
    "duration": 18,
    "start_time": "2023-10-28T14:32:22.132Z"
   },
   {
    "duration": 22,
    "start_time": "2023-10-28T14:32:22.152Z"
   },
   {
    "duration": 25,
    "start_time": "2023-10-28T14:32:22.176Z"
   },
   {
    "duration": 24,
    "start_time": "2023-10-28T14:32:22.203Z"
   },
   {
    "duration": 35,
    "start_time": "2023-10-28T14:32:22.228Z"
   },
   {
    "duration": 15,
    "start_time": "2023-10-28T14:32:22.265Z"
   },
   {
    "duration": 19,
    "start_time": "2023-10-28T14:32:22.283Z"
   },
   {
    "duration": 30,
    "start_time": "2023-10-28T14:32:22.304Z"
   },
   {
    "duration": 378,
    "start_time": "2023-10-28T14:32:22.336Z"
   },
   {
    "duration": 9,
    "start_time": "2023-10-28T14:32:22.716Z"
   },
   {
    "duration": 17,
    "start_time": "2023-10-28T14:32:22.727Z"
   },
   {
    "duration": 148,
    "start_time": "2023-10-28T14:32:22.745Z"
   },
   {
    "duration": 158,
    "start_time": "2023-10-28T14:32:22.895Z"
   },
   {
    "duration": 115,
    "start_time": "2023-10-28T14:32:23.055Z"
   },
   {
    "duration": 7,
    "start_time": "2023-10-28T14:32:23.171Z"
   },
   {
    "duration": 172,
    "start_time": "2023-10-28T14:32:23.180Z"
   },
   {
    "duration": 235,
    "start_time": "2023-10-28T14:32:23.354Z"
   },
   {
    "duration": 9,
    "start_time": "2023-10-28T14:37:28.128Z"
   },
   {
    "duration": 23,
    "start_time": "2023-10-28T14:37:32.076Z"
   },
   {
    "duration": 33,
    "start_time": "2023-10-28T14:40:27.252Z"
   },
   {
    "duration": 33,
    "start_time": "2023-10-28T14:40:34.370Z"
   },
   {
    "duration": 28,
    "start_time": "2023-10-28T14:41:08.608Z"
   },
   {
    "duration": 16,
    "start_time": "2023-10-28T14:42:30.400Z"
   },
   {
    "duration": 24,
    "start_time": "2023-10-28T14:43:42.538Z"
   },
   {
    "duration": 7,
    "start_time": "2023-10-28T14:44:06.074Z"
   },
   {
    "duration": 19,
    "start_time": "2023-10-28T14:44:52.722Z"
   },
   {
    "duration": 6,
    "start_time": "2023-10-28T14:45:03.332Z"
   },
   {
    "duration": 395,
    "start_time": "2023-10-28T14:45:08.450Z"
   },
   {
    "duration": 67,
    "start_time": "2023-10-28T14:45:08.847Z"
   },
   {
    "duration": 13,
    "start_time": "2023-10-28T14:45:08.916Z"
   },
   {
    "duration": 22,
    "start_time": "2023-10-28T14:45:08.931Z"
   },
   {
    "duration": 12,
    "start_time": "2023-10-28T14:45:08.954Z"
   },
   {
    "duration": 24,
    "start_time": "2023-10-28T14:45:08.968Z"
   },
   {
    "duration": 7,
    "start_time": "2023-10-28T14:45:08.993Z"
   },
   {
    "duration": 6,
    "start_time": "2023-10-28T14:45:09.001Z"
   },
   {
    "duration": 10,
    "start_time": "2023-10-28T14:45:09.008Z"
   },
   {
    "duration": 10,
    "start_time": "2023-10-28T14:45:09.020Z"
   },
   {
    "duration": 12,
    "start_time": "2023-10-28T14:45:09.031Z"
   },
   {
    "duration": 9,
    "start_time": "2023-10-28T14:45:09.045Z"
   },
   {
    "duration": 5,
    "start_time": "2023-10-28T14:45:09.055Z"
   },
   {
    "duration": 16,
    "start_time": "2023-10-28T14:45:09.061Z"
   },
   {
    "duration": 20,
    "start_time": "2023-10-28T14:45:09.078Z"
   },
   {
    "duration": 369,
    "start_time": "2023-10-28T14:45:09.099Z"
   },
   {
    "duration": 9,
    "start_time": "2023-10-28T14:45:09.469Z"
   },
   {
    "duration": 20,
    "start_time": "2023-10-28T14:45:09.479Z"
   },
   {
    "duration": 144,
    "start_time": "2023-10-28T14:45:09.500Z"
   },
   {
    "duration": 150,
    "start_time": "2023-10-28T14:45:09.645Z"
   },
   {
    "duration": 116,
    "start_time": "2023-10-28T14:45:09.796Z"
   },
   {
    "duration": 7,
    "start_time": "2023-10-28T14:45:09.914Z"
   },
   {
    "duration": 155,
    "start_time": "2023-10-28T14:45:09.923Z"
   },
   {
    "duration": 153,
    "start_time": "2023-10-28T14:45:10.080Z"
   },
   {
    "duration": 20,
    "start_time": "2023-10-28T14:45:10.235Z"
   },
   {
    "duration": 17,
    "start_time": "2023-10-28T14:45:10.257Z"
   },
   {
    "duration": 14,
    "start_time": "2023-10-28T14:45:10.275Z"
   },
   {
    "duration": 179,
    "start_time": "2023-10-28T14:47:06.422Z"
   },
   {
    "duration": 164,
    "start_time": "2023-10-28T15:02:34.794Z"
   },
   {
    "duration": 126,
    "start_time": "2023-10-28T15:02:46.071Z"
   },
   {
    "duration": 386,
    "start_time": "2023-10-28T15:02:50.865Z"
   },
   {
    "duration": 66,
    "start_time": "2023-10-28T15:02:51.253Z"
   },
   {
    "duration": 13,
    "start_time": "2023-10-28T15:02:51.321Z"
   },
   {
    "duration": 16,
    "start_time": "2023-10-28T15:02:51.335Z"
   },
   {
    "duration": 29,
    "start_time": "2023-10-28T15:02:51.353Z"
   },
   {
    "duration": 68,
    "start_time": "2023-10-28T15:02:51.384Z"
   },
   {
    "duration": 39,
    "start_time": "2023-10-28T15:02:51.454Z"
   },
   {
    "duration": 23,
    "start_time": "2023-10-28T15:02:51.494Z"
   },
   {
    "duration": 26,
    "start_time": "2023-10-28T15:02:51.518Z"
   },
   {
    "duration": 21,
    "start_time": "2023-10-28T15:02:51.546Z"
   },
   {
    "duration": 31,
    "start_time": "2023-10-28T15:02:51.569Z"
   },
   {
    "duration": 25,
    "start_time": "2023-10-28T15:02:51.602Z"
   },
   {
    "duration": 10,
    "start_time": "2023-10-28T15:02:51.628Z"
   },
   {
    "duration": 16,
    "start_time": "2023-10-28T15:02:51.641Z"
   },
   {
    "duration": 10,
    "start_time": "2023-10-28T15:02:51.658Z"
   },
   {
    "duration": 383,
    "start_time": "2023-10-28T15:02:51.669Z"
   },
   {
    "duration": 8,
    "start_time": "2023-10-28T15:02:52.053Z"
   },
   {
    "duration": 22,
    "start_time": "2023-10-28T15:02:52.063Z"
   },
   {
    "duration": 155,
    "start_time": "2023-10-28T15:02:52.086Z"
   },
   {
    "duration": 144,
    "start_time": "2023-10-28T15:02:52.243Z"
   },
   {
    "duration": 114,
    "start_time": "2023-10-28T15:02:52.389Z"
   },
   {
    "duration": 6,
    "start_time": "2023-10-28T15:02:52.505Z"
   },
   {
    "duration": 175,
    "start_time": "2023-10-28T15:02:52.513Z"
   },
   {
    "duration": 163,
    "start_time": "2023-10-28T15:02:52.690Z"
   },
   {
    "duration": 14,
    "start_time": "2023-10-28T15:02:52.855Z"
   },
   {
    "duration": 25,
    "start_time": "2023-10-28T15:02:52.871Z"
   },
   {
    "duration": 28,
    "start_time": "2023-10-28T15:02:52.897Z"
   },
   {
    "duration": 209,
    "start_time": "2023-10-28T15:02:52.927Z"
   },
   {
    "duration": 149,
    "start_time": "2023-10-28T15:05:34.757Z"
   },
   {
    "duration": 139,
    "start_time": "2023-10-28T15:05:41.944Z"
   },
   {
    "duration": 155,
    "start_time": "2023-10-28T15:06:18.882Z"
   },
   {
    "duration": 147,
    "start_time": "2023-10-28T15:06:38.869Z"
   },
   {
    "duration": 397,
    "start_time": "2023-10-28T15:06:44.951Z"
   },
   {
    "duration": 68,
    "start_time": "2023-10-28T15:06:45.349Z"
   },
   {
    "duration": 14,
    "start_time": "2023-10-28T15:06:45.419Z"
   },
   {
    "duration": 8,
    "start_time": "2023-10-28T15:06:45.435Z"
   },
   {
    "duration": 17,
    "start_time": "2023-10-28T15:06:45.445Z"
   },
   {
    "duration": 18,
    "start_time": "2023-10-28T15:06:45.463Z"
   },
   {
    "duration": 7,
    "start_time": "2023-10-28T15:06:45.482Z"
   },
   {
    "duration": 10,
    "start_time": "2023-10-28T15:06:45.490Z"
   },
   {
    "duration": 22,
    "start_time": "2023-10-28T15:06:45.502Z"
   },
   {
    "duration": 16,
    "start_time": "2023-10-28T15:06:45.526Z"
   },
   {
    "duration": 12,
    "start_time": "2023-10-28T15:06:45.543Z"
   },
   {
    "duration": 8,
    "start_time": "2023-10-28T15:06:45.557Z"
   },
   {
    "duration": 14,
    "start_time": "2023-10-28T15:06:45.567Z"
   },
   {
    "duration": 19,
    "start_time": "2023-10-28T15:06:45.583Z"
   },
   {
    "duration": 14,
    "start_time": "2023-10-28T15:06:45.603Z"
   },
   {
    "duration": 383,
    "start_time": "2023-10-28T15:06:45.619Z"
   },
   {
    "duration": 9,
    "start_time": "2023-10-28T15:06:46.004Z"
   },
   {
    "duration": 11,
    "start_time": "2023-10-28T15:06:46.014Z"
   },
   {
    "duration": 140,
    "start_time": "2023-10-28T15:06:46.026Z"
   },
   {
    "duration": 151,
    "start_time": "2023-10-28T15:06:46.168Z"
   },
   {
    "duration": 127,
    "start_time": "2023-10-28T15:06:46.320Z"
   },
   {
    "duration": 7,
    "start_time": "2023-10-28T15:06:46.449Z"
   },
   {
    "duration": 158,
    "start_time": "2023-10-28T15:06:46.458Z"
   },
   {
    "duration": 159,
    "start_time": "2023-10-28T15:06:46.618Z"
   },
   {
    "duration": 16,
    "start_time": "2023-10-28T15:06:46.778Z"
   },
   {
    "duration": 19,
    "start_time": "2023-10-28T15:06:46.796Z"
   },
   {
    "duration": 20,
    "start_time": "2023-10-28T15:06:46.817Z"
   },
   {
    "duration": 172,
    "start_time": "2023-10-28T15:06:46.839Z"
   },
   {
    "duration": 153,
    "start_time": "2023-10-28T15:06:47.013Z"
   },
   {
    "duration": 15,
    "start_time": "2023-10-28T15:13:24.211Z"
   },
   {
    "duration": 14,
    "start_time": "2023-10-28T15:13:42.694Z"
   },
   {
    "duration": 16,
    "start_time": "2023-10-28T15:14:00.721Z"
   },
   {
    "duration": 4,
    "start_time": "2023-10-28T15:14:10.157Z"
   },
   {
    "duration": 71,
    "start_time": "2023-10-28T15:14:38.273Z"
   },
   {
    "duration": 19,
    "start_time": "2023-10-28T15:14:47.859Z"
   },
   {
    "duration": 140,
    "start_time": "2023-10-28T15:18:48.665Z"
   },
   {
    "duration": 140,
    "start_time": "2023-10-28T15:19:31.437Z"
   },
   {
    "duration": 214,
    "start_time": "2023-10-28T15:20:22.436Z"
   },
   {
    "duration": 149,
    "start_time": "2023-10-28T15:20:54.996Z"
   },
   {
    "duration": 112,
    "start_time": "2023-10-28T15:21:00.736Z"
   },
   {
    "duration": 174,
    "start_time": "2023-10-28T15:21:13.709Z"
   },
   {
    "duration": 372,
    "start_time": "2023-10-28T15:21:18.372Z"
   },
   {
    "duration": 68,
    "start_time": "2023-10-28T15:21:18.746Z"
   },
   {
    "duration": 14,
    "start_time": "2023-10-28T15:21:18.815Z"
   },
   {
    "duration": 11,
    "start_time": "2023-10-28T15:21:18.831Z"
   },
   {
    "duration": 25,
    "start_time": "2023-10-28T15:21:18.843Z"
   },
   {
    "duration": 32,
    "start_time": "2023-10-28T15:21:18.869Z"
   },
   {
    "duration": 38,
    "start_time": "2023-10-28T15:21:18.903Z"
   },
   {
    "duration": 47,
    "start_time": "2023-10-28T15:21:18.943Z"
   },
   {
    "duration": 23,
    "start_time": "2023-10-28T15:21:18.991Z"
   },
   {
    "duration": 29,
    "start_time": "2023-10-28T15:21:19.016Z"
   },
   {
    "duration": 8,
    "start_time": "2023-10-28T15:21:19.047Z"
   },
   {
    "duration": 17,
    "start_time": "2023-10-28T15:21:19.056Z"
   },
   {
    "duration": 12,
    "start_time": "2023-10-28T15:21:19.075Z"
   },
   {
    "duration": 13,
    "start_time": "2023-10-28T15:21:19.088Z"
   },
   {
    "duration": 10,
    "start_time": "2023-10-28T15:21:19.103Z"
   },
   {
    "duration": 396,
    "start_time": "2023-10-28T15:21:19.114Z"
   },
   {
    "duration": 11,
    "start_time": "2023-10-28T15:21:19.511Z"
   },
   {
    "duration": 20,
    "start_time": "2023-10-28T15:21:19.523Z"
   },
   {
    "duration": 129,
    "start_time": "2023-10-28T15:21:19.545Z"
   },
   {
    "duration": 160,
    "start_time": "2023-10-28T15:21:19.676Z"
   },
   {
    "duration": 126,
    "start_time": "2023-10-28T15:21:19.838Z"
   },
   {
    "duration": 6,
    "start_time": "2023-10-28T15:21:19.966Z"
   },
   {
    "duration": 154,
    "start_time": "2023-10-28T15:21:19.974Z"
   },
   {
    "duration": 156,
    "start_time": "2023-10-28T15:21:20.129Z"
   },
   {
    "duration": 14,
    "start_time": "2023-10-28T15:21:20.287Z"
   },
   {
    "duration": 9,
    "start_time": "2023-10-28T15:21:20.302Z"
   },
   {
    "duration": 13,
    "start_time": "2023-10-28T15:21:20.313Z"
   },
   {
    "duration": 163,
    "start_time": "2023-10-28T15:21:20.329Z"
   },
   {
    "duration": 151,
    "start_time": "2023-10-28T15:21:20.494Z"
   },
   {
    "duration": 156,
    "start_time": "2023-10-28T15:21:20.646Z"
   },
   {
    "duration": 153,
    "start_time": "2023-10-28T15:21:20.803Z"
   },
   {
    "duration": 21,
    "start_time": "2023-10-28T15:21:20.957Z"
   },
   {
    "duration": 21,
    "start_time": "2023-10-28T15:23:05.030Z"
   },
   {
    "duration": 14,
    "start_time": "2023-10-28T15:24:50.455Z"
   },
   {
    "duration": 4,
    "start_time": "2023-10-28T15:24:55.066Z"
   },
   {
    "duration": 419,
    "start_time": "2023-10-28T15:24:59.224Z"
   },
   {
    "duration": 66,
    "start_time": "2023-10-28T15:24:59.645Z"
   },
   {
    "duration": 15,
    "start_time": "2023-10-28T15:24:59.713Z"
   },
   {
    "duration": 24,
    "start_time": "2023-10-28T15:24:59.729Z"
   },
   {
    "duration": 23,
    "start_time": "2023-10-28T15:24:59.754Z"
   },
   {
    "duration": 33,
    "start_time": "2023-10-28T15:24:59.779Z"
   },
   {
    "duration": 28,
    "start_time": "2023-10-28T15:24:59.814Z"
   },
   {
    "duration": 16,
    "start_time": "2023-10-28T15:24:59.843Z"
   },
   {
    "duration": 24,
    "start_time": "2023-10-28T15:24:59.861Z"
   },
   {
    "duration": 26,
    "start_time": "2023-10-28T15:24:59.886Z"
   },
   {
    "duration": 12,
    "start_time": "2023-10-28T15:24:59.913Z"
   },
   {
    "duration": 25,
    "start_time": "2023-10-28T15:24:59.926Z"
   },
   {
    "duration": 32,
    "start_time": "2023-10-28T15:24:59.952Z"
   },
   {
    "duration": 27,
    "start_time": "2023-10-28T15:24:59.987Z"
   },
   {
    "duration": 67,
    "start_time": "2023-10-28T15:25:00.016Z"
   },
   {
    "duration": 100,
    "start_time": "2023-10-28T15:25:00.084Z"
   },
   {
    "duration": 397,
    "start_time": "2023-10-28T15:25:00.185Z"
   },
   {
    "duration": 9,
    "start_time": "2023-10-28T15:25:00.583Z"
   },
   {
    "duration": 82,
    "start_time": "2023-10-28T15:25:00.593Z"
   },
   {
    "duration": 193,
    "start_time": "2023-10-28T15:25:00.676Z"
   },
   {
    "duration": 147,
    "start_time": "2023-10-28T15:25:00.870Z"
   },
   {
    "duration": 112,
    "start_time": "2023-10-28T15:25:01.019Z"
   },
   {
    "duration": 12,
    "start_time": "2023-10-28T15:25:01.132Z"
   },
   {
    "duration": 182,
    "start_time": "2023-10-28T15:25:01.146Z"
   },
   {
    "duration": 171,
    "start_time": "2023-10-28T15:25:01.329Z"
   },
   {
    "duration": 15,
    "start_time": "2023-10-28T15:25:01.501Z"
   },
   {
    "duration": 95,
    "start_time": "2023-10-28T15:25:01.517Z"
   },
   {
    "duration": 79,
    "start_time": "2023-10-28T15:25:01.614Z"
   },
   {
    "duration": 221,
    "start_time": "2023-10-28T15:25:01.695Z"
   },
   {
    "duration": 145,
    "start_time": "2023-10-28T15:25:01.917Z"
   },
   {
    "duration": 149,
    "start_time": "2023-10-28T15:25:02.063Z"
   },
   {
    "duration": 149,
    "start_time": "2023-10-28T15:25:02.214Z"
   },
   {
    "duration": 19,
    "start_time": "2023-10-28T15:25:02.364Z"
   },
   {
    "duration": 156,
    "start_time": "2023-10-28T15:26:04.676Z"
   },
   {
    "duration": 144,
    "start_time": "2023-10-28T15:26:13.337Z"
   },
   {
    "duration": 136,
    "start_time": "2023-10-28T15:26:16.641Z"
   },
   {
    "duration": 143,
    "start_time": "2023-10-28T15:26:19.762Z"
   },
   {
    "duration": 137,
    "start_time": "2023-10-28T15:26:25.327Z"
   },
   {
    "duration": 144,
    "start_time": "2023-10-28T15:26:29.433Z"
   },
   {
    "duration": 203,
    "start_time": "2023-10-28T15:26:32.821Z"
   },
   {
    "duration": 133,
    "start_time": "2023-10-28T15:26:35.964Z"
   },
   {
    "duration": 252,
    "start_time": "2023-10-28T15:26:42.773Z"
   },
   {
    "duration": 147,
    "start_time": "2023-10-28T15:26:46.654Z"
   },
   {
    "duration": 145,
    "start_time": "2023-10-28T15:26:51.686Z"
   },
   {
    "duration": 147,
    "start_time": "2023-10-28T15:26:55.162Z"
   },
   {
    "duration": 141,
    "start_time": "2023-10-28T15:26:58.397Z"
   },
   {
    "duration": 144,
    "start_time": "2023-10-28T15:27:02.726Z"
   },
   {
    "duration": 416,
    "start_time": "2023-10-28T15:27:09.021Z"
   },
   {
    "duration": 67,
    "start_time": "2023-10-28T15:27:09.439Z"
   },
   {
    "duration": 14,
    "start_time": "2023-10-28T15:27:09.508Z"
   },
   {
    "duration": 20,
    "start_time": "2023-10-28T15:27:09.524Z"
   },
   {
    "duration": 21,
    "start_time": "2023-10-28T15:27:09.546Z"
   },
   {
    "duration": 25,
    "start_time": "2023-10-28T15:27:09.569Z"
   },
   {
    "duration": 7,
    "start_time": "2023-10-28T15:27:09.596Z"
   },
   {
    "duration": 12,
    "start_time": "2023-10-28T15:27:09.604Z"
   },
   {
    "duration": 12,
    "start_time": "2023-10-28T15:27:09.618Z"
   },
   {
    "duration": 10,
    "start_time": "2023-10-28T15:27:09.631Z"
   },
   {
    "duration": 26,
    "start_time": "2023-10-28T15:27:09.643Z"
   },
   {
    "duration": 8,
    "start_time": "2023-10-28T15:27:09.670Z"
   },
   {
    "duration": 10,
    "start_time": "2023-10-28T15:27:09.680Z"
   },
   {
    "duration": 5,
    "start_time": "2023-10-28T15:27:09.693Z"
   },
   {
    "duration": 26,
    "start_time": "2023-10-28T15:27:09.699Z"
   },
   {
    "duration": 6,
    "start_time": "2023-10-28T15:27:09.727Z"
   },
   {
    "duration": 414,
    "start_time": "2023-10-28T15:27:09.735Z"
   },
   {
    "duration": 10,
    "start_time": "2023-10-28T15:27:10.150Z"
   },
   {
    "duration": 7,
    "start_time": "2023-10-28T15:27:10.161Z"
   },
   {
    "duration": 142,
    "start_time": "2023-10-28T15:27:10.169Z"
   },
   {
    "duration": 160,
    "start_time": "2023-10-28T15:27:10.313Z"
   },
   {
    "duration": 109,
    "start_time": "2023-10-28T15:27:10.474Z"
   },
   {
    "duration": 12,
    "start_time": "2023-10-28T15:27:10.585Z"
   },
   {
    "duration": 150,
    "start_time": "2023-10-28T15:27:10.598Z"
   },
   {
    "duration": 157,
    "start_time": "2023-10-28T15:27:10.749Z"
   },
   {
    "duration": 15,
    "start_time": "2023-10-28T15:27:10.907Z"
   },
   {
    "duration": 24,
    "start_time": "2023-10-28T15:27:10.923Z"
   },
   {
    "duration": 8,
    "start_time": "2023-10-28T15:27:10.948Z"
   },
   {
    "duration": 167,
    "start_time": "2023-10-28T15:27:10.957Z"
   },
   {
    "duration": 154,
    "start_time": "2023-10-28T15:27:11.126Z"
   },
   {
    "duration": 146,
    "start_time": "2023-10-28T15:27:11.282Z"
   },
   {
    "duration": 148,
    "start_time": "2023-10-28T15:27:11.430Z"
   },
   {
    "duration": 18,
    "start_time": "2023-10-28T15:27:11.580Z"
   },
   {
    "duration": 4,
    "start_time": "2023-10-28T15:34:08.084Z"
   },
   {
    "duration": 6,
    "start_time": "2023-10-28T15:34:12.322Z"
   },
   {
    "duration": 17,
    "start_time": "2023-10-28T15:38:30.169Z"
   },
   {
    "duration": 18,
    "start_time": "2023-10-28T15:41:59.145Z"
   },
   {
    "duration": 72,
    "start_time": "2023-10-28T15:42:19.460Z"
   },
   {
    "duration": 21,
    "start_time": "2023-10-28T15:42:23.982Z"
   },
   {
    "duration": 13,
    "start_time": "2023-10-28T15:42:58.469Z"
   },
   {
    "duration": 445,
    "start_time": "2023-10-28T15:43:06.512Z"
   },
   {
    "duration": 67,
    "start_time": "2023-10-28T15:43:06.959Z"
   },
   {
    "duration": 19,
    "start_time": "2023-10-28T15:43:07.028Z"
   },
   {
    "duration": 8,
    "start_time": "2023-10-28T15:43:07.049Z"
   },
   {
    "duration": 10,
    "start_time": "2023-10-28T15:43:07.059Z"
   },
   {
    "duration": 18,
    "start_time": "2023-10-28T15:43:07.070Z"
   },
   {
    "duration": 7,
    "start_time": "2023-10-28T15:43:07.089Z"
   },
   {
    "duration": 16,
    "start_time": "2023-10-28T15:43:07.097Z"
   },
   {
    "duration": 8,
    "start_time": "2023-10-28T15:43:07.115Z"
   },
   {
    "duration": 5,
    "start_time": "2023-10-28T15:43:07.125Z"
   },
   {
    "duration": 10,
    "start_time": "2023-10-28T15:43:07.131Z"
   },
   {
    "duration": 6,
    "start_time": "2023-10-28T15:43:07.143Z"
   },
   {
    "duration": 18,
    "start_time": "2023-10-28T15:43:07.151Z"
   },
   {
    "duration": 19,
    "start_time": "2023-10-28T15:43:07.171Z"
   },
   {
    "duration": 10,
    "start_time": "2023-10-28T15:43:07.192Z"
   },
   {
    "duration": 4,
    "start_time": "2023-10-28T15:43:07.204Z"
   },
   {
    "duration": 441,
    "start_time": "2023-10-28T15:43:07.209Z"
   },
   {
    "duration": 10,
    "start_time": "2023-10-28T15:43:07.651Z"
   },
   {
    "duration": 5,
    "start_time": "2023-10-28T15:43:07.662Z"
   },
   {
    "duration": 143,
    "start_time": "2023-10-28T15:43:07.668Z"
   },
   {
    "duration": 152,
    "start_time": "2023-10-28T15:43:07.813Z"
   },
   {
    "duration": 126,
    "start_time": "2023-10-28T15:43:07.966Z"
   },
   {
    "duration": 7,
    "start_time": "2023-10-28T15:43:08.094Z"
   },
   {
    "duration": 156,
    "start_time": "2023-10-28T15:43:08.102Z"
   },
   {
    "duration": 164,
    "start_time": "2023-10-28T15:43:08.259Z"
   },
   {
    "duration": 28,
    "start_time": "2023-10-28T15:43:08.425Z"
   },
   {
    "duration": 9,
    "start_time": "2023-10-28T15:43:08.455Z"
   },
   {
    "duration": 6,
    "start_time": "2023-10-28T15:43:08.466Z"
   },
   {
    "duration": 164,
    "start_time": "2023-10-28T15:43:08.474Z"
   },
   {
    "duration": 143,
    "start_time": "2023-10-28T15:43:08.644Z"
   },
   {
    "duration": 164,
    "start_time": "2023-10-28T15:43:08.788Z"
   },
   {
    "duration": 152,
    "start_time": "2023-10-28T15:43:08.953Z"
   },
   {
    "duration": 12,
    "start_time": "2023-10-28T15:43:09.106Z"
   },
   {
    "duration": 17,
    "start_time": "2023-10-28T15:43:31.256Z"
   },
   {
    "duration": 13,
    "start_time": "2023-10-28T15:45:52.216Z"
   },
   {
    "duration": 17,
    "start_time": "2023-10-28T15:46:00.590Z"
   },
   {
    "duration": 17,
    "start_time": "2023-10-28T15:46:44.730Z"
   },
   {
    "duration": 385,
    "start_time": "2023-10-28T15:46:52.773Z"
   },
   {
    "duration": 65,
    "start_time": "2023-10-28T15:46:53.160Z"
   },
   {
    "duration": 14,
    "start_time": "2023-10-28T15:46:53.227Z"
   },
   {
    "duration": 9,
    "start_time": "2023-10-28T15:46:53.243Z"
   },
   {
    "duration": 25,
    "start_time": "2023-10-28T15:46:53.254Z"
   },
   {
    "duration": 36,
    "start_time": "2023-10-28T15:46:53.281Z"
   },
   {
    "duration": 10,
    "start_time": "2023-10-28T15:46:53.319Z"
   },
   {
    "duration": 12,
    "start_time": "2023-10-28T15:46:53.330Z"
   },
   {
    "duration": 7,
    "start_time": "2023-10-28T15:46:53.343Z"
   },
   {
    "duration": 16,
    "start_time": "2023-10-28T15:46:53.351Z"
   },
   {
    "duration": 21,
    "start_time": "2023-10-28T15:46:53.369Z"
   },
   {
    "duration": 7,
    "start_time": "2023-10-28T15:46:53.392Z"
   },
   {
    "duration": 15,
    "start_time": "2023-10-28T15:46:53.401Z"
   },
   {
    "duration": 6,
    "start_time": "2023-10-28T15:46:53.420Z"
   },
   {
    "duration": 16,
    "start_time": "2023-10-28T15:46:53.428Z"
   },
   {
    "duration": 20,
    "start_time": "2023-10-28T15:46:53.446Z"
   },
   {
    "duration": 397,
    "start_time": "2023-10-28T15:46:53.467Z"
   },
   {
    "duration": 10,
    "start_time": "2023-10-28T15:46:53.866Z"
   },
   {
    "duration": 20,
    "start_time": "2023-10-28T15:46:53.877Z"
   },
   {
    "duration": 133,
    "start_time": "2023-10-28T15:46:53.898Z"
   },
   {
    "duration": 155,
    "start_time": "2023-10-28T15:46:54.033Z"
   },
   {
    "duration": 116,
    "start_time": "2023-10-28T15:46:54.190Z"
   },
   {
    "duration": 6,
    "start_time": "2023-10-28T15:46:54.308Z"
   },
   {
    "duration": 188,
    "start_time": "2023-10-28T15:46:54.315Z"
   },
   {
    "duration": 156,
    "start_time": "2023-10-28T15:46:54.505Z"
   },
   {
    "duration": 15,
    "start_time": "2023-10-28T15:46:54.662Z"
   },
   {
    "duration": 8,
    "start_time": "2023-10-28T15:46:54.678Z"
   },
   {
    "duration": 6,
    "start_time": "2023-10-28T15:46:54.687Z"
   },
   {
    "duration": 168,
    "start_time": "2023-10-28T15:46:54.694Z"
   },
   {
    "duration": 139,
    "start_time": "2023-10-28T15:46:54.864Z"
   },
   {
    "duration": 152,
    "start_time": "2023-10-28T15:46:55.005Z"
   },
   {
    "duration": 146,
    "start_time": "2023-10-28T15:46:55.159Z"
   },
   {
    "duration": 17,
    "start_time": "2023-10-28T15:46:55.306Z"
   },
   {
    "duration": 6,
    "start_time": "2023-10-28T15:48:31.857Z"
   },
   {
    "duration": 1363,
    "start_time": "2023-10-28T15:52:28.921Z"
   },
   {
    "duration": 22,
    "start_time": "2023-10-28T15:54:39.191Z"
   },
   {
    "duration": 27,
    "start_time": "2023-10-28T15:54:51.066Z"
   },
   {
    "duration": 421,
    "start_time": "2023-10-28T15:55:17.620Z"
   },
   {
    "duration": 66,
    "start_time": "2023-10-28T15:55:18.043Z"
   },
   {
    "duration": 14,
    "start_time": "2023-10-28T15:55:18.110Z"
   },
   {
    "duration": 19,
    "start_time": "2023-10-28T15:55:18.126Z"
   },
   {
    "duration": 17,
    "start_time": "2023-10-28T15:55:18.147Z"
   },
   {
    "duration": 13,
    "start_time": "2023-10-28T15:55:18.165Z"
   },
   {
    "duration": 7,
    "start_time": "2023-10-28T15:55:18.179Z"
   },
   {
    "duration": 8,
    "start_time": "2023-10-28T15:55:18.187Z"
   },
   {
    "duration": 11,
    "start_time": "2023-10-28T15:55:18.196Z"
   },
   {
    "duration": 14,
    "start_time": "2023-10-28T15:55:18.208Z"
   },
   {
    "duration": 26,
    "start_time": "2023-10-28T15:55:18.224Z"
   },
   {
    "duration": 9,
    "start_time": "2023-10-28T15:55:18.252Z"
   },
   {
    "duration": 6,
    "start_time": "2023-10-28T15:55:18.263Z"
   },
   {
    "duration": 7,
    "start_time": "2023-10-28T15:55:18.272Z"
   },
   {
    "duration": 9,
    "start_time": "2023-10-28T15:55:18.281Z"
   },
   {
    "duration": 17,
    "start_time": "2023-10-28T15:55:18.291Z"
   },
   {
    "duration": 364,
    "start_time": "2023-10-28T15:55:18.310Z"
   },
   {
    "duration": 9,
    "start_time": "2023-10-28T15:55:18.675Z"
   },
   {
    "duration": 24,
    "start_time": "2023-10-28T15:55:18.686Z"
   },
   {
    "duration": 131,
    "start_time": "2023-10-28T15:55:18.712Z"
   },
   {
    "duration": 165,
    "start_time": "2023-10-28T15:55:18.845Z"
   },
   {
    "duration": 112,
    "start_time": "2023-10-28T15:55:19.012Z"
   },
   {
    "duration": 6,
    "start_time": "2023-10-28T15:55:19.125Z"
   },
   {
    "duration": 154,
    "start_time": "2023-10-28T15:55:19.132Z"
   },
   {
    "duration": 172,
    "start_time": "2023-10-28T15:55:19.287Z"
   },
   {
    "duration": 16,
    "start_time": "2023-10-28T15:55:19.460Z"
   },
   {
    "duration": 8,
    "start_time": "2023-10-28T15:55:19.478Z"
   },
   {
    "duration": 21,
    "start_time": "2023-10-28T15:55:19.488Z"
   },
   {
    "duration": 181,
    "start_time": "2023-10-28T15:55:19.511Z"
   },
   {
    "duration": 146,
    "start_time": "2023-10-28T15:55:19.693Z"
   },
   {
    "duration": 150,
    "start_time": "2023-10-28T15:55:19.843Z"
   },
   {
    "duration": 150,
    "start_time": "2023-10-28T15:55:19.994Z"
   },
   {
    "duration": 28,
    "start_time": "2023-10-28T15:55:20.145Z"
   },
   {
    "duration": 6,
    "start_time": "2023-10-28T15:55:33.842Z"
   },
   {
    "duration": 27,
    "start_time": "2023-10-28T15:58:29.540Z"
   },
   {
    "duration": 863,
    "start_time": "2023-10-28T16:05:26.625Z"
   },
   {
    "duration": 66,
    "start_time": "2023-10-28T16:05:27.490Z"
   },
   {
    "duration": 15,
    "start_time": "2023-10-28T16:05:27.557Z"
   },
   {
    "duration": 72,
    "start_time": "2023-10-28T16:05:27.574Z"
   },
   {
    "duration": 58,
    "start_time": "2023-10-28T16:05:27.648Z"
   },
   {
    "duration": 15,
    "start_time": "2023-10-28T16:05:27.707Z"
   },
   {
    "duration": 7,
    "start_time": "2023-10-28T16:05:27.723Z"
   },
   {
    "duration": 14,
    "start_time": "2023-10-28T16:05:27.731Z"
   },
   {
    "duration": 10,
    "start_time": "2023-10-28T16:05:27.746Z"
   },
   {
    "duration": 8,
    "start_time": "2023-10-28T16:05:27.758Z"
   },
   {
    "duration": 11,
    "start_time": "2023-10-28T16:05:27.767Z"
   },
   {
    "duration": 6,
    "start_time": "2023-10-28T16:05:27.780Z"
   },
   {
    "duration": 11,
    "start_time": "2023-10-28T16:05:27.787Z"
   },
   {
    "duration": 6,
    "start_time": "2023-10-28T16:05:27.799Z"
   },
   {
    "duration": 24,
    "start_time": "2023-10-28T16:05:27.807Z"
   },
   {
    "duration": 27,
    "start_time": "2023-10-28T16:05:27.833Z"
   },
   {
    "duration": 393,
    "start_time": "2023-10-28T16:05:27.862Z"
   },
   {
    "duration": 9,
    "start_time": "2023-10-28T16:05:28.256Z"
   },
   {
    "duration": 6,
    "start_time": "2023-10-28T16:05:28.267Z"
   },
   {
    "duration": 150,
    "start_time": "2023-10-28T16:05:28.274Z"
   },
   {
    "duration": 155,
    "start_time": "2023-10-28T16:05:28.425Z"
   },
   {
    "duration": 116,
    "start_time": "2023-10-28T16:05:28.581Z"
   },
   {
    "duration": 7,
    "start_time": "2023-10-28T16:05:28.698Z"
   },
   {
    "duration": 157,
    "start_time": "2023-10-28T16:05:28.707Z"
   },
   {
    "duration": 112,
    "start_time": "2023-10-28T16:05:28.866Z"
   },
   {
    "duration": 15,
    "start_time": "2023-10-28T16:05:28.980Z"
   },
   {
    "duration": 10,
    "start_time": "2023-10-28T16:05:28.996Z"
   },
   {
    "duration": 12,
    "start_time": "2023-10-28T16:05:29.009Z"
   },
   {
    "duration": 180,
    "start_time": "2023-10-28T16:05:29.023Z"
   },
   {
    "duration": 156,
    "start_time": "2023-10-28T16:05:29.205Z"
   },
   {
    "duration": 171,
    "start_time": "2023-10-28T16:05:29.363Z"
   },
   {
    "duration": 148,
    "start_time": "2023-10-28T16:05:29.536Z"
   },
   {
    "duration": 28,
    "start_time": "2023-10-28T16:05:29.686Z"
   },
   {
    "duration": 38,
    "start_time": "2023-10-28T16:05:29.716Z"
   },
   {
    "duration": 6,
    "start_time": "2023-10-28T16:09:22.176Z"
   },
   {
    "duration": 6,
    "start_time": "2023-10-28T16:18:10.803Z"
   },
   {
    "duration": 9,
    "start_time": "2023-10-28T16:19:47.268Z"
   },
   {
    "duration": 8,
    "start_time": "2023-10-28T16:20:00.604Z"
   },
   {
    "duration": 7,
    "start_time": "2023-10-28T16:20:42.576Z"
   },
   {
    "duration": 872,
    "start_time": "2023-10-28T16:25:26.189Z"
   },
   {
    "duration": 68,
    "start_time": "2023-10-28T16:25:27.062Z"
   },
   {
    "duration": 16,
    "start_time": "2023-10-28T16:25:27.132Z"
   },
   {
    "duration": 22,
    "start_time": "2023-10-28T16:25:27.149Z"
   },
   {
    "duration": 14,
    "start_time": "2023-10-28T16:25:27.173Z"
   },
   {
    "duration": 21,
    "start_time": "2023-10-28T16:25:27.189Z"
   },
   {
    "duration": 7,
    "start_time": "2023-10-28T16:25:27.212Z"
   },
   {
    "duration": 9,
    "start_time": "2023-10-28T16:25:27.220Z"
   },
   {
    "duration": 10,
    "start_time": "2023-10-28T16:25:27.230Z"
   },
   {
    "duration": 9,
    "start_time": "2023-10-28T16:25:27.242Z"
   },
   {
    "duration": 10,
    "start_time": "2023-10-28T16:25:27.253Z"
   },
   {
    "duration": 10,
    "start_time": "2023-10-28T16:25:27.264Z"
   },
   {
    "duration": 19,
    "start_time": "2023-10-28T16:25:27.277Z"
   },
   {
    "duration": 11,
    "start_time": "2023-10-28T16:25:27.299Z"
   },
   {
    "duration": 9,
    "start_time": "2023-10-28T16:25:27.312Z"
   },
   {
    "duration": 26,
    "start_time": "2023-10-28T16:25:27.323Z"
   },
   {
    "duration": 413,
    "start_time": "2023-10-28T16:25:27.351Z"
   },
   {
    "duration": 9,
    "start_time": "2023-10-28T16:25:27.765Z"
   },
   {
    "duration": 100,
    "start_time": "2023-10-28T16:25:27.775Z"
   },
   {
    "duration": 171,
    "start_time": "2023-10-28T16:25:27.876Z"
   },
   {
    "duration": 163,
    "start_time": "2023-10-28T16:25:28.049Z"
   },
   {
    "duration": 119,
    "start_time": "2023-10-28T16:25:28.213Z"
   },
   {
    "duration": 13,
    "start_time": "2023-10-28T16:25:28.334Z"
   },
   {
    "duration": 161,
    "start_time": "2023-10-28T16:25:28.348Z"
   },
   {
    "duration": 117,
    "start_time": "2023-10-28T16:25:28.512Z"
   },
   {
    "duration": 26,
    "start_time": "2023-10-28T16:25:28.631Z"
   },
   {
    "duration": 13,
    "start_time": "2023-10-28T16:25:28.659Z"
   },
   {
    "duration": 21,
    "start_time": "2023-10-28T16:25:28.674Z"
   },
   {
    "duration": 179,
    "start_time": "2023-10-28T16:25:28.696Z"
   },
   {
    "duration": 152,
    "start_time": "2023-10-28T16:25:28.877Z"
   },
   {
    "duration": 175,
    "start_time": "2023-10-28T16:25:29.030Z"
   },
   {
    "duration": 164,
    "start_time": "2023-10-28T16:25:29.207Z"
   },
   {
    "duration": 30,
    "start_time": "2023-10-28T16:25:29.372Z"
   },
   {
    "duration": 18,
    "start_time": "2023-10-28T16:25:29.404Z"
   },
   {
    "duration": 27,
    "start_time": "2023-10-28T16:25:29.423Z"
   },
   {
    "duration": 10,
    "start_time": "2023-10-28T16:25:29.451Z"
   },
   {
    "duration": 3,
    "start_time": "2023-10-28T16:27:18.755Z"
   },
   {
    "duration": 98,
    "start_time": "2023-10-28T17:00:00.457Z"
   },
   {
    "duration": 6,
    "start_time": "2023-10-28T17:00:09.373Z"
   },
   {
    "duration": 31,
    "start_time": "2023-10-28T17:09:22.796Z"
   },
   {
    "duration": 40,
    "start_time": "2023-10-28T17:11:25.997Z"
   },
   {
    "duration": 29,
    "start_time": "2023-10-28T17:11:28.285Z"
   },
   {
    "duration": 868,
    "start_time": "2023-10-28T17:11:48.016Z"
   },
   {
    "duration": 67,
    "start_time": "2023-10-28T17:11:48.886Z"
   },
   {
    "duration": 14,
    "start_time": "2023-10-28T17:11:48.954Z"
   },
   {
    "duration": 21,
    "start_time": "2023-10-28T17:11:48.969Z"
   },
   {
    "duration": 29,
    "start_time": "2023-10-28T17:11:48.992Z"
   },
   {
    "duration": 32,
    "start_time": "2023-10-28T17:11:49.023Z"
   },
   {
    "duration": 8,
    "start_time": "2023-10-28T17:11:49.056Z"
   },
   {
    "duration": 3,
    "start_time": "2023-10-28T17:11:49.066Z"
   },
   {
    "duration": 13,
    "start_time": "2023-10-28T17:11:49.070Z"
   },
   {
    "duration": 20,
    "start_time": "2023-10-28T17:11:49.084Z"
   },
   {
    "duration": 8,
    "start_time": "2023-10-28T17:11:49.106Z"
   },
   {
    "duration": 6,
    "start_time": "2023-10-28T17:11:49.115Z"
   },
   {
    "duration": 15,
    "start_time": "2023-10-28T17:11:49.122Z"
   },
   {
    "duration": 23,
    "start_time": "2023-10-28T17:11:49.140Z"
   },
   {
    "duration": 13,
    "start_time": "2023-10-28T17:11:49.165Z"
   },
   {
    "duration": 10,
    "start_time": "2023-10-28T17:11:49.180Z"
   },
   {
    "duration": 414,
    "start_time": "2023-10-28T17:11:49.191Z"
   },
   {
    "duration": 9,
    "start_time": "2023-10-28T17:11:49.607Z"
   },
   {
    "duration": 18,
    "start_time": "2023-10-28T17:11:49.617Z"
   },
   {
    "duration": 133,
    "start_time": "2023-10-28T17:11:49.637Z"
   },
   {
    "duration": 154,
    "start_time": "2023-10-28T17:11:49.772Z"
   },
   {
    "duration": 115,
    "start_time": "2023-10-28T17:11:49.928Z"
   },
   {
    "duration": 6,
    "start_time": "2023-10-28T17:11:50.045Z"
   },
   {
    "duration": 148,
    "start_time": "2023-10-28T17:11:50.052Z"
   },
   {
    "duration": 107,
    "start_time": "2023-10-28T17:11:50.202Z"
   },
   {
    "duration": 16,
    "start_time": "2023-10-28T17:11:50.311Z"
   },
   {
    "duration": 23,
    "start_time": "2023-10-28T17:11:50.329Z"
   },
   {
    "duration": 15,
    "start_time": "2023-10-28T17:11:50.354Z"
   },
   {
    "duration": 157,
    "start_time": "2023-10-28T17:11:50.371Z"
   },
   {
    "duration": 147,
    "start_time": "2023-10-28T17:11:50.530Z"
   },
   {
    "duration": 157,
    "start_time": "2023-10-28T17:11:50.678Z"
   },
   {
    "duration": 150,
    "start_time": "2023-10-28T17:11:50.837Z"
   },
   {
    "duration": 30,
    "start_time": "2023-10-28T17:11:50.989Z"
   },
   {
    "duration": 43,
    "start_time": "2023-10-28T17:11:51.021Z"
   },
   {
    "duration": 7,
    "start_time": "2023-10-28T17:11:51.066Z"
   },
   {
    "duration": 35,
    "start_time": "2023-10-28T17:11:51.075Z"
   },
   {
    "duration": 8,
    "start_time": "2023-10-28T17:17:43.693Z"
   },
   {
    "duration": 813,
    "start_time": "2023-10-28T17:21:30.904Z"
   },
   {
    "duration": 73,
    "start_time": "2023-10-28T17:21:31.719Z"
   },
   {
    "duration": 14,
    "start_time": "2023-10-28T17:21:31.794Z"
   },
   {
    "duration": 85,
    "start_time": "2023-10-28T17:21:31.810Z"
   },
   {
    "duration": 51,
    "start_time": "2023-10-28T17:21:31.897Z"
   },
   {
    "duration": 55,
    "start_time": "2023-10-28T17:21:31.951Z"
   },
   {
    "duration": 57,
    "start_time": "2023-10-28T17:21:32.007Z"
   },
   {
    "duration": 52,
    "start_time": "2023-10-28T17:21:32.065Z"
   },
   {
    "duration": 50,
    "start_time": "2023-10-28T17:21:32.119Z"
   },
   {
    "duration": 57,
    "start_time": "2023-10-28T17:21:32.172Z"
   },
   {
    "duration": 88,
    "start_time": "2023-10-28T17:21:32.231Z"
   },
   {
    "duration": 82,
    "start_time": "2023-10-28T17:21:32.321Z"
   },
   {
    "duration": 36,
    "start_time": "2023-10-28T17:21:32.405Z"
   },
   {
    "duration": 40,
    "start_time": "2023-10-28T17:21:32.445Z"
   },
   {
    "duration": 27,
    "start_time": "2023-10-28T17:21:32.487Z"
   },
   {
    "duration": 32,
    "start_time": "2023-10-28T17:21:32.516Z"
   },
   {
    "duration": 441,
    "start_time": "2023-10-28T17:21:32.550Z"
   },
   {
    "duration": 9,
    "start_time": "2023-10-28T17:21:32.992Z"
   },
   {
    "duration": 5,
    "start_time": "2023-10-28T17:21:33.003Z"
   },
   {
    "duration": 183,
    "start_time": "2023-10-28T17:21:33.009Z"
   },
   {
    "duration": 178,
    "start_time": "2023-10-28T17:21:33.194Z"
   },
   {
    "duration": 126,
    "start_time": "2023-10-28T17:21:33.374Z"
   },
   {
    "duration": 6,
    "start_time": "2023-10-28T17:21:33.501Z"
   },
   {
    "duration": 175,
    "start_time": "2023-10-28T17:21:33.508Z"
   },
   {
    "duration": 143,
    "start_time": "2023-10-28T17:21:33.684Z"
   },
   {
    "duration": 30,
    "start_time": "2023-10-28T17:21:33.829Z"
   },
   {
    "duration": 9,
    "start_time": "2023-10-28T17:21:33.861Z"
   },
   {
    "duration": 7,
    "start_time": "2023-10-28T17:21:33.871Z"
   },
   {
    "duration": 180,
    "start_time": "2023-10-28T17:21:33.880Z"
   },
   {
    "duration": 149,
    "start_time": "2023-10-28T17:21:34.062Z"
   },
   {
    "duration": 179,
    "start_time": "2023-10-28T17:21:34.213Z"
   },
   {
    "duration": 204,
    "start_time": "2023-10-28T17:21:34.393Z"
   },
   {
    "duration": 34,
    "start_time": "2023-10-28T17:21:34.599Z"
   },
   {
    "duration": 44,
    "start_time": "2023-10-28T17:21:34.643Z"
   },
   {
    "duration": 8,
    "start_time": "2023-10-28T17:21:34.689Z"
   },
   {
    "duration": 15,
    "start_time": "2023-10-28T17:21:34.699Z"
   },
   {
    "duration": 30,
    "start_time": "2023-10-28T17:21:34.716Z"
   },
   {
    "duration": 100,
    "start_time": "2023-10-28T17:29:39.980Z"
   },
   {
    "duration": 3,
    "start_time": "2023-10-28T17:29:53.376Z"
   },
   {
    "duration": 855,
    "start_time": "2023-10-28T17:29:57.032Z"
   },
   {
    "duration": 68,
    "start_time": "2023-10-28T17:29:57.889Z"
   },
   {
    "duration": 15,
    "start_time": "2023-10-28T17:29:57.959Z"
   },
   {
    "duration": 8,
    "start_time": "2023-10-28T17:29:57.975Z"
   },
   {
    "duration": 15,
    "start_time": "2023-10-28T17:29:57.986Z"
   },
   {
    "duration": 28,
    "start_time": "2023-10-28T17:29:58.003Z"
   },
   {
    "duration": 7,
    "start_time": "2023-10-28T17:29:58.032Z"
   },
   {
    "duration": 19,
    "start_time": "2023-10-28T17:29:58.040Z"
   },
   {
    "duration": 16,
    "start_time": "2023-10-28T17:29:58.060Z"
   },
   {
    "duration": 13,
    "start_time": "2023-10-28T17:29:58.077Z"
   },
   {
    "duration": 10,
    "start_time": "2023-10-28T17:29:58.091Z"
   },
   {
    "duration": 8,
    "start_time": "2023-10-28T17:29:58.102Z"
   },
   {
    "duration": 29,
    "start_time": "2023-10-28T17:29:58.111Z"
   },
   {
    "duration": 18,
    "start_time": "2023-10-28T17:29:58.143Z"
   },
   {
    "duration": 11,
    "start_time": "2023-10-28T17:29:58.163Z"
   },
   {
    "duration": 7,
    "start_time": "2023-10-28T17:29:58.175Z"
   },
   {
    "duration": 409,
    "start_time": "2023-10-28T17:29:58.183Z"
   },
   {
    "duration": 9,
    "start_time": "2023-10-28T17:29:58.594Z"
   },
   {
    "duration": 12,
    "start_time": "2023-10-28T17:29:58.605Z"
   },
   {
    "duration": 158,
    "start_time": "2023-10-28T17:29:58.619Z"
   },
   {
    "duration": 163,
    "start_time": "2023-10-28T17:29:58.779Z"
   },
   {
    "duration": 125,
    "start_time": "2023-10-28T17:29:58.943Z"
   },
   {
    "duration": 7,
    "start_time": "2023-10-28T17:29:59.069Z"
   },
   {
    "duration": 177,
    "start_time": "2023-10-28T17:29:59.078Z"
   },
   {
    "duration": 117,
    "start_time": "2023-10-28T17:29:59.257Z"
   },
   {
    "duration": 16,
    "start_time": "2023-10-28T17:29:59.376Z"
   },
   {
    "duration": 9,
    "start_time": "2023-10-28T17:29:59.394Z"
   },
   {
    "duration": 13,
    "start_time": "2023-10-28T17:29:59.404Z"
   },
   {
    "duration": 180,
    "start_time": "2023-10-28T17:29:59.419Z"
   },
   {
    "duration": 159,
    "start_time": "2023-10-28T17:29:59.601Z"
   },
   {
    "duration": 165,
    "start_time": "2023-10-28T17:29:59.762Z"
   },
   {
    "duration": 159,
    "start_time": "2023-10-28T17:29:59.929Z"
   },
   {
    "duration": 31,
    "start_time": "2023-10-28T17:30:00.089Z"
   },
   {
    "duration": 56,
    "start_time": "2023-10-28T17:30:00.122Z"
   },
   {
    "duration": 28,
    "start_time": "2023-10-28T17:30:00.180Z"
   },
   {
    "duration": 47,
    "start_time": "2023-10-28T17:30:00.209Z"
   },
   {
    "duration": 40,
    "start_time": "2023-10-28T17:30:00.258Z"
   },
   {
    "duration": 142,
    "start_time": "2023-10-28T17:30:00.300Z"
   },
   {
    "duration": 1037,
    "start_time": "2023-10-28T17:30:37.356Z"
   },
   {
    "duration": 122,
    "start_time": "2023-10-28T17:30:38.395Z"
   },
   {
    "duration": 11,
    "start_time": "2023-10-28T17:30:38.519Z"
   },
   {
    "duration": 30,
    "start_time": "2023-10-28T17:30:38.531Z"
   },
   {
    "duration": 35,
    "start_time": "2023-10-28T17:30:38.564Z"
   },
   {
    "duration": 13,
    "start_time": "2023-10-28T17:30:38.600Z"
   },
   {
    "duration": 10,
    "start_time": "2023-10-28T17:30:38.615Z"
   },
   {
    "duration": 6,
    "start_time": "2023-10-28T17:30:38.626Z"
   },
   {
    "duration": 26,
    "start_time": "2023-10-28T17:30:38.633Z"
   },
   {
    "duration": 8,
    "start_time": "2023-10-28T17:30:38.660Z"
   },
   {
    "duration": 5,
    "start_time": "2023-10-28T17:30:38.669Z"
   },
   {
    "duration": 10,
    "start_time": "2023-10-28T17:30:38.675Z"
   },
   {
    "duration": 11,
    "start_time": "2023-10-28T17:30:38.686Z"
   },
   {
    "duration": 10,
    "start_time": "2023-10-28T17:30:38.700Z"
   },
   {
    "duration": 10,
    "start_time": "2023-10-28T17:30:38.711Z"
   },
   {
    "duration": 14,
    "start_time": "2023-10-28T17:30:38.723Z"
   },
   {
    "duration": 167,
    "start_time": "2023-10-28T17:30:38.738Z"
   },
   {
    "duration": 9,
    "start_time": "2023-10-28T17:30:38.907Z"
   },
   {
    "duration": 38,
    "start_time": "2023-10-28T17:30:38.917Z"
   },
   {
    "duration": 145,
    "start_time": "2023-10-28T17:30:38.957Z"
   },
   {
    "duration": 163,
    "start_time": "2023-10-28T17:30:39.103Z"
   },
   {
    "duration": 119,
    "start_time": "2023-10-28T17:30:39.268Z"
   },
   {
    "duration": 6,
    "start_time": "2023-10-28T17:30:39.389Z"
   },
   {
    "duration": 163,
    "start_time": "2023-10-28T17:30:39.397Z"
   },
   {
    "duration": 111,
    "start_time": "2023-10-28T17:30:39.562Z"
   },
   {
    "duration": 15,
    "start_time": "2023-10-28T17:30:39.675Z"
   },
   {
    "duration": 17,
    "start_time": "2023-10-28T17:30:39.691Z"
   },
   {
    "duration": 6,
    "start_time": "2023-10-28T17:30:39.710Z"
   },
   {
    "duration": 174,
    "start_time": "2023-10-28T17:30:39.717Z"
   },
   {
    "duration": 167,
    "start_time": "2023-10-28T17:30:39.893Z"
   },
   {
    "duration": 151,
    "start_time": "2023-10-28T17:30:40.062Z"
   },
   {
    "duration": 166,
    "start_time": "2023-10-28T17:30:40.215Z"
   },
   {
    "duration": 119,
    "start_time": "2023-10-28T17:30:40.382Z"
   },
   {
    "duration": 28,
    "start_time": "2023-10-28T17:30:40.502Z"
   },
   {
    "duration": 19,
    "start_time": "2023-10-28T17:30:40.532Z"
   },
   {
    "duration": 52,
    "start_time": "2023-10-28T17:30:40.552Z"
   },
   {
    "duration": 15,
    "start_time": "2023-10-28T17:30:40.606Z"
   },
   {
    "duration": 218,
    "start_time": "2023-10-28T17:30:40.623Z"
   },
   {
    "duration": 249,
    "start_time": "2023-10-28T17:31:39.215Z"
   },
   {
    "duration": 252,
    "start_time": "2023-10-28T17:31:44.484Z"
   },
   {
    "duration": 1503,
    "start_time": "2023-10-28T17:31:50.072Z"
   },
   {
    "duration": 407,
    "start_time": "2023-10-28T17:32:08.535Z"
   },
   {
    "duration": 1599,
    "start_time": "2023-10-28T17:32:28.532Z"
   },
   {
    "duration": 3,
    "start_time": "2023-10-28T17:35:44.318Z"
   },
   {
    "duration": 1024,
    "start_time": "2023-10-28T17:35:49.583Z"
   },
   {
    "duration": 119,
    "start_time": "2023-10-28T17:35:50.609Z"
   },
   {
    "duration": 11,
    "start_time": "2023-10-28T17:35:50.730Z"
   },
   {
    "duration": 32,
    "start_time": "2023-10-28T17:35:50.743Z"
   },
   {
    "duration": 25,
    "start_time": "2023-10-28T17:35:50.776Z"
   },
   {
    "duration": 24,
    "start_time": "2023-10-28T17:35:50.802Z"
   },
   {
    "duration": 14,
    "start_time": "2023-10-28T17:35:50.828Z"
   },
   {
    "duration": 14,
    "start_time": "2023-10-28T17:35:50.843Z"
   },
   {
    "duration": 31,
    "start_time": "2023-10-28T17:35:50.859Z"
   },
   {
    "duration": 51,
    "start_time": "2023-10-28T17:35:50.893Z"
   },
   {
    "duration": 66,
    "start_time": "2023-10-28T17:35:50.946Z"
   },
   {
    "duration": 42,
    "start_time": "2023-10-28T17:35:51.013Z"
   },
   {
    "duration": 38,
    "start_time": "2023-10-28T17:35:51.057Z"
   },
   {
    "duration": 64,
    "start_time": "2023-10-28T17:35:51.096Z"
   },
   {
    "duration": 39,
    "start_time": "2023-10-28T17:35:51.162Z"
   },
   {
    "duration": 47,
    "start_time": "2023-10-28T17:35:51.205Z"
   },
   {
    "duration": 183,
    "start_time": "2023-10-28T17:35:51.254Z"
   },
   {
    "duration": 9,
    "start_time": "2023-10-28T17:35:51.443Z"
   },
   {
    "duration": 20,
    "start_time": "2023-10-28T17:35:51.453Z"
   },
   {
    "duration": 142,
    "start_time": "2023-10-28T17:35:51.474Z"
   },
   {
    "duration": 154,
    "start_time": "2023-10-28T17:35:51.618Z"
   },
   {
    "duration": 117,
    "start_time": "2023-10-28T17:35:51.774Z"
   },
   {
    "duration": 6,
    "start_time": "2023-10-28T17:35:51.893Z"
   },
   {
    "duration": 152,
    "start_time": "2023-10-28T17:35:51.900Z"
   },
   {
    "duration": 112,
    "start_time": "2023-10-28T17:35:52.053Z"
   },
   {
    "duration": 16,
    "start_time": "2023-10-28T17:35:52.167Z"
   },
   {
    "duration": 20,
    "start_time": "2023-10-28T17:35:52.185Z"
   },
   {
    "duration": 15,
    "start_time": "2023-10-28T17:35:52.209Z"
   },
   {
    "duration": 169,
    "start_time": "2023-10-28T17:35:52.226Z"
   },
   {
    "duration": 150,
    "start_time": "2023-10-28T17:35:52.397Z"
   },
   {
    "duration": 158,
    "start_time": "2023-10-28T17:35:52.550Z"
   },
   {
    "duration": 150,
    "start_time": "2023-10-28T17:35:52.710Z"
   },
   {
    "duration": 115,
    "start_time": "2023-10-28T17:35:52.862Z"
   },
   {
    "duration": 27,
    "start_time": "2023-10-28T17:35:52.979Z"
   },
   {
    "duration": 7,
    "start_time": "2023-10-28T17:35:53.008Z"
   },
   {
    "duration": 28,
    "start_time": "2023-10-28T17:35:53.016Z"
   },
   {
    "duration": 8,
    "start_time": "2023-10-28T17:35:53.046Z"
   },
   {
    "duration": 5,
    "start_time": "2023-10-28T17:35:53.055Z"
   },
   {
    "duration": 92,
    "start_time": "2023-10-28T17:36:37.845Z"
   },
   {
    "duration": 5,
    "start_time": "2023-10-28T17:37:45.476Z"
   },
   {
    "duration": 5,
    "start_time": "2023-10-28T17:38:14.436Z"
   },
   {
    "duration": 6,
    "start_time": "2023-10-28T17:38:26.800Z"
   },
   {
    "duration": 6,
    "start_time": "2023-10-28T17:38:35.548Z"
   },
   {
    "duration": 10,
    "start_time": "2023-10-28T17:39:01.833Z"
   },
   {
    "duration": 9,
    "start_time": "2023-10-28T17:39:09.213Z"
   },
   {
    "duration": 6,
    "start_time": "2023-10-28T17:40:25.241Z"
   },
   {
    "duration": 5,
    "start_time": "2023-10-28T17:40:28.203Z"
   },
   {
    "duration": 5,
    "start_time": "2023-10-28T17:40:30.466Z"
   },
   {
    "duration": 6,
    "start_time": "2023-10-28T17:40:34.452Z"
   },
   {
    "duration": 5,
    "start_time": "2023-10-28T17:42:15.648Z"
   },
   {
    "duration": 5,
    "start_time": "2023-10-28T17:42:17.907Z"
   },
   {
    "duration": 6,
    "start_time": "2023-10-28T17:43:01.283Z"
   },
   {
    "duration": 5,
    "start_time": "2023-10-28T17:43:04.535Z"
   },
   {
    "duration": 8,
    "start_time": "2023-10-28T17:43:07.467Z"
   },
   {
    "duration": 6,
    "start_time": "2023-10-28T17:43:09.979Z"
   },
   {
    "duration": 99,
    "start_time": "2023-10-28T17:44:13.880Z"
   },
   {
    "duration": 11,
    "start_time": "2023-10-28T17:47:09.920Z"
   },
   {
    "duration": 6,
    "start_time": "2023-10-28T17:47:17.482Z"
   },
   {
    "duration": 150,
    "start_time": "2023-10-28T17:59:33.182Z"
   },
   {
    "duration": 166,
    "start_time": "2023-10-28T17:59:47.306Z"
   },
   {
    "duration": 131,
    "start_time": "2023-10-28T17:59:58.662Z"
   },
   {
    "duration": 139,
    "start_time": "2023-10-28T18:00:06.722Z"
   },
   {
    "duration": 157,
    "start_time": "2023-10-28T18:00:12.128Z"
   },
   {
    "duration": 145,
    "start_time": "2023-10-28T18:02:53.032Z"
   },
   {
    "duration": 147,
    "start_time": "2023-10-28T18:03:02.520Z"
   },
   {
    "duration": 142,
    "start_time": "2023-10-28T18:03:19.856Z"
   },
   {
    "duration": 148,
    "start_time": "2023-10-28T18:03:36.957Z"
   },
   {
    "duration": 151,
    "start_time": "2023-10-28T18:03:45.283Z"
   },
   {
    "duration": 172,
    "start_time": "2023-10-28T18:04:03.738Z"
   },
   {
    "duration": 1029,
    "start_time": "2023-10-28T18:05:14.878Z"
   },
   {
    "duration": 122,
    "start_time": "2023-10-28T18:05:15.909Z"
   },
   {
    "duration": 23,
    "start_time": "2023-10-28T18:05:16.033Z"
   },
   {
    "duration": 10,
    "start_time": "2023-10-28T18:05:16.058Z"
   },
   {
    "duration": 13,
    "start_time": "2023-10-28T18:05:16.070Z"
   },
   {
    "duration": 13,
    "start_time": "2023-10-28T18:05:16.084Z"
   },
   {
    "duration": 7,
    "start_time": "2023-10-28T18:05:16.099Z"
   },
   {
    "duration": 5,
    "start_time": "2023-10-28T18:05:16.108Z"
   },
   {
    "duration": 9,
    "start_time": "2023-10-28T18:05:16.115Z"
   },
   {
    "duration": 28,
    "start_time": "2023-10-28T18:05:16.127Z"
   },
   {
    "duration": 7,
    "start_time": "2023-10-28T18:05:16.157Z"
   },
   {
    "duration": 12,
    "start_time": "2023-10-28T18:05:16.166Z"
   },
   {
    "duration": 12,
    "start_time": "2023-10-28T18:05:16.180Z"
   },
   {
    "duration": 5,
    "start_time": "2023-10-28T18:05:16.194Z"
   },
   {
    "duration": 7,
    "start_time": "2023-10-28T18:05:16.201Z"
   },
   {
    "duration": 7,
    "start_time": "2023-10-28T18:05:16.209Z"
   },
   {
    "duration": 180,
    "start_time": "2023-10-28T18:05:16.217Z"
   },
   {
    "duration": 9,
    "start_time": "2023-10-28T18:05:16.399Z"
   },
   {
    "duration": 5,
    "start_time": "2023-10-28T18:05:16.410Z"
   },
   {
    "duration": 162,
    "start_time": "2023-10-28T18:05:16.417Z"
   },
   {
    "duration": 157,
    "start_time": "2023-10-28T18:05:16.581Z"
   },
   {
    "duration": 126,
    "start_time": "2023-10-28T18:05:16.744Z"
   },
   {
    "duration": 6,
    "start_time": "2023-10-28T18:05:16.871Z"
   },
   {
    "duration": 181,
    "start_time": "2023-10-28T18:05:16.879Z"
   },
   {
    "duration": 121,
    "start_time": "2023-10-28T18:05:17.063Z"
   },
   {
    "duration": 16,
    "start_time": "2023-10-28T18:05:17.186Z"
   },
   {
    "duration": 12,
    "start_time": "2023-10-28T18:05:17.203Z"
   },
   {
    "duration": 7,
    "start_time": "2023-10-28T18:05:17.218Z"
   },
   {
    "duration": 203,
    "start_time": "2023-10-28T18:05:17.227Z"
   },
   {
    "duration": 160,
    "start_time": "2023-10-28T18:05:17.432Z"
   },
   {
    "duration": 175,
    "start_time": "2023-10-28T18:05:17.594Z"
   },
   {
    "duration": 149,
    "start_time": "2023-10-28T18:05:17.771Z"
   },
   {
    "duration": 136,
    "start_time": "2023-10-28T18:05:17.922Z"
   },
   {
    "duration": 29,
    "start_time": "2023-10-28T18:05:18.060Z"
   },
   {
    "duration": 6,
    "start_time": "2023-10-28T18:05:18.091Z"
   },
   {
    "duration": 12,
    "start_time": "2023-10-28T18:05:18.099Z"
   },
   {
    "duration": 11,
    "start_time": "2023-10-28T18:05:18.113Z"
   },
   {
    "duration": 159,
    "start_time": "2023-10-28T18:05:18.125Z"
   },
   {
    "duration": 155,
    "start_time": "2023-10-28T18:05:18.285Z"
   },
   {
    "duration": 1076,
    "start_time": "2023-10-28T18:29:56.711Z"
   },
   {
    "duration": 114,
    "start_time": "2023-10-28T18:29:57.789Z"
   },
   {
    "duration": 11,
    "start_time": "2023-10-28T18:29:57.905Z"
   },
   {
    "duration": 15,
    "start_time": "2023-10-28T18:29:57.917Z"
   },
   {
    "duration": 20,
    "start_time": "2023-10-28T18:29:57.934Z"
   },
   {
    "duration": 31,
    "start_time": "2023-10-28T18:29:57.956Z"
   },
   {
    "duration": 11,
    "start_time": "2023-10-28T18:29:57.988Z"
   },
   {
    "duration": 8,
    "start_time": "2023-10-28T18:29:58.000Z"
   },
   {
    "duration": 7,
    "start_time": "2023-10-28T18:29:58.010Z"
   },
   {
    "duration": 7,
    "start_time": "2023-10-28T18:29:58.018Z"
   },
   {
    "duration": 13,
    "start_time": "2023-10-28T18:29:58.026Z"
   },
   {
    "duration": 6,
    "start_time": "2023-10-28T18:29:58.041Z"
   },
   {
    "duration": 21,
    "start_time": "2023-10-28T18:29:58.048Z"
   },
   {
    "duration": 8,
    "start_time": "2023-10-28T18:29:58.072Z"
   },
   {
    "duration": 14,
    "start_time": "2023-10-28T18:29:58.082Z"
   },
   {
    "duration": 4,
    "start_time": "2023-10-28T18:29:58.098Z"
   },
   {
    "duration": 143,
    "start_time": "2023-10-28T18:29:58.103Z"
   },
   {
    "duration": 8,
    "start_time": "2023-10-28T18:29:58.248Z"
   },
   {
    "duration": 6,
    "start_time": "2023-10-28T18:29:58.257Z"
   },
   {
    "duration": 148,
    "start_time": "2023-10-28T18:29:58.265Z"
   },
   {
    "duration": 157,
    "start_time": "2023-10-28T18:29:58.415Z"
   },
   {
    "duration": 117,
    "start_time": "2023-10-28T18:29:58.574Z"
   },
   {
    "duration": 7,
    "start_time": "2023-10-28T18:29:58.693Z"
   },
   {
    "duration": 154,
    "start_time": "2023-10-28T18:29:58.702Z"
   },
   {
    "duration": 113,
    "start_time": "2023-10-28T18:29:58.858Z"
   },
   {
    "duration": 18,
    "start_time": "2023-10-28T18:29:58.974Z"
   },
   {
    "duration": 8,
    "start_time": "2023-10-28T18:29:58.994Z"
   },
   {
    "duration": 6,
    "start_time": "2023-10-28T18:29:59.004Z"
   },
   {
    "duration": 179,
    "start_time": "2023-10-28T18:29:59.011Z"
   },
   {
    "duration": 154,
    "start_time": "2023-10-28T18:29:59.192Z"
   },
   {
    "duration": 170,
    "start_time": "2023-10-28T18:29:59.348Z"
   },
   {
    "duration": 147,
    "start_time": "2023-10-28T18:29:59.519Z"
   },
   {
    "duration": 115,
    "start_time": "2023-10-28T18:29:59.667Z"
   },
   {
    "duration": 28,
    "start_time": "2023-10-28T18:29:59.784Z"
   },
   {
    "duration": 30,
    "start_time": "2023-10-28T18:29:59.813Z"
   },
   {
    "duration": 22,
    "start_time": "2023-10-28T18:29:59.845Z"
   },
   {
    "duration": 13,
    "start_time": "2023-10-28T18:29:59.869Z"
   },
   {
    "duration": 162,
    "start_time": "2023-10-28T18:29:59.884Z"
   },
   {
    "duration": 139,
    "start_time": "2023-10-28T18:30:00.048Z"
   },
   {
    "duration": 1057,
    "start_time": "2023-10-28T18:32:10.416Z"
   },
   {
    "duration": 124,
    "start_time": "2023-10-28T18:32:11.475Z"
   },
   {
    "duration": 12,
    "start_time": "2023-10-28T18:32:11.600Z"
   },
   {
    "duration": 19,
    "start_time": "2023-10-28T18:32:11.614Z"
   },
   {
    "duration": 12,
    "start_time": "2023-10-28T18:32:11.635Z"
   },
   {
    "duration": 19,
    "start_time": "2023-10-28T18:32:11.648Z"
   },
   {
    "duration": 6,
    "start_time": "2023-10-28T18:32:11.669Z"
   },
   {
    "duration": 7,
    "start_time": "2023-10-28T18:32:11.677Z"
   },
   {
    "duration": 8,
    "start_time": "2023-10-28T18:32:11.685Z"
   },
   {
    "duration": 10,
    "start_time": "2023-10-28T18:32:11.695Z"
   },
   {
    "duration": 15,
    "start_time": "2023-10-28T18:32:11.706Z"
   },
   {
    "duration": 5,
    "start_time": "2023-10-28T18:32:11.723Z"
   },
   {
    "duration": 28,
    "start_time": "2023-10-28T18:32:11.730Z"
   },
   {
    "duration": 11,
    "start_time": "2023-10-28T18:32:11.759Z"
   },
   {
    "duration": 19,
    "start_time": "2023-10-28T18:32:11.771Z"
   },
   {
    "duration": 7,
    "start_time": "2023-10-28T18:32:11.792Z"
   },
   {
    "duration": 147,
    "start_time": "2023-10-28T18:32:11.800Z"
   },
   {
    "duration": 11,
    "start_time": "2023-10-28T18:32:11.949Z"
   },
   {
    "duration": 21,
    "start_time": "2023-10-28T18:32:11.962Z"
   },
   {
    "duration": 152,
    "start_time": "2023-10-28T18:32:11.985Z"
   },
   {
    "duration": 166,
    "start_time": "2023-10-28T18:32:12.139Z"
   },
   {
    "duration": 128,
    "start_time": "2023-10-28T18:32:12.306Z"
   },
   {
    "duration": 6,
    "start_time": "2023-10-28T18:32:12.435Z"
   },
   {
    "duration": 170,
    "start_time": "2023-10-28T18:32:12.442Z"
   },
   {
    "duration": 118,
    "start_time": "2023-10-28T18:32:12.614Z"
   },
   {
    "duration": 16,
    "start_time": "2023-10-28T18:32:12.733Z"
   },
   {
    "duration": 11,
    "start_time": "2023-10-28T18:32:12.750Z"
   },
   {
    "duration": 36,
    "start_time": "2023-10-28T18:32:12.764Z"
   },
   {
    "duration": 234,
    "start_time": "2023-10-28T18:32:12.802Z"
   },
   {
    "duration": 157,
    "start_time": "2023-10-28T18:32:13.038Z"
   },
   {
    "duration": 161,
    "start_time": "2023-10-28T18:32:13.196Z"
   },
   {
    "duration": 151,
    "start_time": "2023-10-28T18:32:13.360Z"
   },
   {
    "duration": 125,
    "start_time": "2023-10-28T18:32:13.514Z"
   },
   {
    "duration": 30,
    "start_time": "2023-10-28T18:32:13.641Z"
   },
   {
    "duration": 8,
    "start_time": "2023-10-28T18:32:13.673Z"
   },
   {
    "duration": 29,
    "start_time": "2023-10-28T18:32:13.682Z"
   },
   {
    "duration": 11,
    "start_time": "2023-10-28T18:32:13.712Z"
   },
   {
    "duration": 167,
    "start_time": "2023-10-28T18:32:13.725Z"
   },
   {
    "duration": 140,
    "start_time": "2023-10-28T18:32:13.902Z"
   },
   {
    "duration": 1191,
    "start_time": "2023-10-29T04:41:25.838Z"
   },
   {
    "duration": 254,
    "start_time": "2023-10-29T04:41:27.032Z"
   },
   {
    "duration": 12,
    "start_time": "2023-10-29T04:41:27.288Z"
   },
   {
    "duration": 12,
    "start_time": "2023-10-29T04:41:27.302Z"
   },
   {
    "duration": 8,
    "start_time": "2023-10-29T04:41:27.316Z"
   },
   {
    "duration": 18,
    "start_time": "2023-10-29T04:41:27.326Z"
   },
   {
    "duration": 18,
    "start_time": "2023-10-29T04:41:27.346Z"
   },
   {
    "duration": 7,
    "start_time": "2023-10-29T04:41:27.365Z"
   },
   {
    "duration": 24,
    "start_time": "2023-10-29T04:41:27.374Z"
   },
   {
    "duration": 7,
    "start_time": "2023-10-29T04:41:27.399Z"
   },
   {
    "duration": 16,
    "start_time": "2023-10-29T04:41:27.408Z"
   },
   {
    "duration": 5,
    "start_time": "2023-10-29T04:41:27.426Z"
   },
   {
    "duration": 7,
    "start_time": "2023-10-29T04:41:27.432Z"
   },
   {
    "duration": 14,
    "start_time": "2023-10-29T04:41:27.442Z"
   },
   {
    "duration": 15,
    "start_time": "2023-10-29T04:41:27.457Z"
   },
   {
    "duration": 14,
    "start_time": "2023-10-29T04:41:27.474Z"
   },
   {
    "duration": 145,
    "start_time": "2023-10-29T04:41:27.490Z"
   },
   {
    "duration": 9,
    "start_time": "2023-10-29T04:41:27.636Z"
   },
   {
    "duration": 4,
    "start_time": "2023-10-29T04:41:27.647Z"
   },
   {
    "duration": 142,
    "start_time": "2023-10-29T04:41:27.653Z"
   },
   {
    "duration": 150,
    "start_time": "2023-10-29T04:41:27.797Z"
   },
   {
    "duration": 118,
    "start_time": "2023-10-29T04:41:27.949Z"
   },
   {
    "duration": 6,
    "start_time": "2023-10-29T04:41:28.069Z"
   },
   {
    "duration": 150,
    "start_time": "2023-10-29T04:41:28.076Z"
   },
   {
    "duration": 110,
    "start_time": "2023-10-29T04:41:28.227Z"
   },
   {
    "duration": 17,
    "start_time": "2023-10-29T04:41:28.338Z"
   },
   {
    "duration": 10,
    "start_time": "2023-10-29T04:41:28.357Z"
   },
   {
    "duration": 6,
    "start_time": "2023-10-29T04:41:28.368Z"
   },
   {
    "duration": 167,
    "start_time": "2023-10-29T04:41:28.376Z"
   },
   {
    "duration": 144,
    "start_time": "2023-10-29T04:41:28.545Z"
   },
   {
    "duration": 158,
    "start_time": "2023-10-29T04:41:28.690Z"
   },
   {
    "duration": 153,
    "start_time": "2023-10-29T04:41:28.850Z"
   },
   {
    "duration": 124,
    "start_time": "2023-10-29T04:41:29.006Z"
   },
   {
    "duration": 29,
    "start_time": "2023-10-29T04:41:29.132Z"
   },
   {
    "duration": 7,
    "start_time": "2023-10-29T04:41:29.163Z"
   },
   {
    "duration": 18,
    "start_time": "2023-10-29T04:41:29.171Z"
   },
   {
    "duration": 19,
    "start_time": "2023-10-29T04:41:29.191Z"
   },
   {
    "duration": 147,
    "start_time": "2023-10-29T04:41:29.212Z"
   },
   {
    "duration": 146,
    "start_time": "2023-10-29T04:41:29.361Z"
   },
   {
    "duration": 13,
    "start_time": "2023-10-29T04:46:42.173Z"
   },
   {
    "duration": 1056,
    "start_time": "2023-10-29T04:49:13.508Z"
   },
   {
    "duration": 123,
    "start_time": "2023-10-29T04:49:14.566Z"
   },
   {
    "duration": 11,
    "start_time": "2023-10-29T04:49:14.693Z"
   },
   {
    "duration": 32,
    "start_time": "2023-10-29T04:49:14.706Z"
   },
   {
    "duration": 35,
    "start_time": "2023-10-29T04:49:14.739Z"
   },
   {
    "duration": 41,
    "start_time": "2023-10-29T04:49:14.775Z"
   },
   {
    "duration": 16,
    "start_time": "2023-10-29T04:49:14.818Z"
   },
   {
    "duration": 32,
    "start_time": "2023-10-29T04:49:14.836Z"
   },
   {
    "duration": 22,
    "start_time": "2023-10-29T04:49:14.869Z"
   },
   {
    "duration": 26,
    "start_time": "2023-10-29T04:49:14.893Z"
   },
   {
    "duration": 27,
    "start_time": "2023-10-29T04:49:14.921Z"
   },
   {
    "duration": 29,
    "start_time": "2023-10-29T04:49:14.949Z"
   },
   {
    "duration": 59,
    "start_time": "2023-10-29T04:49:14.980Z"
   },
   {
    "duration": 28,
    "start_time": "2023-10-29T04:49:15.041Z"
   },
   {
    "duration": 67,
    "start_time": "2023-10-29T04:49:15.070Z"
   },
   {
    "duration": 26,
    "start_time": "2023-10-29T04:49:15.138Z"
   },
   {
    "duration": 167,
    "start_time": "2023-10-29T04:49:15.166Z"
   },
   {
    "duration": 9,
    "start_time": "2023-10-29T04:49:15.334Z"
   },
   {
    "duration": 32,
    "start_time": "2023-10-29T04:49:15.344Z"
   },
   {
    "duration": 146,
    "start_time": "2023-10-29T04:49:15.378Z"
   },
   {
    "duration": 149,
    "start_time": "2023-10-29T04:49:15.526Z"
   },
   {
    "duration": 116,
    "start_time": "2023-10-29T04:49:15.677Z"
   },
   {
    "duration": 13,
    "start_time": "2023-10-29T04:49:15.794Z"
   },
   {
    "duration": 185,
    "start_time": "2023-10-29T04:49:15.810Z"
   },
   {
    "duration": 123,
    "start_time": "2023-10-29T04:49:15.998Z"
   },
   {
    "duration": 16,
    "start_time": "2023-10-29T04:49:16.123Z"
   },
   {
    "duration": 9,
    "start_time": "2023-10-29T04:49:16.140Z"
   },
   {
    "duration": 8,
    "start_time": "2023-10-29T04:49:16.150Z"
   },
   {
    "duration": 177,
    "start_time": "2023-10-29T04:49:16.160Z"
   },
   {
    "duration": 153,
    "start_time": "2023-10-29T04:49:16.339Z"
   },
   {
    "duration": 168,
    "start_time": "2023-10-29T04:49:16.493Z"
   },
   {
    "duration": 159,
    "start_time": "2023-10-29T04:49:16.662Z"
   },
   {
    "duration": 124,
    "start_time": "2023-10-29T04:49:16.822Z"
   },
   {
    "duration": 32,
    "start_time": "2023-10-29T04:49:16.947Z"
   },
   {
    "duration": 7,
    "start_time": "2023-10-29T04:49:16.980Z"
   },
   {
    "duration": 6,
    "start_time": "2023-10-29T04:49:17.007Z"
   },
   {
    "duration": 12,
    "start_time": "2023-10-29T04:49:17.014Z"
   },
   {
    "duration": 24,
    "start_time": "2023-10-29T04:49:17.028Z"
   },
   {
    "duration": 139,
    "start_time": "2023-10-29T04:49:17.053Z"
   },
   {
    "duration": 159,
    "start_time": "2023-10-29T04:49:17.195Z"
   },
   {
    "duration": 1094,
    "start_time": "2023-10-29T09:29:49.883Z"
   },
   {
    "duration": 200,
    "start_time": "2023-10-29T09:29:50.979Z"
   },
   {
    "duration": 10,
    "start_time": "2023-10-29T09:29:51.181Z"
   },
   {
    "duration": 36,
    "start_time": "2023-10-29T09:29:51.193Z"
   },
   {
    "duration": 15,
    "start_time": "2023-10-29T09:29:51.231Z"
   },
   {
    "duration": 26,
    "start_time": "2023-10-29T09:29:51.247Z"
   },
   {
    "duration": 6,
    "start_time": "2023-10-29T09:29:51.275Z"
   },
   {
    "duration": 21,
    "start_time": "2023-10-29T09:29:51.282Z"
   },
   {
    "duration": 19,
    "start_time": "2023-10-29T09:29:51.304Z"
   },
   {
    "duration": 14,
    "start_time": "2023-10-29T09:29:51.324Z"
   },
   {
    "duration": 16,
    "start_time": "2023-10-29T09:29:51.339Z"
   },
   {
    "duration": 16,
    "start_time": "2023-10-29T09:29:51.356Z"
   },
   {
    "duration": 7,
    "start_time": "2023-10-29T09:29:51.374Z"
   },
   {
    "duration": 11,
    "start_time": "2023-10-29T09:29:51.384Z"
   },
   {
    "duration": 11,
    "start_time": "2023-10-29T09:29:51.397Z"
   },
   {
    "duration": 25,
    "start_time": "2023-10-29T09:29:51.409Z"
   },
   {
    "duration": 166,
    "start_time": "2023-10-29T09:29:51.435Z"
   },
   {
    "duration": 10,
    "start_time": "2023-10-29T09:29:51.603Z"
   },
   {
    "duration": 12,
    "start_time": "2023-10-29T09:29:51.614Z"
   },
   {
    "duration": 129,
    "start_time": "2023-10-29T09:29:51.627Z"
   },
   {
    "duration": 151,
    "start_time": "2023-10-29T09:29:51.758Z"
   },
   {
    "duration": 106,
    "start_time": "2023-10-29T09:29:51.910Z"
   },
   {
    "duration": 5,
    "start_time": "2023-10-29T09:29:52.018Z"
   },
   {
    "duration": 153,
    "start_time": "2023-10-29T09:29:52.024Z"
   },
   {
    "duration": 99,
    "start_time": "2023-10-29T09:29:52.178Z"
   },
   {
    "duration": 13,
    "start_time": "2023-10-29T09:29:52.279Z"
   },
   {
    "duration": 8,
    "start_time": "2023-10-29T09:29:52.293Z"
   },
   {
    "duration": 11,
    "start_time": "2023-10-29T09:29:52.303Z"
   },
   {
    "duration": 180,
    "start_time": "2023-10-29T09:29:52.315Z"
   },
   {
    "duration": 169,
    "start_time": "2023-10-29T09:29:52.497Z"
   },
   {
    "duration": 156,
    "start_time": "2023-10-29T09:29:52.667Z"
   },
   {
    "duration": 131,
    "start_time": "2023-10-29T09:29:52.824Z"
   },
   {
    "duration": 92,
    "start_time": "2023-10-29T09:29:52.956Z"
   },
   {
    "duration": 24,
    "start_time": "2023-10-29T09:29:53.049Z"
   },
   {
    "duration": 6,
    "start_time": "2023-10-29T09:29:53.074Z"
   },
   {
    "duration": 36,
    "start_time": "2023-10-29T09:29:53.082Z"
   },
   {
    "duration": 7,
    "start_time": "2023-10-29T09:29:53.119Z"
   },
   {
    "duration": 163,
    "start_time": "2023-10-29T09:29:53.127Z"
   },
   {
    "duration": 125,
    "start_time": "2023-10-29T09:29:53.291Z"
   },
   {
    "duration": 117,
    "start_time": "2023-10-29T09:36:03.011Z"
   },
   {
    "duration": 118,
    "start_time": "2023-10-29T09:36:13.372Z"
   },
   {
    "duration": 1030,
    "start_time": "2023-10-29T09:38:29.320Z"
   },
   {
    "duration": 106,
    "start_time": "2023-10-29T09:38:30.352Z"
   },
   {
    "duration": 11,
    "start_time": "2023-10-29T09:38:30.459Z"
   },
   {
    "duration": 75,
    "start_time": "2023-10-29T09:38:30.472Z"
   },
   {
    "duration": 26,
    "start_time": "2023-10-29T09:38:30.549Z"
   },
   {
    "duration": 36,
    "start_time": "2023-10-29T09:38:30.576Z"
   },
   {
    "duration": 19,
    "start_time": "2023-10-29T09:38:30.614Z"
   },
   {
    "duration": 47,
    "start_time": "2023-10-29T09:38:30.634Z"
   },
   {
    "duration": 28,
    "start_time": "2023-10-29T09:38:30.682Z"
   },
   {
    "duration": 36,
    "start_time": "2023-10-29T09:38:30.712Z"
   },
   {
    "duration": 42,
    "start_time": "2023-10-29T09:38:30.750Z"
   },
   {
    "duration": 28,
    "start_time": "2023-10-29T09:38:30.793Z"
   },
   {
    "duration": 42,
    "start_time": "2023-10-29T09:38:30.822Z"
   },
   {
    "duration": 23,
    "start_time": "2023-10-29T09:38:30.865Z"
   },
   {
    "duration": 69,
    "start_time": "2023-10-29T09:38:30.889Z"
   },
   {
    "duration": 55,
    "start_time": "2023-10-29T09:38:30.960Z"
   },
   {
    "duration": 177,
    "start_time": "2023-10-29T09:38:31.017Z"
   },
   {
    "duration": 11,
    "start_time": "2023-10-29T09:38:31.196Z"
   },
   {
    "duration": 38,
    "start_time": "2023-10-29T09:38:31.209Z"
   },
   {
    "duration": 144,
    "start_time": "2023-10-29T09:38:31.249Z"
   },
   {
    "duration": 146,
    "start_time": "2023-10-29T09:38:31.395Z"
   },
   {
    "duration": 118,
    "start_time": "2023-10-29T09:38:31.542Z"
   },
   {
    "duration": 6,
    "start_time": "2023-10-29T09:38:31.662Z"
   },
   {
    "duration": 142,
    "start_time": "2023-10-29T09:38:31.670Z"
   },
   {
    "duration": 104,
    "start_time": "2023-10-29T09:38:31.814Z"
   },
   {
    "duration": 21,
    "start_time": "2023-10-29T09:38:31.919Z"
   },
   {
    "duration": 9,
    "start_time": "2023-10-29T09:38:31.942Z"
   },
   {
    "duration": 12,
    "start_time": "2023-10-29T09:38:31.955Z"
   },
   {
    "duration": 149,
    "start_time": "2023-10-29T09:38:31.969Z"
   },
   {
    "duration": 135,
    "start_time": "2023-10-29T09:38:32.120Z"
   },
   {
    "duration": 149,
    "start_time": "2023-10-29T09:38:32.256Z"
   },
   {
    "duration": 186,
    "start_time": "2023-10-29T09:38:32.407Z"
   },
   {
    "duration": 102,
    "start_time": "2023-10-29T09:38:32.594Z"
   },
   {
    "duration": 43,
    "start_time": "2023-10-29T09:38:32.697Z"
   },
   {
    "duration": 6,
    "start_time": "2023-10-29T09:38:32.741Z"
   },
   {
    "duration": 13,
    "start_time": "2023-10-29T09:38:32.748Z"
   },
   {
    "duration": 9,
    "start_time": "2023-10-29T09:38:32.763Z"
   },
   {
    "duration": 132,
    "start_time": "2023-10-29T09:38:32.773Z"
   },
   {
    "duration": 124,
    "start_time": "2023-10-29T09:38:32.907Z"
   },
   {
    "duration": 46,
    "start_time": "2023-10-29T09:43:52.078Z"
   },
   {
    "duration": 50,
    "start_time": "2023-10-29T09:45:19.298Z"
   },
   {
    "duration": 130,
    "start_time": "2023-10-29T09:46:08.442Z"
   },
   {
    "duration": 61,
    "start_time": "2023-10-29T09:48:30.717Z"
   },
   {
    "duration": 57,
    "start_time": "2023-10-29T09:48:49.134Z"
   },
   {
    "duration": 57,
    "start_time": "2023-10-29T09:49:05.074Z"
   },
   {
    "duration": 56,
    "start_time": "2023-10-29T09:49:16.491Z"
   },
   {
    "duration": 949,
    "start_time": "2023-10-29T09:50:13.974Z"
   },
   {
    "duration": 99,
    "start_time": "2023-10-29T09:50:14.925Z"
   },
   {
    "duration": 10,
    "start_time": "2023-10-29T09:50:15.025Z"
   },
   {
    "duration": 20,
    "start_time": "2023-10-29T09:50:15.037Z"
   },
   {
    "duration": 12,
    "start_time": "2023-10-29T09:50:15.060Z"
   },
   {
    "duration": 48,
    "start_time": "2023-10-29T09:50:15.073Z"
   },
   {
    "duration": 14,
    "start_time": "2023-10-29T09:50:15.123Z"
   },
   {
    "duration": 18,
    "start_time": "2023-10-29T09:50:15.138Z"
   },
   {
    "duration": 8,
    "start_time": "2023-10-29T09:50:15.157Z"
   },
   {
    "duration": 9,
    "start_time": "2023-10-29T09:50:15.166Z"
   },
   {
    "duration": 7,
    "start_time": "2023-10-29T09:50:15.176Z"
   },
   {
    "duration": 13,
    "start_time": "2023-10-29T09:50:15.184Z"
   },
   {
    "duration": 6,
    "start_time": "2023-10-29T09:50:15.198Z"
   },
   {
    "duration": 4,
    "start_time": "2023-10-29T09:50:15.207Z"
   },
   {
    "duration": 10,
    "start_time": "2023-10-29T09:50:15.212Z"
   },
   {
    "duration": 4,
    "start_time": "2023-10-29T09:50:15.223Z"
   },
   {
    "duration": 132,
    "start_time": "2023-10-29T09:50:15.228Z"
   },
   {
    "duration": 7,
    "start_time": "2023-10-29T09:50:15.361Z"
   },
   {
    "duration": 72,
    "start_time": "2023-10-29T09:50:15.369Z"
   },
   {
    "duration": 4,
    "start_time": "2023-10-29T09:50:15.442Z"
   },
   {
    "duration": 123,
    "start_time": "2023-10-29T09:50:15.447Z"
   },
   {
    "duration": 138,
    "start_time": "2023-10-29T09:50:15.571Z"
   },
   {
    "duration": 101,
    "start_time": "2023-10-29T09:50:15.710Z"
   },
   {
    "duration": 6,
    "start_time": "2023-10-29T09:50:15.812Z"
   },
   {
    "duration": 137,
    "start_time": "2023-10-29T09:50:15.819Z"
   },
   {
    "duration": 103,
    "start_time": "2023-10-29T09:50:15.957Z"
   },
   {
    "duration": 14,
    "start_time": "2023-10-29T09:50:16.062Z"
   },
   {
    "duration": 7,
    "start_time": "2023-10-29T09:50:16.078Z"
   },
   {
    "duration": 6,
    "start_time": "2023-10-29T09:50:16.086Z"
   },
   {
    "duration": 154,
    "start_time": "2023-10-29T09:50:16.093Z"
   },
   {
    "duration": 141,
    "start_time": "2023-10-29T09:50:16.249Z"
   },
   {
    "duration": 136,
    "start_time": "2023-10-29T09:50:16.391Z"
   },
   {
    "duration": 170,
    "start_time": "2023-10-29T09:50:16.528Z"
   },
   {
    "duration": 26,
    "start_time": "2023-10-29T09:50:16.700Z"
   },
   {
    "duration": 33,
    "start_time": "2023-10-29T09:50:16.728Z"
   },
   {
    "duration": 6,
    "start_time": "2023-10-29T09:50:16.762Z"
   },
   {
    "duration": 6,
    "start_time": "2023-10-29T09:50:16.769Z"
   },
   {
    "duration": 5,
    "start_time": "2023-10-29T09:50:16.777Z"
   },
   {
    "duration": 135,
    "start_time": "2023-10-29T09:50:16.783Z"
   },
   {
    "duration": 127,
    "start_time": "2023-10-29T09:50:16.919Z"
   },
   {
    "duration": 7,
    "start_time": "2023-10-29T09:53:21.876Z"
   },
   {
    "duration": 3,
    "start_time": "2023-10-29T09:55:13.630Z"
   },
   {
    "duration": 3,
    "start_time": "2023-10-29T09:56:46.935Z"
   },
   {
    "duration": 15,
    "start_time": "2023-10-29T09:57:34.887Z"
   },
   {
    "duration": 20,
    "start_time": "2023-10-29T09:57:56.016Z"
   },
   {
    "duration": 974,
    "start_time": "2023-10-29T09:58:52.577Z"
   },
   {
    "duration": 103,
    "start_time": "2023-10-29T09:58:53.552Z"
   },
   {
    "duration": 10,
    "start_time": "2023-10-29T09:58:53.656Z"
   },
   {
    "duration": 7,
    "start_time": "2023-10-29T09:58:53.667Z"
   },
   {
    "duration": 15,
    "start_time": "2023-10-29T09:58:53.675Z"
   },
   {
    "duration": 19,
    "start_time": "2023-10-29T09:58:53.691Z"
   },
   {
    "duration": 7,
    "start_time": "2023-10-29T09:58:53.711Z"
   },
   {
    "duration": 10,
    "start_time": "2023-10-29T09:58:53.719Z"
   },
   {
    "duration": 14,
    "start_time": "2023-10-29T09:58:53.731Z"
   },
   {
    "duration": 11,
    "start_time": "2023-10-29T09:58:53.746Z"
   },
   {
    "duration": 6,
    "start_time": "2023-10-29T09:58:53.758Z"
   },
   {
    "duration": 6,
    "start_time": "2023-10-29T09:58:53.766Z"
   },
   {
    "duration": 9,
    "start_time": "2023-10-29T09:58:53.774Z"
   },
   {
    "duration": 10,
    "start_time": "2023-10-29T09:58:53.785Z"
   },
   {
    "duration": 24,
    "start_time": "2023-10-29T09:58:53.796Z"
   },
   {
    "duration": 6,
    "start_time": "2023-10-29T09:58:53.821Z"
   },
   {
    "duration": 139,
    "start_time": "2023-10-29T09:58:53.829Z"
   },
   {
    "duration": 8,
    "start_time": "2023-10-29T09:58:53.969Z"
   },
   {
    "duration": 78,
    "start_time": "2023-10-29T09:58:53.979Z"
   },
   {
    "duration": 4,
    "start_time": "2023-10-29T09:58:54.059Z"
   },
   {
    "duration": 123,
    "start_time": "2023-10-29T09:58:54.064Z"
   },
   {
    "duration": 137,
    "start_time": "2023-10-29T09:58:54.188Z"
   },
   {
    "duration": 93,
    "start_time": "2023-10-29T09:58:54.327Z"
   },
   {
    "duration": 7,
    "start_time": "2023-10-29T09:58:54.421Z"
   },
   {
    "duration": 14,
    "start_time": "2023-10-29T09:58:54.429Z"
   },
   {
    "duration": 127,
    "start_time": "2023-10-29T09:58:54.444Z"
   },
   {
    "duration": 103,
    "start_time": "2023-10-29T09:58:54.572Z"
   },
   {
    "duration": 4,
    "start_time": "2023-10-29T09:58:54.676Z"
   },
   {
    "duration": 28,
    "start_time": "2023-10-29T09:58:54.681Z"
   },
   {
    "duration": 13,
    "start_time": "2023-10-29T09:58:54.711Z"
   },
   {
    "duration": 16,
    "start_time": "2023-10-29T09:58:54.726Z"
   },
   {
    "duration": 135,
    "start_time": "2023-10-29T09:58:54.743Z"
   },
   {
    "duration": 129,
    "start_time": "2023-10-29T09:58:54.880Z"
   },
   {
    "duration": 135,
    "start_time": "2023-10-29T09:58:55.011Z"
   },
   {
    "duration": 174,
    "start_time": "2023-10-29T09:58:55.148Z"
   },
   {
    "duration": 36,
    "start_time": "2023-10-29T09:58:55.323Z"
   },
   {
    "duration": 25,
    "start_time": "2023-10-29T09:58:55.360Z"
   },
   {
    "duration": 6,
    "start_time": "2023-10-29T09:58:55.387Z"
   },
   {
    "duration": 7,
    "start_time": "2023-10-29T09:58:55.394Z"
   },
   {
    "duration": 6,
    "start_time": "2023-10-29T09:58:55.402Z"
   },
   {
    "duration": 120,
    "start_time": "2023-10-29T09:58:55.439Z"
   },
   {
    "duration": 126,
    "start_time": "2023-10-29T09:58:55.561Z"
   },
   {
    "duration": 99,
    "start_time": "2023-10-29T10:09:12.793Z"
   },
   {
    "duration": 27,
    "start_time": "2023-10-29T10:09:28.478Z"
   },
   {
    "duration": 16,
    "start_time": "2023-10-29T10:10:51.284Z"
   },
   {
    "duration": 27,
    "start_time": "2023-10-29T10:11:02.119Z"
   },
   {
    "duration": 27,
    "start_time": "2023-10-29T10:11:24.780Z"
   },
   {
    "duration": 974,
    "start_time": "2023-10-29T10:11:38.211Z"
   },
   {
    "duration": 82,
    "start_time": "2023-10-29T10:11:39.186Z"
   },
   {
    "duration": 10,
    "start_time": "2023-10-29T10:11:39.269Z"
   },
   {
    "duration": 6,
    "start_time": "2023-10-29T10:11:39.280Z"
   },
   {
    "duration": 5,
    "start_time": "2023-10-29T10:11:39.288Z"
   },
   {
    "duration": 10,
    "start_time": "2023-10-29T10:11:39.294Z"
   },
   {
    "duration": 6,
    "start_time": "2023-10-29T10:11:39.305Z"
   },
   {
    "duration": 7,
    "start_time": "2023-10-29T10:11:39.312Z"
   },
   {
    "duration": 5,
    "start_time": "2023-10-29T10:11:39.320Z"
   },
   {
    "duration": 14,
    "start_time": "2023-10-29T10:11:39.326Z"
   },
   {
    "duration": 4,
    "start_time": "2023-10-29T10:11:39.341Z"
   },
   {
    "duration": 4,
    "start_time": "2023-10-29T10:11:39.347Z"
   },
   {
    "duration": 5,
    "start_time": "2023-10-29T10:11:39.352Z"
   },
   {
    "duration": 4,
    "start_time": "2023-10-29T10:11:39.359Z"
   },
   {
    "duration": 7,
    "start_time": "2023-10-29T10:11:39.363Z"
   },
   {
    "duration": 4,
    "start_time": "2023-10-29T10:11:39.371Z"
   },
   {
    "duration": 158,
    "start_time": "2023-10-29T10:11:39.376Z"
   },
   {
    "duration": 7,
    "start_time": "2023-10-29T10:11:39.539Z"
   },
   {
    "duration": 58,
    "start_time": "2023-10-29T10:11:39.547Z"
   },
   {
    "duration": 5,
    "start_time": "2023-10-29T10:11:39.606Z"
   },
   {
    "duration": 132,
    "start_time": "2023-10-29T10:11:39.612Z"
   },
   {
    "duration": 135,
    "start_time": "2023-10-29T10:11:39.745Z"
   },
   {
    "duration": 100,
    "start_time": "2023-10-29T10:11:39.881Z"
   },
   {
    "duration": 7,
    "start_time": "2023-10-29T10:11:39.982Z"
   },
   {
    "duration": 6,
    "start_time": "2023-10-29T10:11:39.990Z"
   },
   {
    "duration": 146,
    "start_time": "2023-10-29T10:11:39.997Z"
   },
   {
    "duration": 102,
    "start_time": "2023-10-29T10:11:40.144Z"
   },
   {
    "duration": 3,
    "start_time": "2023-10-29T10:11:40.248Z"
   },
   {
    "duration": 25,
    "start_time": "2023-10-29T10:11:40.253Z"
   },
   {
    "duration": 7,
    "start_time": "2023-10-29T10:11:40.279Z"
   },
   {
    "duration": 5,
    "start_time": "2023-10-29T10:11:40.287Z"
   },
   {
    "duration": 154,
    "start_time": "2023-10-29T10:11:40.293Z"
   },
   {
    "duration": 124,
    "start_time": "2023-10-29T10:11:40.448Z"
   },
   {
    "duration": 134,
    "start_time": "2023-10-29T10:11:40.574Z"
   },
   {
    "duration": 188,
    "start_time": "2023-10-29T10:11:40.709Z"
   },
   {
    "duration": 28,
    "start_time": "2023-10-29T10:11:40.898Z"
   },
   {
    "duration": 35,
    "start_time": "2023-10-29T10:11:40.927Z"
   },
   {
    "duration": 5,
    "start_time": "2023-10-29T10:11:40.963Z"
   },
   {
    "duration": 9,
    "start_time": "2023-10-29T10:11:40.969Z"
   },
   {
    "duration": 6,
    "start_time": "2023-10-29T10:11:40.979Z"
   },
   {
    "duration": 138,
    "start_time": "2023-10-29T10:11:40.988Z"
   },
   {
    "duration": 132,
    "start_time": "2023-10-29T10:11:41.128Z"
   },
   {
    "duration": 6,
    "start_time": "2023-10-29T10:13:08.881Z"
   },
   {
    "duration": 113,
    "start_time": "2023-10-29T10:17:29.537Z"
   },
   {
    "duration": 1081,
    "start_time": "2023-10-29T10:18:37.479Z"
   },
   {
    "duration": 101,
    "start_time": "2023-10-29T10:18:38.561Z"
   },
   {
    "duration": 11,
    "start_time": "2023-10-29T10:18:38.663Z"
   },
   {
    "duration": 7,
    "start_time": "2023-10-29T10:18:38.675Z"
   },
   {
    "duration": 6,
    "start_time": "2023-10-29T10:18:38.684Z"
   },
   {
    "duration": 10,
    "start_time": "2023-10-29T10:18:38.692Z"
   },
   {
    "duration": 6,
    "start_time": "2023-10-29T10:18:38.703Z"
   },
   {
    "duration": 3,
    "start_time": "2023-10-29T10:18:38.710Z"
   },
   {
    "duration": 4,
    "start_time": "2023-10-29T10:18:38.714Z"
   },
   {
    "duration": 22,
    "start_time": "2023-10-29T10:18:38.720Z"
   },
   {
    "duration": 5,
    "start_time": "2023-10-29T10:18:38.744Z"
   },
   {
    "duration": 5,
    "start_time": "2023-10-29T10:18:38.750Z"
   },
   {
    "duration": 5,
    "start_time": "2023-10-29T10:18:38.756Z"
   },
   {
    "duration": 4,
    "start_time": "2023-10-29T10:18:38.762Z"
   },
   {
    "duration": 9,
    "start_time": "2023-10-29T10:18:38.767Z"
   },
   {
    "duration": 5,
    "start_time": "2023-10-29T10:18:38.777Z"
   },
   {
    "duration": 164,
    "start_time": "2023-10-29T10:18:38.783Z"
   },
   {
    "duration": 8,
    "start_time": "2023-10-29T10:18:38.948Z"
   },
   {
    "duration": 62,
    "start_time": "2023-10-29T10:18:38.958Z"
   },
   {
    "duration": 4,
    "start_time": "2023-10-29T10:18:39.021Z"
   },
   {
    "duration": 142,
    "start_time": "2023-10-29T10:18:39.026Z"
   },
   {
    "duration": 134,
    "start_time": "2023-10-29T10:18:39.169Z"
   },
   {
    "duration": 99,
    "start_time": "2023-10-29T10:18:39.304Z"
   },
   {
    "duration": 7,
    "start_time": "2023-10-29T10:18:39.404Z"
   },
   {
    "duration": 6,
    "start_time": "2023-10-29T10:18:39.412Z"
   },
   {
    "duration": 129,
    "start_time": "2023-10-29T10:18:39.419Z"
   },
   {
    "duration": 97,
    "start_time": "2023-10-29T10:18:39.549Z"
   },
   {
    "duration": 4,
    "start_time": "2023-10-29T10:18:39.649Z"
   },
   {
    "duration": 19,
    "start_time": "2023-10-29T10:18:39.654Z"
   },
   {
    "duration": 7,
    "start_time": "2023-10-29T10:18:39.675Z"
   },
   {
    "duration": 8,
    "start_time": "2023-10-29T10:18:39.683Z"
   },
   {
    "duration": 148,
    "start_time": "2023-10-29T10:18:39.692Z"
   },
   {
    "duration": 131,
    "start_time": "2023-10-29T10:18:39.841Z"
   },
   {
    "duration": 136,
    "start_time": "2023-10-29T10:18:39.973Z"
   },
   {
    "duration": 185,
    "start_time": "2023-10-29T10:18:40.111Z"
   },
   {
    "duration": 27,
    "start_time": "2023-10-29T10:18:40.298Z"
   },
   {
    "duration": 35,
    "start_time": "2023-10-29T10:18:40.326Z"
   },
   {
    "duration": 5,
    "start_time": "2023-10-29T10:18:40.362Z"
   },
   {
    "duration": 8,
    "start_time": "2023-10-29T10:18:40.368Z"
   },
   {
    "duration": 6,
    "start_time": "2023-10-29T10:18:40.377Z"
   },
   {
    "duration": 133,
    "start_time": "2023-10-29T10:18:40.384Z"
   },
   {
    "duration": 128,
    "start_time": "2023-10-29T10:18:40.518Z"
   },
   {
    "duration": 1113,
    "start_time": "2023-10-29T16:24:45.743Z"
   },
   {
    "duration": 132,
    "start_time": "2023-10-29T16:24:46.859Z"
   },
   {
    "duration": 12,
    "start_time": "2023-10-29T16:24:46.993Z"
   },
   {
    "duration": 45,
    "start_time": "2023-10-29T16:24:47.007Z"
   },
   {
    "duration": 31,
    "start_time": "2023-10-29T16:24:47.053Z"
   },
   {
    "duration": 28,
    "start_time": "2023-10-29T16:24:47.085Z"
   },
   {
    "duration": 31,
    "start_time": "2023-10-29T16:24:47.116Z"
   },
   {
    "duration": 33,
    "start_time": "2023-10-29T16:24:47.150Z"
   },
   {
    "duration": 26,
    "start_time": "2023-10-29T16:24:47.185Z"
   },
   {
    "duration": 31,
    "start_time": "2023-10-29T16:24:47.215Z"
   },
   {
    "duration": 42,
    "start_time": "2023-10-29T16:24:47.248Z"
   },
   {
    "duration": 48,
    "start_time": "2023-10-29T16:24:47.291Z"
   },
   {
    "duration": 35,
    "start_time": "2023-10-29T16:24:47.341Z"
   },
   {
    "duration": 27,
    "start_time": "2023-10-29T16:24:47.377Z"
   },
   {
    "duration": 49,
    "start_time": "2023-10-29T16:24:47.407Z"
   },
   {
    "duration": 22,
    "start_time": "2023-10-29T16:24:47.458Z"
   },
   {
    "duration": 202,
    "start_time": "2023-10-29T16:24:47.481Z"
   },
   {
    "duration": 9,
    "start_time": "2023-10-29T16:24:47.684Z"
   },
   {
    "duration": 126,
    "start_time": "2023-10-29T16:24:47.695Z"
   },
   {
    "duration": 5,
    "start_time": "2023-10-29T16:24:47.822Z"
   },
   {
    "duration": 196,
    "start_time": "2023-10-29T16:24:47.829Z"
   },
   {
    "duration": 165,
    "start_time": "2023-10-29T16:24:48.026Z"
   },
   {
    "duration": 126,
    "start_time": "2023-10-29T16:24:48.193Z"
   },
   {
    "duration": 10,
    "start_time": "2023-10-29T16:24:48.322Z"
   },
   {
    "duration": 26,
    "start_time": "2023-10-29T16:24:48.334Z"
   },
   {
    "duration": 164,
    "start_time": "2023-10-29T16:24:48.362Z"
   },
   {
    "duration": 129,
    "start_time": "2023-10-29T16:24:48.528Z"
   },
   {
    "duration": 4,
    "start_time": "2023-10-29T16:24:48.660Z"
   },
   {
    "duration": 56,
    "start_time": "2023-10-29T16:24:48.666Z"
   },
   {
    "duration": 9,
    "start_time": "2023-10-29T16:24:48.724Z"
   },
   {
    "duration": 17,
    "start_time": "2023-10-29T16:24:48.734Z"
   },
   {
    "duration": 186,
    "start_time": "2023-10-29T16:24:48.753Z"
   },
   {
    "duration": 162,
    "start_time": "2023-10-29T16:24:48.941Z"
   },
   {
    "duration": 163,
    "start_time": "2023-10-29T16:24:49.111Z"
   },
   {
    "duration": 262,
    "start_time": "2023-10-29T16:24:49.276Z"
   },
   {
    "duration": 32,
    "start_time": "2023-10-29T16:24:49.540Z"
   },
   {
    "duration": 51,
    "start_time": "2023-10-29T16:24:49.573Z"
   },
   {
    "duration": 7,
    "start_time": "2023-10-29T16:24:49.625Z"
   },
   {
    "duration": 18,
    "start_time": "2023-10-29T16:24:49.633Z"
   },
   {
    "duration": 17,
    "start_time": "2023-10-29T16:24:49.653Z"
   },
   {
    "duration": 159,
    "start_time": "2023-10-29T16:24:49.671Z"
   },
   {
    "duration": 151,
    "start_time": "2023-10-29T16:24:49.832Z"
   },
   {
    "duration": 58,
    "start_time": "2023-10-29T16:54:42.173Z"
   }
  ],
  "kernelspec": {
   "display_name": "Python 3 (ipykernel)",
   "language": "python",
   "name": "python3"
  },
  "language_info": {
   "codemirror_mode": {
    "name": "ipython",
    "version": 3
   },
   "file_extension": ".py",
   "mimetype": "text/x-python",
   "name": "python",
   "nbconvert_exporter": "python",
   "pygments_lexer": "ipython3",
   "version": "3.10.12"
  },
  "toc": {
   "base_numbering": 1,
   "nav_menu": {},
   "number_sections": true,
   "sideBar": true,
   "skip_h1_title": true,
   "title_cell": "Table of Contents",
   "title_sidebar": "Contents",
   "toc_cell": false,
   "toc_position": {},
   "toc_section_display": true,
   "toc_window_display": false
  }
 },
 "nbformat": 4,
 "nbformat_minor": 5
}
